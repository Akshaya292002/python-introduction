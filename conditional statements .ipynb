{
 "cells": [
  {
   "cell_type": "markdown",
   "id": "31b27585-9880-470a-ad9a-8fcfb4e9145d",
   "metadata": {},
   "source": [
    "# 1. define conditional statements\n",
    "- conditional statements are ued to control the flow of a program based on certain conditions\n",
    "- the if,else,elif keywords are used for creating conditional statements"
   ]
  },
  {
   "cell_type": "markdown",
   "id": "0568b937-0f23-4937-92f0-efc1a36f5470",
   "metadata": {},
   "source": [
    "2. if statement:\n",
    "- if statement executes a block of code only if the specified condition is met\n",
    "- it returns the output when the if condition is met"
   ]
  },
  {
   "cell_type": "code",
   "execution_count": 35,
   "id": "6625cba9-dbe7-4566-a865-4dea499b06c7",
   "metadata": {},
   "outputs": [
    {
     "name": "stdout",
     "output_type": "stream",
     "text": [
      "it is greater\n"
     ]
    }
   ],
   "source": [
    "#example\n",
    "a=55\n",
    "b=45\n",
    "if a>b:\n",
    "    print('it is greater')"
   ]
  },
  {
   "cell_type": "code",
   "execution_count": 7,
   "id": "f4934c76-211a-467a-b390-d78b0b2d6d87",
   "metadata": {},
   "outputs": [
    {
     "name": "stdout",
     "output_type": "stream",
     "text": [
      "smaller\n"
     ]
    }
   ],
   "source": [
    "a=55\n",
    "b=45\n",
    "if a>b:\n",
    "    print('smaller')"
   ]
  },
  {
   "cell_type": "markdown",
   "id": "d094e7cc-a720-4470-8b32-a3fb053c5b0d",
   "metadata": {},
   "source": [
    "3. else statement:\n",
    "- this is used when they are two statements to solve\n",
    "- it is an if statement which can have an optional else clause"
   ]
  },
  {
   "cell_type": "code",
   "execution_count": 9,
   "id": "db539a3d-9765-4656-a6f3-275ffc492cc5",
   "metadata": {},
   "outputs": [
    {
     "name": "stdout",
     "output_type": "stream",
     "text": [
      "a is greater\n"
     ]
    }
   ],
   "source": [
    "#example\n",
    "a=55\n",
    "b=45\n",
    "if a>b:\n",
    "    print('a is greater')\n",
    "else:\n",
    "    print('b is smaller')"
   ]
  },
  {
   "cell_type": "markdown",
   "id": "df6b79e6-cab4-49ce-92a0-d839de5a7645",
   "metadata": {},
   "source": [
    "4. elif statement:\n",
    "- elif conditions is used to when they are three argumemts"
   ]
  },
  {
   "cell_type": "code",
   "execution_count": 17,
   "id": "ccbdef57-cfd8-4b44-b41f-41e42a8c4c3b",
   "metadata": {},
   "outputs": [
    {
     "name": "stdout",
     "output_type": "stream",
     "text": [
      "c is maximum\n"
     ]
    }
   ],
   "source": [
    "#example\n",
    "a=1\n",
    "b=5\n",
    "c=8\n",
    "if a>b & a>c:\n",
    "    print('a is maximum')\n",
    "elif b>a & b>c:\n",
    "    print('b is maximum')\n",
    "else:\n",
    "    print('c is maximum')"
   ]
  },
  {
   "cell_type": "markdown",
   "id": "f748d744-8679-42ff-9d45-9b7266d50b3f",
   "metadata": {},
   "source": [
    "# 1. write a program to check given year is a leap year or not"
   ]
  },
  {
   "cell_type": "code",
   "execution_count": 17,
   "id": "b6aaef91-a638-4670-9647-39c8b640fc59",
   "metadata": {},
   "outputs": [
    {
     "name": "stdin",
     "output_type": "stream",
     "text": [
      "enter a year 2002\n"
     ]
    },
    {
     "name": "stdout",
     "output_type": "stream",
     "text": [
      "2002 is not a leap year\n"
     ]
    }
   ],
   "source": [
    "year=int(input(\"enter a year\"))\n",
    "if(year%4==0):\n",
    "    print(year,\"is a leap year\")\n",
    "else:\n",
    "    print(year,\"is not a leap year\")"
   ]
  },
  {
   "cell_type": "markdown",
   "id": "fa7c5aa5-11c6-4855-ad7c-7c2ba00025ba",
   "metadata": {},
   "source": [
    "# 2. write aq python program to find a given number is even or odd"
   ]
  },
  {
   "cell_type": "code",
   "execution_count": 19,
   "id": "4c877a56-d2c8-4c82-b38e-14f43596e8db",
   "metadata": {},
   "outputs": [
    {
     "name": "stdin",
     "output_type": "stream",
     "text": [
      "please enter a number 7\n"
     ]
    },
    {
     "name": "stdout",
     "output_type": "stream",
     "text": [
      "7 is a odd\n"
     ]
    }
   ],
   "source": [
    "number=int(input(\"please enter a number\"))\n",
    "if (number%2==0):\n",
    "    print(number,\"is a even\")\n",
    "else:\n",
    "    print(number,\"is a odd\")"
   ]
  },
  {
   "cell_type": "markdown",
   "id": "3b5d4cbd-6392-4744-a7ac-da529fc3a919",
   "metadata": {},
   "source": [
    "# 3. write a python program to check if a list is empty or not"
   ]
  },
  {
   "cell_type": "code",
   "execution_count": 23,
   "id": "ef3ffc46-d2eb-4634-98d5-84d2c75d25f5",
   "metadata": {},
   "outputs": [
    {
     "name": "stdin",
     "output_type": "stream",
     "text": [
      "enter the elements in list \n"
     ]
    },
    {
     "name": "stdout",
     "output_type": "stream",
     "text": [
      "list is empty\n"
     ]
    }
   ],
   "source": [
    "user=input(\"enter the elements in list\")\n",
    "list=[]\n",
    "if (not list):\n",
    "    print(\"list is empty\")\n",
    "else:\n",
    "    (\"list is not empty\")"
   ]
  },
  {
   "cell_type": "markdown",
   "id": "087f45d0-dc31-414d-9e7d-1d802494758a",
   "metadata": {},
   "source": [
    "# 4.write a python code to calculate grade of a student if the student marks >90 print grade A,>80 print grade B,>70 print grade C,>60 print grade D,>50 print grade E and <50 print grade F "
   ]
  },
  {
   "cell_type": "code",
   "execution_count": 33,
   "id": "d599583d-83f1-4edd-bd05-cfef392e43d5",
   "metadata": {},
   "outputs": [
    {
     "name": "stdout",
     "output_type": "stream",
     "text": [
      "C\n"
     ]
    }
   ],
   "source": [
    "marks=75\n",
    "if marks>90:\n",
    "    print(\"A\")\n",
    "elif marks>80:\n",
    "    print(\"B\")\n",
    "elif marks>70:\n",
    "    print(\"C\")\n",
    "elif marks>60:\n",
    "    print(\"D\")\n",
    "elif marks>50:\n",
    "    print(\"E\")\n",
    "else:\n",
    "    print(\"fail\")"
   ]
  },
  {
   "cell_type": "markdown",
   "id": "fd559d02-6de0-492a-b8b7-7b0ae8a64995",
   "metadata": {},
   "source": [
    "# 5. check whether given word is a palindrome or not\n",
    "- polindrome in python is a word number,sentence or string that reads the same forward and backward\n",
    "example: madam,dad,and 12321"
   ]
  },
  {
   "cell_type": "code",
   "execution_count": 19,
   "id": "50b4b89a-ec1b-48fb-aba5-0d70a9dfdc97",
   "metadata": {},
   "outputs": [
    {
     "name": "stdin",
     "output_type": "stream",
     "text": [
      "enter a word: madam\n"
     ]
    },
    {
     "name": "stdout",
     "output_type": "stream",
     "text": [
      "a is a polindrome\n"
     ]
    }
   ],
   "source": [
    "a=input('enter a word:')\n",
    "if a ==a[::-1]:\n",
    "    print('a is a polindrome')\n",
    "else:\n",
    "    print('a is not a polindrome')"
   ]
  },
  {
   "cell_type": "markdown",
   "id": "57ffda72-25fc-4ef5-a7f8-fbcb81231bb4",
   "metadata": {},
   "source": [
    "# 6. write a python program to find the smallest among three numbers"
   ]
  },
  {
   "cell_type": "code",
   "execution_count": 21,
   "id": "0df169ac-9a9a-49b6-b706-589863dd031d",
   "metadata": {},
   "outputs": [
    {
     "name": "stdin",
     "output_type": "stream",
     "text": [
      "enter 1 number: 3\n",
      "enter 2 number: 5\n",
      "enter 3 number: 7\n"
     ]
    },
    {
     "name": "stdout",
     "output_type": "stream",
     "text": [
      "a is smaller\n"
     ]
    }
   ],
   "source": [
    "a=int(input('enter 1 number:'))\n",
    "b=int(input('enter 2 number:'))\n",
    "c=int(input('enter 3 number:'))\n",
    "if a<b and a<c:\n",
    "    print('a is smaller')\n",
    "elif b<a and b<c:\n",
    "    print('b is smaller')\n",
    "else:\n",
    "    print(c is smaller)"
   ]
  },
  {
   "cell_type": "markdown",
   "id": "9df99603-29a7-4ff4-b48f-7af9f2dd0b67",
   "metadata": {},
   "source": [
    "# 7. find the second largest number in a list"
   ]
  },
  {
   "cell_type": "code",
   "execution_count": 35,
   "id": "6af02af7-7aa0-4332-b78b-2dc64d979e02",
   "metadata": {},
   "outputs": [
    {
     "name": "stdout",
     "output_type": "stream",
     "text": [
      "99\n"
     ]
    }
   ],
   "source": [
    "numbers=[2,5,666,7,8,99]\n",
    "x=sorted(numbers)[-2]\n",
    "print(x)"
   ]
  },
  {
   "cell_type": "markdown",
   "id": "156468c0-b258-4e7d-8942-7d37775e44b2",
   "metadata": {},
   "source": [
    "# 8. calculate BMI and categorize it"
   ]
  },
  {
   "cell_type": "code",
   "execution_count": 43,
   "id": "af7baf4d-5198-4d01-ace1-8be09cddf8e6",
   "metadata": {},
   "outputs": [
    {
     "name": "stdin",
     "output_type": "stream",
     "text": [
      "enter the height in cm 124\n",
      "enter the weight in kg 44\n"
     ]
    },
    {
     "name": "stdout",
     "output_type": "stream",
     "text": [
      "28.61602497398543\n",
      "normalweight\n"
     ]
    }
   ],
   "source": [
    "height1=int(input('enter the height in cm'))\n",
    "weight=int(input('enter the weight in kg'))\n",
    "h=height1/100\n",
    "bmi=(weight/(h**2))\n",
    "print(bmi)\n",
    "if bmi<=22.5:\n",
    "    print('underweight')\n",
    "elif bmi<+44:\n",
    "    print('normalweight')\n",
    "else:\n",
    "    print('overweight')"
   ]
  },
  {
   "cell_type": "markdown",
   "id": "afae3efb-7260-446c-bc60-157f174d9d83",
   "metadata": {},
   "source": [
    "# 9. write a python program to check vote eligibility"
   ]
  },
  {
   "cell_type": "code",
   "execution_count": 45,
   "id": "5589c6e9-ada5-42de-9176-8cbf68d6a62a",
   "metadata": {},
   "outputs": [
    {
     "name": "stdin",
     "output_type": "stream",
     "text": [
      "enter a number 22\n"
     ]
    },
    {
     "name": "stdout",
     "output_type": "stream",
     "text": [
      "eligible\n"
     ]
    }
   ],
   "source": [
    "a=int(input('enter a number'))\n",
    "if x<=18:\n",
    "    print('not eligible')\n",
    "else:\n",
    "    print('eligible')"
   ]
  },
  {
   "cell_type": "markdown",
   "id": "07103e7d-038f-488b-8464-361caf3d3141",
   "metadata": {},
   "source": [
    "# 10. write a python program to find the person age belongs to which type of group school group or workgroup or retired group"
   ]
  },
  {
   "cell_type": "code",
   "execution_count": 49,
   "id": "7cf6e2f4-c2b9-4bb2-834a-fe2cc45b4ea1",
   "metadata": {},
   "outputs": [
    {
     "name": "stdin",
     "output_type": "stream",
     "text": [
      "enter the age 34\n"
     ]
    },
    {
     "name": "stdout",
     "output_type": "stream",
     "text": [
      "he is work group\n"
     ]
    }
   ],
   "source": [
    "age=int(input('enter the age'))\n",
    "if age<=22:\n",
    "    print('he is school group')\n",
    "elif age<=50:\n",
    "    print('he is work group')\n",
    "else:\n",
    "    print('he is retired group')"
   ]
  }
 ],
 "metadata": {
  "kernelspec": {
   "display_name": "Python 3 (ipykernel)",
   "language": "python",
   "name": "python3"
  },
  "language_info": {
   "codemirror_mode": {
    "name": "ipython",
    "version": 3
   },
   "file_extension": ".py",
   "mimetype": "text/x-python",
   "name": "python",
   "nbconvert_exporter": "python",
   "pygments_lexer": "ipython3",
   "version": "3.12.4"
  }
 },
 "nbformat": 4,
 "nbformat_minor": 5
}
