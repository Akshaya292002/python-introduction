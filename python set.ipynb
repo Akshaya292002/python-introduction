{
 "cells": [
  {
   "cell_type": "markdown",
   "id": "c082f8c6-93b5-4fe4-b73f-07f88d6666fa",
   "metadata": {},
   "source": [
    "# 1. define set\n",
    "- a set is a collection of unique elements\n",
    "- it is defined using curly braces{} and seperated by comma(,)\n",
    "- sets are used to store multiple items in a single variable\n",
    "- sets are unordered,mutable and do not allow duplicte elements\n",
    "- sets provide a variety of methods for performing common set operations like union ,intersection,difference and more"
   ]
  },
  {
   "cell_type": "markdown",
   "id": "e7a0bbdd-7916-4f90-a923-77e6173c2193",
   "metadata": {},
   "source": [
    "# 2. examples of sets"
   ]
  },
  {
   "cell_type": "code",
   "execution_count": 1,
   "id": "84af7944-5380-40d1-bb5a-2d7328b8cf71",
   "metadata": {},
   "outputs": [
    {
     "name": "stdout",
     "output_type": "stream",
     "text": [
      "<class 'set'>\n"
     ]
    }
   ],
   "source": [
    "name={'akshaya','ram','srija'}\n",
    "print(type(name))"
   ]
  },
  {
   "cell_type": "code",
   "execution_count": 3,
   "id": "3a557601-c29a-4a7f-a434-dd65bbb3d892",
   "metadata": {},
   "outputs": [
    {
     "name": "stdout",
     "output_type": "stream",
     "text": [
      "{'hardik', 'mahi', 'sanju', 'gill'}\n"
     ]
    }
   ],
   "source": [
    "cricketers={'mahi','gill','hardik','sanju'}\n",
    "print(cricketers)"
   ]
  },
  {
   "cell_type": "code",
   "execution_count": 5,
   "id": "539a52b5-484b-42ae-8bdc-ffbccaf6defa",
   "metadata": {},
   "outputs": [
    {
     "name": "stdout",
     "output_type": "stream",
     "text": [
      "{1, 2, 3, 5, 7, 8, 9}\n"
     ]
    }
   ],
   "source": [
    "num={1,2,3,5,7,8,9}\n",
    "print(num)"
   ]
  },
  {
   "cell_type": "code",
   "execution_count": 13,
   "id": "66b13b17-525c-4430-b9dd-ffb840023843",
   "metadata": {},
   "outputs": [
    {
     "name": "stdout",
     "output_type": "stream",
     "text": [
      "{'7', 'akshaya', 'gill', '7+8j'}\n"
     ]
    }
   ],
   "source": [
    "mixed_set={'akshaya','7','gill','7+8j'}\n",
    "print(mixed_set)"
   ]
  },
  {
   "cell_type": "code",
   "execution_count": 19,
   "id": "fd6c3c70-44b1-4be6-b474-583bf4aef816",
   "metadata": {},
   "outputs": [
    {
     "name": "stdout",
     "output_type": "stream",
     "text": [
      "{1, 2, 3, 5, 9}\n"
     ]
    }
   ],
   "source": [
    "num={1,2,3,5,9}\n",
    "print(num)"
   ]
  },
  {
   "cell_type": "code",
   "execution_count": 137,
   "id": "21089071-34f4-4e62-8921-b4698c19f070",
   "metadata": {},
   "outputs": [
    {
     "name": "stdout",
     "output_type": "stream",
     "text": [
      "{}\n"
     ]
    }
   ],
   "source": [
    "empty={}\n",
    "print(empty)"
   ]
  },
  {
   "cell_type": "code",
   "execution_count": 139,
   "id": "10bbe386-da75-4062-b50d-0ea0ed2379cf",
   "metadata": {},
   "outputs": [
    {
     "name": "stdout",
     "output_type": "stream",
     "text": [
      "{'ram'}\n",
      "<class 'set'>\n"
     ]
    }
   ],
   "source": [
    "name={'ram'}\n",
    "print(name)\n",
    "print(type(name))"
   ]
  },
  {
   "cell_type": "code",
   "execution_count": 141,
   "id": "0d3f4415-f773-4eba-b1a3-5b6a4a5e5c23",
   "metadata": {},
   "outputs": [
    {
     "name": "stdout",
     "output_type": "stream",
     "text": [
      "{66.8, 99.7, 44.8}\n"
     ]
    }
   ],
   "source": [
    "num={99.7,66.8,44.8}\n",
    "print(num)"
   ]
  },
  {
   "cell_type": "code",
   "execution_count": 143,
   "id": "f25e6113-720e-4dd4-b188-1db76ed2c399",
   "metadata": {},
   "outputs": [
    {
     "name": "stdout",
     "output_type": "stream",
     "text": [
      "{'banana', 'mango', 'apple'}\n"
     ]
    }
   ],
   "source": [
    "fruits={'banana','apple','mango'}\n",
    "print(fruits)"
   ]
  },
  {
   "cell_type": "code",
   "execution_count": 145,
   "id": "29e6de26-2508-4a70-88a7-46ae8fe4753a",
   "metadata": {},
   "outputs": [
    {
     "name": "stdout",
     "output_type": "stream",
     "text": [
      "<class 'set'>\n"
     ]
    }
   ],
   "source": [
    "print(type(fruits))"
   ]
  },
  {
   "cell_type": "code",
   "execution_count": 153,
   "id": "a14d776b-5378-4072-9fea-684d43e2ac34",
   "metadata": {},
   "outputs": [
    {
     "name": "stdout",
     "output_type": "stream",
     "text": [
      "<class 'set'>\n",
      "{'ferrari', 'porsche', 'thar'}\n"
     ]
    }
   ],
   "source": [
    "cars={'ferrari','porsche','thar'}\n",
    "print(type(cars))\n",
    "print(cars)"
   ]
  },
  {
   "cell_type": "markdown",
   "id": "73f4ad2f-ec8d-4d16-8caf-fb4564c0a7c3",
   "metadata": {},
   "source": [
    "# 3. convert one type to another set"
   ]
  },
  {
   "cell_type": "code",
   "execution_count": 15,
   "id": "e7a936d0-78b7-42ae-b411-b80f1ea03489",
   "metadata": {},
   "outputs": [
    {
     "name": "stdout",
     "output_type": "stream",
     "text": [
      "{'srija', 'akshaya', 'ram'}\n",
      "<class 'set'>\n"
     ]
    }
   ],
   "source": [
    "name={'akshaya','ram','srija'}\n",
    "z=set(name)\n",
    "print(z)\n",
    "print(type(z))"
   ]
  },
  {
   "cell_type": "code",
   "execution_count": 17,
   "id": "7359b1fb-6989-46d3-be9e-b1d52f2474be",
   "metadata": {},
   "outputs": [
    {
     "name": "stdout",
     "output_type": "stream",
     "text": [
      "{1, 2, 3, 5, 7, 8, 9}\n",
      "<class 'set'>\n"
     ]
    }
   ],
   "source": [
    "num={1,2,3,5,7,8,9}\n",
    "z=set(num)\n",
    "print(z)\n",
    "print(type(z))"
   ]
  },
  {
   "cell_type": "code",
   "execution_count": 21,
   "id": "8f9138d7-e6aa-44e4-bc9a-02a7cb05fbd7",
   "metadata": {},
   "outputs": [
    {
     "name": "stdout",
     "output_type": "stream",
     "text": [
      "{'7', 'akshaya', 'gill', '7+8j'}\n",
      "<class 'set'>\n"
     ]
    }
   ],
   "source": [
    "mixed_set={'akshaya','7','gill','7+8j'}\n",
    "a=set(mixed_set)\n",
    "print(a)\n",
    "print(type(a))"
   ]
  },
  {
   "cell_type": "code",
   "execution_count": 23,
   "id": "130e646c-a55a-45c5-81a9-faee0f5f6a35",
   "metadata": {},
   "outputs": [
    {
     "name": "stdout",
     "output_type": "stream",
     "text": [
      "{'hardik', 'mahi', 'sanju', 'gill'}\n",
      "<class 'set'>\n"
     ]
    }
   ],
   "source": [
    "cricketers={'mahi','gill','hardik','sanju'}\n",
    "a=set(cricketers)\n",
    "print(a)\n",
    "print(type(a))"
   ]
  },
  {
   "cell_type": "code",
   "execution_count": 25,
   "id": "aee97d84-1c79-4bb4-bfbb-435570653f27",
   "metadata": {},
   "outputs": [
    {
     "name": "stdout",
     "output_type": "stream",
     "text": [
      "{'banana', 'mango', 'apple'}\n",
      "<class 'set'>\n"
     ]
    }
   ],
   "source": [
    "fruits={'apple','banana','mango'}\n",
    "a=set(fruits)\n",
    "print(a)\n",
    "print(type(a))"
   ]
  },
  {
   "cell_type": "markdown",
   "id": "b6ac9f26-db3b-4841-b10a-c15a3a30b68c",
   "metadata": {},
   "source": [
    "# 4. add and updating set items"
   ]
  },
  {
   "cell_type": "code",
   "execution_count": 27,
   "id": "ba31c6a8-54f8-4eaf-8aa0-cf0a878fc52d",
   "metadata": {},
   "outputs": [
    {
     "name": "stdout",
     "output_type": "stream",
     "text": [
      "{1, 2, 3, 4, 5, 6, 7, 8, 9, 10}\n",
      "updated: {1, 2, 3, 4, 5, 6, 7, 8, 9, 10, 100}\n"
     ]
    }
   ],
   "source": [
    "a={1,2,3,4,5,6,7,8,9,10}\n",
    "print(a)\n",
    "a.add(100,)\n",
    "print(\"updated:\",a)"
   ]
  },
  {
   "cell_type": "code",
   "execution_count": 29,
   "id": "b6e3dba6-97fa-4d6f-b1e7-5a41fe468cdd",
   "metadata": {},
   "outputs": [
    {
     "name": "stdout",
     "output_type": "stream",
     "text": [
      "{66.7, 99, 4, 55, 88}\n"
     ]
    }
   ],
   "source": [
    "a={4,88,99,55}\n",
    "a.add(66.7)\n",
    "print(a)"
   ]
  },
  {
   "cell_type": "code",
   "execution_count": 31,
   "id": "a9cf6bba-3887-432b-83a8-71f48d9ae1e8",
   "metadata": {},
   "outputs": [
    {
     "name": "stdout",
     "output_type": "stream",
     "text": [
      "{'sanju', 'hardik', 'rutu', 'mahi', 'gill'}\n"
     ]
    }
   ],
   "source": [
    "cricketers={'mahi','gill','hardik','sanju'}\n",
    "cricketers.add('rutu')\n",
    "print(cricketers)"
   ]
  },
  {
   "cell_type": "code",
   "execution_count": 51,
   "id": "2298d320-4cca-48e5-bf38-1955e704b2d5",
   "metadata": {},
   "outputs": [
    {
     "name": "stdout",
     "output_type": "stream",
     "text": [
      "{1, 6, 7, 8, 9, 10}\n",
      "updated: {1, 100, 6, 7, 8, 9, 10}\n"
     ]
    }
   ],
   "source": [
    "a={1,6,7,8,9,10}\n",
    "print(a)\n",
    "a.add(100,)\n",
    "print(\"updated:\",a)"
   ]
  },
  {
   "cell_type": "code",
   "execution_count": 37,
   "id": "b0904c88-0b92-42d0-86b5-fe4c241a13ba",
   "metadata": {},
   "outputs": [
    {
     "name": "stdout",
     "output_type": "stream",
     "text": [
      "{1, 2, 3, 4, 5, 6, 7, 100, 10}\n"
     ]
    }
   ],
   "source": [
    "a={1,2,3,4,5,6,7,10}\n",
    "a.add(100,)\n",
    "print(a)"
   ]
  },
  {
   "cell_type": "code",
   "execution_count": 45,
   "id": "881936ee-a766-4e5c-90fc-faba66751033",
   "metadata": {},
   "outputs": [
    {
     "name": "stdout",
     "output_type": "stream",
     "text": [
      "{1, 2, 3, 4, 5, 6, 7, 8, 9, 10, 77, 55, 88}\n"
     ]
    }
   ],
   "source": [
    "a={1,2,3,4,5,6,7,8,9,10}\n",
    "c={55,77,88}\n",
    "a.update(c)\n",
    "print(a)"
   ]
  },
  {
   "cell_type": "code",
   "execution_count": 47,
   "id": "fc28792a-0209-438a-bdef-665453acf074",
   "metadata": {},
   "outputs": [
    {
     "name": "stdout",
     "output_type": "stream",
     "text": [
      "{'sanju', 'hardik', 'rutu', 'mahi', 'gill'}\n"
     ]
    }
   ],
   "source": [
    "cricketers={'mahi','gill','hardik','sanju'}\n",
    "v={'rutu'}\n",
    "cricketers.update(v)\n",
    "print(cricketers)"
   ]
  },
  {
   "cell_type": "code",
   "execution_count": 49,
   "id": "701cbd39-008a-4a62-8906-8ed3d7d77729",
   "metadata": {},
   "outputs": [
    {
     "name": "stdout",
     "output_type": "stream",
     "text": [
      "{99, 4, 100, 55, 88}\n"
     ]
    }
   ],
   "source": [
    "a={4,88,99,55}\n",
    "j={100}\n",
    "a.update(j)\n",
    "print(a)"
   ]
  },
  {
   "cell_type": "code",
   "execution_count": 53,
   "id": "d9fcb8f3-98f3-44d2-a454-5e77f00fa891",
   "metadata": {},
   "outputs": [
    {
     "name": "stdout",
     "output_type": "stream",
     "text": [
      "{'grapes', 'banana', 'mango', 'apple'}\n"
     ]
    }
   ],
   "source": [
    "fruits={'apple','mango','grapes'}\n",
    "z={'banana'}\n",
    "fruits.update(z)\n",
    "print(fruits)"
   ]
  },
  {
   "cell_type": "code",
   "execution_count": 55,
   "id": "eae183f2-ea05-4561-a192-5ee60655b5eb",
   "metadata": {},
   "outputs": [
    {
     "name": "stdout",
     "output_type": "stream",
     "text": [
      "{'srija', 'akshaya', 'ram', 'chandu'}\n"
     ]
    }
   ],
   "source": [
    "name={'akshaya','ram','srija'}\n",
    "z={'chandu'}\n",
    "name.update(z)\n",
    "print(name)"
   ]
  },
  {
   "cell_type": "markdown",
   "id": "66aa7932-6de6-450a-af45-68891496928f",
   "metadata": {},
   "source": [
    "# 5. removing an element from the set"
   ]
  },
  {
   "cell_type": "code",
   "execution_count": 59,
   "id": "37b67344-1a7e-430f-9f81-a88dd472b0ce",
   "metadata": {},
   "outputs": [
    {
     "name": "stdout",
     "output_type": "stream",
     "text": [
      "{'hardik', 'mahi', 'gill'}\n"
     ]
    }
   ],
   "source": [
    "cricketers={'mahi','gill','hardik','sanju'}\n",
    "removed=cricketers.discard('sanju')\n",
    "print(cricketers)"
   ]
  },
  {
   "cell_type": "code",
   "execution_count": 63,
   "id": "fd60ec77-9b68-40c4-a8cc-048a0c5a26a9",
   "metadata": {},
   "outputs": [
    {
     "name": "stdout",
     "output_type": "stream",
     "text": [
      "{'banana', 'apple'}\n"
     ]
    }
   ],
   "source": [
    "fruits={'apple','banana','mango'}\n",
    "a=fruits.discard('mango')\n",
    "print(fruits)"
   ]
  },
  {
   "cell_type": "code",
   "execution_count": 65,
   "id": "476af14a-5d33-47c5-9d18-471a75213a77",
   "metadata": {},
   "outputs": [
    {
     "name": "stdout",
     "output_type": "stream",
     "text": [
      "{'akshaya', 'ram'}\n"
     ]
    }
   ],
   "source": [
    "name={'akshaya','ram','srija'}\n",
    "z=name.discard('srija')\n",
    "print(name)"
   ]
  },
  {
   "cell_type": "code",
   "execution_count": 67,
   "id": "2d24a5d6-7de5-4ab7-b026-db51e09adf29",
   "metadata": {},
   "outputs": [
    {
     "name": "stdout",
     "output_type": "stream",
     "text": [
      "{1, 2, 3, 5, 8, 9}\n"
     ]
    }
   ],
   "source": [
    "num={1,2,3,5,7,8,9}\n",
    "v=num.discard(7)\n",
    "print(num)"
   ]
  },
  {
   "cell_type": "code",
   "execution_count": 69,
   "id": "971e4367-fc0f-4a99-8e45-b382c21cda14",
   "metadata": {},
   "outputs": [
    {
     "name": "stdout",
     "output_type": "stream",
     "text": [
      "{2, 3, 5, 9}\n"
     ]
    }
   ],
   "source": [
    "num={1,2,3,5,9}\n",
    "n=num.discard(1)\n",
    "print(num)"
   ]
  },
  {
   "cell_type": "code",
   "execution_count": 71,
   "id": "b533f268-a1ee-4417-bf57-3d7a30e29d45",
   "metadata": {},
   "outputs": [
    {
     "name": "stdout",
     "output_type": "stream",
     "text": [
      "{'hardik', 'mahi', 'gill'}\n"
     ]
    }
   ],
   "source": [
    "cricketers={'mahi','gill','hardik','sanju'}\n",
    "cricketers.remove('sanju')\n",
    "print(cricketers)"
   ]
  },
  {
   "cell_type": "code",
   "execution_count": 73,
   "id": "ace5b4e9-0e8e-4f5b-8de2-63c130f1c327",
   "metadata": {},
   "outputs": [
    {
     "name": "stdout",
     "output_type": "stream",
     "text": [
      "{2, 3, 5, 9}\n"
     ]
    }
   ],
   "source": [
    "num={1,2,3,5,9}\n",
    "num.remove(1)\n",
    "print(num)"
   ]
  },
  {
   "cell_type": "code",
   "execution_count": 75,
   "id": "cfed17ed-9330-4bbc-a418-6058310aa5eb",
   "metadata": {},
   "outputs": [
    {
     "name": "stdout",
     "output_type": "stream",
     "text": [
      "{'akshaya', 'ram'}\n"
     ]
    }
   ],
   "source": [
    "name={'akshaya','ram','srija'}\n",
    "z=name.remove('srija')\n",
    "print(name)"
   ]
  },
  {
   "cell_type": "code",
   "execution_count": 77,
   "id": "4f83792d-f74b-4edb-b5ba-3590ba09d2a1",
   "metadata": {},
   "outputs": [
    {
     "name": "stdout",
     "output_type": "stream",
     "text": [
      "{'banana', 'apple'}\n"
     ]
    }
   ],
   "source": [
    "fruits={'apple','banana','mango'}\n",
    "a=fruits.remove('mango')\n",
    "print(fruits)"
   ]
  },
  {
   "cell_type": "code",
   "execution_count": 79,
   "id": "4cbdd926-a766-4c26-afad-0e57780f74f2",
   "metadata": {},
   "outputs": [
    {
     "name": "stdout",
     "output_type": "stream",
     "text": [
      "{2, 3, 5, 9}\n"
     ]
    }
   ],
   "source": [
    "num={1,2,3,5,9}\n",
    "n=num.remove(1)\n",
    "print(num)"
   ]
  },
  {
   "cell_type": "markdown",
   "id": "c4181f1d-2085-46b8-bcc4-942bb1ded262",
   "metadata": {},
   "source": [
    "# 6.python set operations"
   ]
  },
  {
   "cell_type": "markdown",
   "id": "53ccc8be-ff5a-4933-8de6-f3fa198771ee",
   "metadata": {},
   "source": [
    "1. union: it combines element in two sets"
   ]
  },
  {
   "cell_type": "code",
   "execution_count": 81,
   "id": "cee2b917-e6c8-4a7f-a4eb-4379b5c1cb2d",
   "metadata": {},
   "outputs": [
    {
     "name": "stdout",
     "output_type": "stream",
     "text": [
      "{1, 2, 3, 4, 5, 6, 7, 8, 9, 10, 77, 55, 88}\n"
     ]
    }
   ],
   "source": [
    "#example\n",
    "a={1,2,3,4,5,6,7,8,9,10}\n",
    "c={55,77,88,77}\n",
    "print(a.union(c))"
   ]
  },
  {
   "cell_type": "markdown",
   "id": "9dde5786-f44e-4d2a-bdaa-d202fc7e7e47",
   "metadata": {},
   "source": [
    "2. intersection: the intersection of two sets a and b include the common elements between set a and b"
   ]
  },
  {
   "cell_type": "code",
   "execution_count": 83,
   "id": "372c79b3-826f-44f7-92c6-b2e64164c1e0",
   "metadata": {},
   "outputs": [
    {
     "name": "stdout",
     "output_type": "stream",
     "text": [
      "{3, 4, 5}\n"
     ]
    }
   ],
   "source": [
    "a={1,2,3,4,5}\n",
    "b={3,4,5,6,7}\n",
    "print(a.intersection(b))"
   ]
  },
  {
   "cell_type": "markdown",
   "id": "1f483c17-f5dc-4e38-a650-9f09079004bc",
   "metadata": {},
   "source": [
    "3. difference: the difference between two sets a and b include elements of set a that are not present on set b"
   ]
  },
  {
   "cell_type": "code",
   "execution_count": 85,
   "id": "a856bf20-1148-4a4a-8433-640f81cc58a0",
   "metadata": {},
   "outputs": [
    {
     "name": "stdout",
     "output_type": "stream",
     "text": [
      "{1, 2}\n"
     ]
    }
   ],
   "source": [
    "a={1,2,3,4,5}\n",
    "b={3,4,5,6,7}\n",
    "print(a.difference(b))"
   ]
  },
  {
   "cell_type": "markdown",
   "id": "f0ae062e-68da-4863-8e82-45af5a9cdf30",
   "metadata": {},
   "source": [
    "4. symmetric_difference: the symmetric difference between two sets a and b includes all elements of a and b without common elements"
   ]
  },
  {
   "cell_type": "code",
   "execution_count": 87,
   "id": "6f8c4f63-91e5-4e91-bb8d-28608773554e",
   "metadata": {},
   "outputs": [
    {
     "name": "stdout",
     "output_type": "stream",
     "text": [
      "{1, 2, 6, 7}\n"
     ]
    }
   ],
   "source": [
    "a={1,2,3,4,5}\n",
    "b={3,4,5,6,7}\n",
    "print(a.symmetric_difference(b))"
   ]
  },
  {
   "cell_type": "markdown",
   "id": "5919f096-2712-41fd-b419-4af74f77093d",
   "metadata": {},
   "source": [
    "# 7.methods in sets"
   ]
  },
  {
   "cell_type": "markdown",
   "id": "65ed7bca-932a-49e6-a1d1-12132d9e7466",
   "metadata": {},
   "source": [
    "1. add: it adds new element to the set"
   ]
  },
  {
   "cell_type": "code",
   "execution_count": 95,
   "id": "45a119ee-4385-4389-88e4-31ffd67fb79c",
   "metadata": {},
   "outputs": [
    {
     "name": "stdout",
     "output_type": "stream",
     "text": [
      "{1, 2, 3, 4, 5, 90}\n"
     ]
    }
   ],
   "source": [
    "a={1,2,3,4,5}\n",
    "a.add(90)\n",
    "print(a)"
   ]
  },
  {
   "cell_type": "markdown",
   "id": "fad4a18b-6e13-45eb-b145-0f19f015687f",
   "metadata": {},
   "source": [
    "2. clear: removes the all elements from the list"
   ]
  },
  {
   "cell_type": "code",
   "execution_count": 97,
   "id": "81da11f0-400b-4f80-a5ec-3fb3fd7032d4",
   "metadata": {},
   "outputs": [
    {
     "name": "stdout",
     "output_type": "stream",
     "text": [
      "set()\n"
     ]
    }
   ],
   "source": [
    "a={1,2,3,4,5}\n",
    "a.clear()\n",
    "print(a)"
   ]
  },
  {
   "cell_type": "markdown",
   "id": "415c4673-6574-41c7-b213-a8b60a776d84",
   "metadata": {},
   "source": [
    "3. copy: it returns the copy of the set"
   ]
  },
  {
   "cell_type": "code",
   "execution_count": 99,
   "id": "cedff0cd-26ec-4aaa-b11c-b7a6c338bbc0",
   "metadata": {},
   "outputs": [
    {
     "name": "stdout",
     "output_type": "stream",
     "text": [
      "{1, 2, 3, 4, 5}\n"
     ]
    }
   ],
   "source": [
    "a={1,2,3,4,5}\n",
    "a.copy()\n",
    "print(a)"
   ]
  },
  {
   "cell_type": "markdown",
   "id": "3406d811-9404-4fc2-a139-74105db6afd4",
   "metadata": {},
   "source": [
    "4. difference: returns the element which are present in the first set but not in the second"
   ]
  },
  {
   "cell_type": "code",
   "execution_count": 103,
   "id": "65663487-724f-484c-97ce-017426ac887a",
   "metadata": {},
   "outputs": [
    {
     "name": "stdout",
     "output_type": "stream",
     "text": [
      "{1, 2, 3}\n"
     ]
    }
   ],
   "source": [
    "a={1,2,3,4,5}\n",
    "b={4,5,6,7}\n",
    "print(a-b)"
   ]
  },
  {
   "cell_type": "markdown",
   "id": "63f2f93c-f7a0-4ffc-b501-c4bd4e1c3de4",
   "metadata": {},
   "source": [
    "5. difference_update: removes the item in this set that are also included in another,specified set"
   ]
  },
  {
   "cell_type": "code",
   "execution_count": 105,
   "id": "5aa90da4-7b9b-45d1-9bf3-3aaa0c4f2b95",
   "metadata": {},
   "outputs": [
    {
     "name": "stdout",
     "output_type": "stream",
     "text": [
      "{1, 2, 3}\n"
     ]
    }
   ],
   "source": [
    "a={1,2,3,4,5}\n",
    "b={4,5,6,7}\n",
    "a.difference_update(b)\n",
    "print(a)"
   ]
  },
  {
   "cell_type": "markdown",
   "id": "c085d341-c4a2-4374-9d87-23787116d1fc",
   "metadata": {},
   "source": [
    "6. discard:removes the specific element from the list"
   ]
  },
  {
   "cell_type": "code",
   "execution_count": 107,
   "id": "1286f0a8-9e5d-488d-814f-8001ff22488d",
   "metadata": {},
   "outputs": [
    {
     "name": "stdout",
     "output_type": "stream",
     "text": [
      "{1, 2, 4, 5}\n"
     ]
    }
   ],
   "source": [
    "a={1,2,3,4,5}\n",
    "b=a.remove(3)\n",
    "print(a)"
   ]
  },
  {
   "cell_type": "markdown",
   "id": "bddd33b7-4ebe-4195-98d4-4899aec1e13f",
   "metadata": {},
   "source": [
    "7. intersection: it returns the elements which are common in two sets"
   ]
  },
  {
   "cell_type": "code",
   "execution_count": 109,
   "id": "b84ad68d-61ab-4ca1-b188-182a543b8c08",
   "metadata": {},
   "outputs": [
    {
     "name": "stdout",
     "output_type": "stream",
     "text": [
      "{3, 4, 5}\n"
     ]
    }
   ],
   "source": [
    "a={1,2,3,4,5}\n",
    "b={3,4,5,6,7}\n",
    "print(a.intersection(b))"
   ]
  },
  {
   "cell_type": "markdown",
   "id": "f0f99b4d-8dc5-4308-8e75-b1be792942f4",
   "metadata": {},
   "source": [
    "8. intersection_update:removes the items in this set that are not present in other,specified sets"
   ]
  },
  {
   "cell_type": "code",
   "execution_count": 113,
   "id": "b2fd1972-b32a-40e3-9940-f20c666df5aa",
   "metadata": {},
   "outputs": [
    {
     "name": "stdout",
     "output_type": "stream",
     "text": [
      "{3, 4, 5}\n"
     ]
    }
   ],
   "source": [
    "a={1,2,3,4,5}\n",
    "b={3,4,5,6,7}\n",
    "a.intersection_update(b)\n",
    "print(a)"
   ]
  },
  {
   "cell_type": "markdown",
   "id": "da1bf7a7-f089-41e4-ab0f-99f39ab19d3f",
   "metadata": {},
   "source": [
    "9. union:it combines element in two sets"
   ]
  },
  {
   "cell_type": "code",
   "execution_count": 169,
   "id": "388424fc-5bfc-4fd9-9258-fad86014c6ab",
   "metadata": {},
   "outputs": [
    {
     "name": "stdout",
     "output_type": "stream",
     "text": [
      "{1, 2, 3, 4, 5, 6, 7, 8, 9, 10, 77, 55, 88}\n"
     ]
    }
   ],
   "source": [
    "#example\n",
    "a={1,2,3,4,5,6,7,8,9,10}\n",
    "c={55,77,88,77}\n",
    "print(a.union(c))"
   ]
  },
  {
   "cell_type": "markdown",
   "id": "630831c4-8059-4813-82b6-523c4a40f047",
   "metadata": {},
   "source": [
    "10. update: it adds the element to the set"
   ]
  },
  {
   "cell_type": "code",
   "execution_count": 172,
   "id": "73c2c177-5178-49b0-9924-a640c5851046",
   "metadata": {},
   "outputs": [
    {
     "name": "stdout",
     "output_type": "stream",
     "text": [
      "{1, 2, 3, 4, 5, 6, 7, 8, 9, 10, 77, 55, 88}\n"
     ]
    }
   ],
   "source": [
    "#example\n",
    "a={1,2,3,4,5,6,7,8,9,10}\n",
    "c={55,77,88,77}\n",
    "a.update(c)\n",
    "print(a)"
   ]
  },
  {
   "cell_type": "markdown",
   "id": "a817edbb-cf64-432a-b048-f14ca12b1019",
   "metadata": {},
   "source": [
    "11. remove:it removes the specific element from the set"
   ]
  },
  {
   "cell_type": "code",
   "execution_count": 119,
   "id": "fbb4e2d0-f0be-4f35-8696-0cbc77752dd2",
   "metadata": {},
   "outputs": [
    {
     "name": "stdout",
     "output_type": "stream",
     "text": [
      "{2, 3, 5, 9}\n"
     ]
    }
   ],
   "source": [
    "num={1,2,3,5,9}\n",
    "num.remove(1)\n",
    "print(num)"
   ]
  },
  {
   "cell_type": "markdown",
   "id": "f1af1c7b-270e-4ca1-be66-368d915ec614",
   "metadata": {},
   "source": [
    "12. symmetric difference: the symmetric difference between two sets are a and b includes all elements of a and b without common elements"
   ]
  },
  {
   "cell_type": "code",
   "execution_count": 121,
   "id": "68db77f5-2572-4077-8307-20b83c8d6fa5",
   "metadata": {},
   "outputs": [
    {
     "name": "stdout",
     "output_type": "stream",
     "text": [
      "{1, 2, 6, 7}\n"
     ]
    }
   ],
   "source": [
    "a={1,2,3,4,5}\n",
    "b={3,4,5,6,7}\n",
    "print(a.symmetric_difference(b))"
   ]
  },
  {
   "cell_type": "markdown",
   "id": "150e76e8-1668-4d83-b341-069d2f3275b3",
   "metadata": {},
   "source": [
    "13. symmetric_difference_update: it updates the existing caller set with the symmetric difference of sets"
   ]
  },
  {
   "cell_type": "code",
   "execution_count": 127,
   "id": "863df6db-2854-4ac1-b04d-df06b1eb5a8d",
   "metadata": {},
   "outputs": [
    {
     "name": "stdout",
     "output_type": "stream",
     "text": [
      "{1, 2, 6, 7}\n"
     ]
    }
   ],
   "source": [
    "a={1,2,3,4,5}\n",
    "b={3,4,5,6,7}\n",
    "a.symmetric_difference_update(b)\n",
    "print(a)"
   ]
  },
  {
   "cell_type": "markdown",
   "id": "572d4253-a871-4fe0-b643-d4fd008f17db",
   "metadata": {},
   "source": [
    "14. pop: it removes an element from the set"
   ]
  },
  {
   "cell_type": "code",
   "execution_count": 129,
   "id": "d621c1c6-1699-4d0d-bdfd-6b553bdf7280",
   "metadata": {},
   "outputs": [
    {
     "name": "stdout",
     "output_type": "stream",
     "text": [
      "{2, 3, 4, 5}\n"
     ]
    }
   ],
   "source": [
    "a={1,2,3,4,5}\n",
    "a.pop()\n",
    "print(a)"
   ]
  },
  {
   "cell_type": "markdown",
   "id": "d2f85585-648d-4644-bbaf-f405a7f92a91",
   "metadata": {},
   "source": [
    "15. isdisjoint: it checks whether the sets are disjoin or not,it returns true if they arent any common elements and false when it has"
   ]
  },
  {
   "cell_type": "code",
   "execution_count": 131,
   "id": "3da9b3f8-119a-4e25-a24f-eddc72865f35",
   "metadata": {},
   "outputs": [
    {
     "name": "stdout",
     "output_type": "stream",
     "text": [
      "False\n"
     ]
    }
   ],
   "source": [
    "a={1,2,3,4,5}\n",
    "b={3,4,5,6,7}\n",
    "c=a.isdisjoint(b)\n",
    "print(c)"
   ]
  },
  {
   "cell_type": "markdown",
   "id": "c02bed61-3b8d-4191-be59-a0c1c712954e",
   "metadata": {},
   "source": [
    "16. issubset: it returns whether another set contains this set or not"
   ]
  },
  {
   "cell_type": "code",
   "execution_count": 133,
   "id": "e9c85a8e-9018-4a80-b66c-af4c3e6bc3a4",
   "metadata": {},
   "outputs": [
    {
     "name": "stdout",
     "output_type": "stream",
     "text": [
      "False\n"
     ]
    }
   ],
   "source": [
    "a={1,2,3,4,5,88,99}\n",
    "b={3,4,5,6,7}\n",
    "print(b.issubset(a))"
   ]
  },
  {
   "cell_type": "markdown",
   "id": "429fbafb-7cb4-40e4-961f-1d7cdb2ca3cb",
   "metadata": {},
   "source": [
    "17. issuperset: it returns whether this set contains another set or not"
   ]
  },
  {
   "cell_type": "code",
   "execution_count": 135,
   "id": "0d9b13e7-b5b1-46d0-86eb-4307fd48ebe8",
   "metadata": {},
   "outputs": [
    {
     "name": "stdout",
     "output_type": "stream",
     "text": [
      "False\n"
     ]
    }
   ],
   "source": [
    "a={1,2,3,4,5}\n",
    "b={3,4,5,6,7}\n",
    "print(a.issubset(b))"
   ]
  }
 ],
 "metadata": {
  "kernelspec": {
   "display_name": "Python 3 (ipykernel)",
   "language": "python",
   "name": "python3"
  },
  "language_info": {
   "codemirror_mode": {
    "name": "ipython",
    "version": 3
   },
   "file_extension": ".py",
   "mimetype": "text/x-python",
   "name": "python",
   "nbconvert_exporter": "python",
   "pygments_lexer": "ipython3",
   "version": "3.12.4"
  }
 },
 "nbformat": 4,
 "nbformat_minor": 5
}
