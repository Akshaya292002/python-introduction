{
 "cells": [
  {
   "cell_type": "markdown",
   "id": "97f48bf5-8c5b-4b00-a408-fcc564769697",
   "metadata": {},
   "source": [
    "# 1. explain about operators\n",
    "- operators are used to perform some operations between the variables and values\n",
    "- there are several operators which performs the function and they are combination of symbols,numbers and keywors ets\n",
    "- there are seven types of operators in python"
   ]
  },
  {
   "cell_type": "markdown",
   "id": "7ac7773f-f03d-4a15-a272-c3e1dd40f77c",
   "metadata": {},
   "source": [
    "# 2. Types of operators\n",
    "there are 7 types of operators:-\n",
    "1.Arithmetic operator\n",
    "2.Comparison operator\n",
    "3.Assignment operator\n",
    "4.Logical operator\n",
    "5.Identity operator\n",
    "6.Membership operator\n",
    "7.Bitwise operator"
   ]
  },
  {
   "cell_type": "markdown",
   "id": "89087428-126b-4d9d-baa6-4a693a813bd1",
   "metadata": {},
   "source": [
    "# 1.Arithmetic operator:-\n",
    "- symbols or functions that performs mathematical operations such as addition,substraction,multiplication,division,exponent,floor division and modulus\n",
    "- they use these (+,-,*,%,/,** and //) operators to perform functions with variables"
   ]
  },
  {
   "cell_type": "code",
   "execution_count": 1,
   "id": "925b990b-6673-49d1-93a1-889803df7e85",
   "metadata": {},
   "outputs": [
    {
     "name": "stdout",
     "output_type": "stream",
     "text": [
      "13\n"
     ]
    }
   ],
   "source": [
    "#arithmetic operator\n",
    "a=7\n",
    "b=6\n",
    "c=a+b\n",
    "print(c)"
   ]
  },
  {
   "cell_type": "code",
   "execution_count": 3,
   "id": "cdff5933-bea5-4fe8-a619-4e8352936918",
   "metadata": {},
   "outputs": [
    {
     "name": "stdout",
     "output_type": "stream",
     "text": [
      "17\n"
     ]
    }
   ],
   "source": [
    "#2\n",
    "x=24\n",
    "p=7\n",
    "s=x-p\n",
    "print(s)"
   ]
  },
  {
   "cell_type": "code",
   "execution_count": 5,
   "id": "42476c4c-277d-43ce-a53e-ae4a8d8e3117",
   "metadata": {},
   "outputs": [
    {
     "name": "stdout",
     "output_type": "stream",
     "text": [
      "35\n"
     ]
    }
   ],
   "source": [
    "#3\n",
    "akshaya=5\n",
    "ram=7\n",
    "name=akshaya*ram\n",
    "print(name)"
   ]
  },
  {
   "cell_type": "code",
   "execution_count": 7,
   "id": "365bbe84-738f-483b-9f5f-85d4bdc31683",
   "metadata": {},
   "outputs": [
    {
     "name": "stdout",
     "output_type": "stream",
     "text": [
      "2.0\n"
     ]
    }
   ],
   "source": [
    "#4\n",
    "a=6\n",
    "b=3\n",
    "c=a/b\n",
    "print(c)"
   ]
  },
  {
   "cell_type": "code",
   "execution_count": 9,
   "id": "5ac372e7-fdc8-4d40-b36e-8f2aea4c7bb6",
   "metadata": {},
   "outputs": [
    {
     "name": "stdout",
     "output_type": "stream",
     "text": [
      "7\n"
     ]
    }
   ],
   "source": [
    "#5\n",
    "w=23\n",
    "e=3\n",
    "r=w//e\n",
    "print(r)"
   ]
  },
  {
   "cell_type": "code",
   "execution_count": 11,
   "id": "d03db3d5-fa60-4efc-becd-03bac6e50489",
   "metadata": {},
   "outputs": [
    {
     "name": "stdout",
     "output_type": "stream",
     "text": [
      "65536\n"
     ]
    }
   ],
   "source": [
    "#6\n",
    "q=4\n",
    "r=8\n",
    "t=q**r\n",
    "print(t)"
   ]
  },
  {
   "cell_type": "code",
   "execution_count": 15,
   "id": "68e88e66-75c5-4d02-80d8-9536b6e38ac6",
   "metadata": {},
   "outputs": [
    {
     "name": "stdout",
     "output_type": "stream",
     "text": [
      "0\n"
     ]
    }
   ],
   "source": [
    "#7\n",
    "d=9\n",
    "w=3\n",
    "x=d%w\n",
    "print(x)"
   ]
  },
  {
   "cell_type": "code",
   "execution_count": 17,
   "id": "9b895f42-642b-4ef0-965f-2ef89f3a7003",
   "metadata": {},
   "outputs": [
    {
     "name": "stdout",
     "output_type": "stream",
     "text": [
      "68\n"
     ]
    }
   ],
   "source": [
    "#8\n",
    "s=23\n",
    "d=45\n",
    "x=s+d\n",
    "print(x)"
   ]
  },
  {
   "cell_type": "code",
   "execution_count": 19,
   "id": "5b2b102f-7e49-4528-9ee9-3e84b7d3dee4",
   "metadata": {},
   "outputs": [
    {
     "name": "stdout",
     "output_type": "stream",
     "text": [
      "3\n"
     ]
    }
   ],
   "source": [
    "#9\n",
    "d=3\n",
    "f=5\n",
    "c=d%5\n",
    "print(c)"
   ]
  },
  {
   "cell_type": "code",
   "execution_count": 21,
   "id": "11610c6b-e2af-4ff5-b483-1af5f893876c",
   "metadata": {},
   "outputs": [
    {
     "name": "stdout",
     "output_type": "stream",
     "text": [
      "3\n"
     ]
    }
   ],
   "source": [
    "#10\n",
    "q=3\n",
    "r=1\n",
    "d=q//r\n",
    "print(d)"
   ]
  },
  {
   "cell_type": "markdown",
   "id": "abfbc968-d741-4305-af3d-6a9b2284c364",
   "metadata": {},
   "source": [
    "# 2.Comparision operator:-\n",
    "- comparision operator compares two values or two variables\n",
    "there are 6 types\n",
    "1. == is equals to\n",
    "2. != not equal to\n",
    "3. > greater than\n",
    "4. < less than\n",
    "5. >= greater than or equal to\n",
    "6. <= less than or equal to"
   ]
  },
  {
   "cell_type": "code",
   "execution_count": 23,
   "id": "bdd9362a-3b89-44f7-bfb6-23fea8cea210",
   "metadata": {},
   "outputs": [
    {
     "data": {
      "text/plain": [
       "True"
      ]
     },
     "execution_count": 23,
     "metadata": {},
     "output_type": "execute_result"
    }
   ],
   "source": [
    "#comparision operator\n",
    "5!=3"
   ]
  },
  {
   "cell_type": "code",
   "execution_count": 25,
   "id": "4bb4e36e-e1e4-4202-b578-9f673d3fc9e5",
   "metadata": {},
   "outputs": [
    {
     "data": {
      "text/plain": [
       "True"
      ]
     },
     "execution_count": 25,
     "metadata": {},
     "output_type": "execute_result"
    }
   ],
   "source": [
    "5==5"
   ]
  },
  {
   "cell_type": "code",
   "execution_count": 27,
   "id": "8dfe62a3-b4d3-4fc2-a2a5-37e4aaad1962",
   "metadata": {},
   "outputs": [
    {
     "data": {
      "text/plain": [
       "True"
      ]
     },
     "execution_count": 27,
     "metadata": {},
     "output_type": "execute_result"
    }
   ],
   "source": [
    "7>5"
   ]
  },
  {
   "cell_type": "code",
   "execution_count": 29,
   "id": "380e1e61-dade-49d5-a20c-7371143a9dc8",
   "metadata": {},
   "outputs": [
    {
     "data": {
      "text/plain": [
       "True"
      ]
     },
     "execution_count": 29,
     "metadata": {},
     "output_type": "execute_result"
    }
   ],
   "source": [
    "6<7"
   ]
  },
  {
   "cell_type": "code",
   "execution_count": 31,
   "id": "8282c298-f702-4490-9567-63987e0374a1",
   "metadata": {},
   "outputs": [
    {
     "data": {
      "text/plain": [
       "False"
      ]
     },
     "execution_count": 31,
     "metadata": {},
     "output_type": "execute_result"
    }
   ],
   "source": [
    "7>34"
   ]
  },
  {
   "cell_type": "code",
   "execution_count": 33,
   "id": "35029746-2edc-42a8-b5fc-0b766e7b74b3",
   "metadata": {},
   "outputs": [
    {
     "data": {
      "text/plain": [
       "True"
      ]
     },
     "execution_count": 33,
     "metadata": {},
     "output_type": "execute_result"
    }
   ],
   "source": [
    "5>=5"
   ]
  },
  {
   "cell_type": "code",
   "execution_count": 35,
   "id": "1342e2aa-465e-40ce-8ee1-cb0bff6d4cdf",
   "metadata": {},
   "outputs": [
    {
     "data": {
      "text/plain": [
       "True"
      ]
     },
     "execution_count": 35,
     "metadata": {},
     "output_type": "execute_result"
    }
   ],
   "source": [
    "3<=5"
   ]
  },
  {
   "cell_type": "code",
   "execution_count": 37,
   "id": "34768a01-9d66-4869-805b-7001e3afc1b0",
   "metadata": {},
   "outputs": [
    {
     "data": {
      "text/plain": [
       "True"
      ]
     },
     "execution_count": 37,
     "metadata": {},
     "output_type": "execute_result"
    }
   ],
   "source": [
    "6>=5"
   ]
  },
  {
   "cell_type": "code",
   "execution_count": 39,
   "id": "a0ebf992-53ce-479f-bd2d-8facff6053a8",
   "metadata": {},
   "outputs": [
    {
     "data": {
      "text/plain": [
       "False"
      ]
     },
     "execution_count": 39,
     "metadata": {},
     "output_type": "execute_result"
    }
   ],
   "source": [
    "12<=6"
   ]
  },
  {
   "cell_type": "code",
   "execution_count": 41,
   "id": "1ed57778-3ae1-4236-b8ef-d070049450ae",
   "metadata": {},
   "outputs": [
    {
     "data": {
      "text/plain": [
       "True"
      ]
     },
     "execution_count": 41,
     "metadata": {},
     "output_type": "execute_result"
    }
   ],
   "source": [
    "6!=34"
   ]
  },
  {
   "cell_type": "markdown",
   "id": "80cd0059-6069-4d1a-a793-495d1e25a480",
   "metadata": {},
   "source": [
    "# 3. Assignment operator:-\n",
    "- used for code optimisation purpose\n",
    "- by using assignment operator we can reduce the uses of memory\n",
    "there are 7 types of assignment operators\n",
    "1. = assignemnt operator\n",
    "2. += addition assignment\n",
    "3. -= substraction assignment\n",
    "4. *= multiplication assignment\n",
    "5. /= division assignment\n",
    "6. %= reminder assignment\n",
    "7. **= exponent assignment"
   ]
  },
  {
   "cell_type": "code",
   "execution_count": 45,
   "id": "e7a3a3c3-1be8-409f-85a0-bc639f8a5035",
   "metadata": {},
   "outputs": [
    {
     "name": "stdout",
     "output_type": "stream",
     "text": [
      "10\n"
     ]
    }
   ],
   "source": [
    "#assignment operator\n",
    "a=10\n",
    "print(a)"
   ]
  },
  {
   "cell_type": "code",
   "execution_count": 47,
   "id": "6836e36c-f0da-492f-8153-e32a18c53e0e",
   "metadata": {},
   "outputs": [
    {
     "name": "stdout",
     "output_type": "stream",
     "text": [
      "15\n"
     ]
    }
   ],
   "source": [
    "a+=5\n",
    "print(a)"
   ]
  },
  {
   "cell_type": "code",
   "execution_count": 49,
   "id": "75ce61da-a5fd-4625-b096-fcf8fb84dfa7",
   "metadata": {},
   "outputs": [
    {
     "name": "stdout",
     "output_type": "stream",
     "text": [
      "8\n"
     ]
    }
   ],
   "source": [
    "a=5\n",
    "b=3\n",
    "c=a+b\n",
    "print(c)"
   ]
  },
  {
   "cell_type": "code",
   "execution_count": 51,
   "id": "f5433c20-88ed-4eeb-9f1e-2405ebe99254",
   "metadata": {},
   "outputs": [
    {
     "name": "stdout",
     "output_type": "stream",
     "text": [
      "408\n"
     ]
    }
   ],
   "source": [
    "a=5\n",
    "b=6\n",
    "x*=b\n",
    "print(x)"
   ]
  },
  {
   "cell_type": "code",
   "execution_count": 53,
   "id": "8ccfe7fb-8c14-43bb-ac21-ba63bd94c8ec",
   "metadata": {},
   "outputs": [
    {
     "name": "stdout",
     "output_type": "stream",
     "text": [
      "12\n"
     ]
    }
   ],
   "source": [
    "z=4\n",
    "x=3\n",
    "z*=x\n",
    "print(z)"
   ]
  },
  {
   "cell_type": "code",
   "execution_count": 55,
   "id": "8ffcb45d-085e-4e2f-8bde-449cff10e44f",
   "metadata": {},
   "outputs": [
    {
     "name": "stdout",
     "output_type": "stream",
     "text": [
      "2.4\n"
     ]
    }
   ],
   "source": [
    "s=5\n",
    "c=4\n",
    "z/=s\n",
    "print(z)"
   ]
  },
  {
   "cell_type": "code",
   "execution_count": 57,
   "id": "8f701f46-969e-4f41-828a-7604bd3529fd",
   "metadata": {},
   "outputs": [
    {
     "name": "stdout",
     "output_type": "stream",
     "text": [
      "-2\n"
     ]
    }
   ],
   "source": [
    "a=3\n",
    "b=5\n",
    "a-=b\n",
    "print(a)"
   ]
  },
  {
   "cell_type": "code",
   "execution_count": 61,
   "id": "b617cce8-9f02-4590-b4b9-0db998dc1632",
   "metadata": {},
   "outputs": [
    {
     "name": "stdout",
     "output_type": "stream",
     "text": [
      "3\n"
     ]
    }
   ],
   "source": [
    "a=3\n",
    "b=5\n",
    "a%=b\n",
    "print(a)"
   ]
  },
  {
   "cell_type": "code",
   "execution_count": 63,
   "id": "b87ad691-8642-4ae9-8e36-d69f63c43db5",
   "metadata": {},
   "outputs": [
    {
     "name": "stdout",
     "output_type": "stream",
     "text": [
      "0\n"
     ]
    }
   ],
   "source": [
    "a=5\n",
    "b=7\n",
    "a//=b\n",
    "print(a)"
   ]
  },
  {
   "cell_type": "code",
   "execution_count": 65,
   "id": "4a0df7c8-9794-42af-9919-001f4c64c39f",
   "metadata": {},
   "outputs": [
    {
     "name": "stdout",
     "output_type": "stream",
     "text": [
      "16807\n"
     ]
    }
   ],
   "source": [
    "a=7\n",
    "b=5\n",
    "a**=b\n",
    "print(a)"
   ]
  },
  {
   "cell_type": "markdown",
   "id": "e9551e6b-bf4c-4a22-be41-9c4a4fdc205a",
   "metadata": {},
   "source": [
    "# 4.logical operator:-\n",
    "- an operator used to compare logical expressions that result of true or false\n",
    "there are 3 logical operators\n",
    "1. and\n",
    "2. or\n",
    "3. not\n",
    "- AND operator returns true only if both the variables are true,if one of them is false the result turns out as false\n",
    "- OR operator returns true if one of the variable condition is true\n",
    "- NOT operator is, if the result is true then the logical NOT operator will make it false and vice-versa"
   ]
  },
  {
   "cell_type": "code",
   "execution_count": 71,
   "id": "858d4eeb-1ff7-4b0f-9d26-58da458005d7",
   "metadata": {},
   "outputs": [
    {
     "name": "stdout",
     "output_type": "stream",
     "text": [
      "True\n"
     ]
    }
   ],
   "source": [
    "#logical operators\n",
    "\n",
    "a=10\n",
    "print(a>5 and a<15)"
   ]
  },
  {
   "cell_type": "code",
   "execution_count": 73,
   "id": "a3063564-61c2-4c1f-ac97-92c136169722",
   "metadata": {},
   "outputs": [
    {
     "name": "stdout",
     "output_type": "stream",
     "text": [
      "False\n"
     ]
    }
   ],
   "source": [
    "a=15\n",
    "print(a>5 and a<6)"
   ]
  },
  {
   "cell_type": "code",
   "execution_count": 75,
   "id": "a855e96c-4b6d-4bb8-b5e8-1692ae738a21",
   "metadata": {},
   "outputs": [
    {
     "name": "stdout",
     "output_type": "stream",
     "text": [
      "True\n"
     ]
    }
   ],
   "source": [
    "a=23\n",
    "print(a>5 or a<2)"
   ]
  },
  {
   "cell_type": "code",
   "execution_count": 79,
   "id": "71967e4b-263c-4788-88f7-6eef3928e14c",
   "metadata": {},
   "outputs": [
    {
     "name": "stdout",
     "output_type": "stream",
     "text": [
      "False\n"
     ]
    }
   ],
   "source": [
    "z=45\n",
    "print(z>34 and z<5)"
   ]
  },
  {
   "cell_type": "code",
   "execution_count": 81,
   "id": "d7c761aa-7e91-429e-af25-372cafc482cf",
   "metadata": {},
   "outputs": [
    {
     "name": "stdout",
     "output_type": "stream",
     "text": [
      "True\n"
     ]
    }
   ],
   "source": [
    "w=45\n",
    "print(not(z>34 and z<5))"
   ]
  },
  {
   "cell_type": "code",
   "execution_count": 83,
   "id": "03ccbd41-d7d8-477f-bf47-498d284fa080",
   "metadata": {},
   "outputs": [
    {
     "name": "stdout",
     "output_type": "stream",
     "text": [
      "True\n"
     ]
    }
   ],
   "source": [
    "a=15\n",
    "print(not(a>5 and a<15))"
   ]
  },
  {
   "cell_type": "code",
   "execution_count": 85,
   "id": "41ebbf8c-93da-4bdd-8c7e-423cb736aaaf",
   "metadata": {},
   "outputs": [
    {
     "name": "stdout",
     "output_type": "stream",
     "text": [
      "False\n"
     ]
    }
   ],
   "source": [
    "a=10\n",
    "print(not(a>5 or a<15))"
   ]
  },
  {
   "cell_type": "code",
   "execution_count": 87,
   "id": "92d758f8-0d76-4c66-be51-97cb69e26597",
   "metadata": {},
   "outputs": [
    {
     "name": "stdout",
     "output_type": "stream",
     "text": [
      "True\n"
     ]
    }
   ],
   "source": [
    "a=11\n",
    "print(a>1 or a<20)"
   ]
  },
  {
   "cell_type": "code",
   "execution_count": 89,
   "id": "3b5d68b5-d326-41fb-b370-1fd9e7d4085d",
   "metadata": {},
   "outputs": [
    {
     "name": "stdout",
     "output_type": "stream",
     "text": [
      "False\n"
     ]
    }
   ],
   "source": [
    "a=11\n",
    "print(not(a>1 or a<20))"
   ]
  },
  {
   "cell_type": "code",
   "execution_count": 91,
   "id": "63efcf31-ad03-4788-8977-dec49d76cb41",
   "metadata": {},
   "outputs": [
    {
     "name": "stdout",
     "output_type": "stream",
     "text": [
      "False\n"
     ]
    }
   ],
   "source": [
    "q=34\n",
    "print(q>45 and q<27)"
   ]
  },
  {
   "cell_type": "markdown",
   "id": "9d62b45e-b77c-4378-907f-8c0cc1402471",
   "metadata": {},
   "source": [
    "# 5.identity operator:-\n",
    "- used to identify wheather the value is present or not\n",
    "there are 2 identity operator\n",
    "1. is\n",
    "2. is not\n",
    "these two functions perform the operation with variables and give result either true or false"
   ]
  },
  {
   "cell_type": "code",
   "execution_count": 115,
   "id": "b60fb689-efb1-40c8-b790-fe3759ecc789",
   "metadata": {},
   "outputs": [
    {
     "data": {
      "text/plain": [
       "False"
      ]
     },
     "execution_count": 115,
     "metadata": {},
     "output_type": "execute_result"
    }
   ],
   "source": [
    "#identity operator\n",
    "\n",
    "a=7\n",
    "b=10\n",
    "a is b"
   ]
  },
  {
   "cell_type": "code",
   "execution_count": 117,
   "id": "030acfa5-e9bb-430b-b302-a5ccab499c87",
   "metadata": {},
   "outputs": [
    {
     "data": {
      "text/plain": [
       "True"
      ]
     },
     "execution_count": 117,
     "metadata": {},
     "output_type": "execute_result"
    }
   ],
   "source": [
    "x=7\n",
    "y=7\n",
    "x is y"
   ]
  },
  {
   "cell_type": "code",
   "execution_count": 119,
   "id": "4731a374-f80a-4f88-aa1a-3dd7eef3ce16",
   "metadata": {},
   "outputs": [
    {
     "data": {
      "text/plain": [
       "False"
      ]
     },
     "execution_count": 119,
     "metadata": {},
     "output_type": "execute_result"
    }
   ],
   "source": [
    "a=\" akshaya\"\n",
    "b=\"akshaya\"\n",
    "a is b"
   ]
  },
  {
   "cell_type": "code",
   "execution_count": 121,
   "id": "5bae688b-cc8e-4398-bdf3-05d00a16f6cb",
   "metadata": {},
   "outputs": [
    {
     "data": {
      "text/plain": [
       "True"
      ]
     },
     "execution_count": 121,
     "metadata": {},
     "output_type": "execute_result"
    }
   ],
   "source": [
    "a=\"akshaya\"\n",
    "b=\"akshaya\"\n",
    "a is b"
   ]
  },
  {
   "cell_type": "code",
   "execution_count": 123,
   "id": "c25f2b93-5464-4619-84e2-11fb74645c5e",
   "metadata": {},
   "outputs": [
    {
     "data": {
      "text/plain": [
       "True"
      ]
     },
     "execution_count": 123,
     "metadata": {},
     "output_type": "execute_result"
    }
   ],
   "source": [
    "z=8\n",
    "m=56\n",
    "z is not m"
   ]
  },
  {
   "cell_type": "code",
   "execution_count": 127,
   "id": "d4d03f0a-df1a-403c-bd9d-c2602eb6e651",
   "metadata": {},
   "outputs": [
    {
     "data": {
      "text/plain": [
       "False"
      ]
     },
     "execution_count": 127,
     "metadata": {},
     "output_type": "execute_result"
    }
   ],
   "source": [
    "j=\"hello\"\n",
    "k=\"hello\"\n",
    "j is not k"
   ]
  },
  {
   "cell_type": "code",
   "execution_count": 129,
   "id": "7821f372-fdd0-4c7e-907e-dec10e4798cc",
   "metadata": {},
   "outputs": [
    {
     "name": "stdout",
     "output_type": "stream",
     "text": [
      "False\n",
      "True\n"
     ]
    }
   ],
   "source": [
    "a=\"hello world\"\n",
    "b=\" hello world\"\n",
    "print(a is b)\n",
    "print(a is not b)"
   ]
  },
  {
   "cell_type": "markdown",
   "id": "652d4b03-b6fe-4a20-8002-d46919640cfc",
   "metadata": {},
   "source": [
    "# 6.membership operator\n",
    "- operator are used to check wheather a operand is found in a sequence or not\n",
    "there are 2 membership operator\n",
    "1. in\n",
    "2. not in"
   ]
  },
  {
   "cell_type": "code",
   "execution_count": 141,
   "id": "c72941f7-5ac4-40be-be28-0ff82bd7f33d",
   "metadata": {},
   "outputs": [
    {
     "data": {
      "text/plain": [
       "False"
      ]
     },
     "execution_count": 141,
     "metadata": {},
     "output_type": "execute_result"
    }
   ],
   "source": [
    "#membership operator\n",
    "name=\"akshaya\"\n",
    "k in name"
   ]
  },
  {
   "cell_type": "code",
   "execution_count": 145,
   "id": "65775c56-4764-4198-b26f-3b5733906804",
   "metadata": {},
   "outputs": [
    {
     "data": {
      "text/plain": [
       "True"
      ]
     },
     "execution_count": 145,
     "metadata": {},
     "output_type": "execute_result"
    }
   ],
   "source": [
    "u=[1,2,3,4,5]\n",
    "4 in u"
   ]
  },
  {
   "cell_type": "code",
   "execution_count": 147,
   "id": "a64d3177-7550-48ab-aaee-7d68616ed2ce",
   "metadata": {},
   "outputs": [
    {
     "data": {
      "text/plain": [
       "True"
      ]
     },
     "execution_count": 147,
     "metadata": {},
     "output_type": "execute_result"
    }
   ],
   "source": [
    "u=[1,2,3,4,5]\n",
    "6 not in u"
   ]
  },
  {
   "cell_type": "code",
   "execution_count": 149,
   "id": "28097a13-1cc2-45c4-892d-9f5256496dbf",
   "metadata": {},
   "outputs": [
    {
     "data": {
      "text/plain": [
       "False"
      ]
     },
     "execution_count": 149,
     "metadata": {},
     "output_type": "execute_result"
    }
   ],
   "source": [
    "u=[1,2,3,4,5]\n",
    "3 not in u"
   ]
  }
 ],
 "metadata": {
  "kernelspec": {
   "display_name": "Python 3 (ipykernel)",
   "language": "python",
   "name": "python3"
  },
  "language_info": {
   "codemirror_mode": {
    "name": "ipython",
    "version": 3
   },
   "file_extension": ".py",
   "mimetype": "text/x-python",
   "name": "python",
   "nbconvert_exporter": "python",
   "pygments_lexer": "ipython3",
   "version": "3.12.4"
  }
 },
 "nbformat": 4,
 "nbformat_minor": 5
}
