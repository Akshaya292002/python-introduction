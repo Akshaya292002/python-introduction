{
 "cells": [
  {
   "cell_type": "markdown",
   "id": "28419b07-b237-49df-95ea-21dfddfe6437",
   "metadata": {},
   "source": [
    "# 1. define about strings\n",
    "- string is a sequence of characters\n",
    "- we can use single quotes(' '),double quotes(\" \")or triple quotes(''' ''')\n",
    "- we can manipulate the variables by using various operations and string methods\n",
    "- the string classbcan be represented by \"str\""
   ]
  },
  {
   "cell_type": "markdown",
   "id": "77832a02-b07f-4952-b8e8-3daa8a8e195b",
   "metadata": {},
   "source": [
    "# 2.create 10 elements using ' ' and \" \""
   ]
  },
  {
   "cell_type": "code",
   "execution_count": 5,
   "id": "ecab6a74-ea52-4b29-aa1d-fc2f0880a1e3",
   "metadata": {},
   "outputs": [
    {
     "name": "stdout",
     "output_type": "stream",
     "text": [
      "mango\n",
      "cricket\n",
      "dhoni\n",
      "234\n",
      "dhoni,gill,hardik dhoni,gill,hardik dhoni,gill,hardik dhoni,gill,hardik dhoni,gill,hardik dhoni,gill,hardik dhoni,gill,hardik \n",
      "this is a string\n",
      "hello world\n",
      "1 2 3 4 5\n",
      "akshaya\n",
      "data analyst\n"
     ]
    }
   ],
   "source": [
    "z='mango'\n",
    "print(z)\n",
    "\n",
    "c='cricket'\n",
    "print(c)\n",
    "\n",
    "cricket='dhoni'\n",
    "print(cricket)\n",
    "\n",
    "ab='234'\n",
    "print(ab)\n",
    "\n",
    "a=\"dhoni,gill,hardik \"\n",
    "b=a*7\n",
    "print(b)\n",
    "\n",
    "str1='python'\n",
    "str2=\"python\"\n",
    "str3= \"\"\"this is a string\"\"\"\n",
    "print(str3)\n",
    "\n",
    "str1=\"hello world\"\n",
    "print(str1)\n",
    "\n",
    "str1=\"1 2 3 4 5\"\n",
    "print(str1)\n",
    "\n",
    "name=\"akshaya\"\n",
    "print(name)\n",
    "\n",
    "course=\"data analyst\"\n",
    "print(course)"
   ]
  },
  {
   "cell_type": "markdown",
   "id": "968ea6c3-b4f6-451e-9683-a5d1103b677d",
   "metadata": {},
   "source": [
    "# 3.create a string 50 characters and access any 10 using index and slicing any 2 examples"
   ]
  },
  {
   "cell_type": "code",
   "execution_count": 19,
   "id": "21c92b45-ce25-4e9d-ae95-e31300de9f68",
   "metadata": {},
   "outputs": [
    {
     "name": "stdout",
     "output_type": "stream",
     "text": [
      "37\n",
      "s\n",
      " \n",
      "b\n",
      "a\n",
      "d\n",
      "m\n",
      "y\n",
      "a\n",
      "m\n",
      " \n",
      "from hyderabad\n",
      " is akshaya,i'm from hyd\n"
     ]
    }
   ],
   "source": [
    "#indexing\n",
    "str=\"my name is akshaya,i'm from hyderabad\"\n",
    "print(len(str))\n",
    "print(str[9])\n",
    "print(str[2])\n",
    "print(str[34])\n",
    "print(str[17])\n",
    "print(str[-7])\n",
    "print(str[5])\n",
    "print(str[29])\n",
    "print(str[33])\n",
    "print(str[-32])\n",
    "print(str[27])\n",
    "\n",
    "#slicing\n",
    "print(str[23:38])\n",
    "print(str[7:-6])"
   ]
  },
  {
   "cell_type": "markdown",
   "id": "35891957-835d-49b8-bed3-87460f127114",
   "metadata": {},
   "source": [
    "# 4.explain about string formats\n",
    "- string formats are classified into three types:\n",
    "1. old style\n",
    "2. format style\n",
    "3. f string method"
   ]
  },
  {
   "cell_type": "markdown",
   "id": "1fee19c5-9f4f-4e17-bdaa-5a3faaab9e45",
   "metadata": {},
   "source": [
    "1.old style format:\n",
    "- it uses the % operator "
   ]
  },
  {
   "cell_type": "code",
   "execution_count": 37,
   "id": "c1c56dd3-1030-4541-9475-5740f45e853b",
   "metadata": {},
   "outputs": [
    {
     "name": "stdout",
     "output_type": "stream",
     "text": [
      "my name is akshaya and i'm 22 years old\n"
     ]
    }
   ],
   "source": [
    "#example\n",
    "name=\"akshaya\"\n",
    "age=22\n",
    "str=\"my name is %s and i'm %d years old\"%(name,age)\n",
    "print(str)"
   ]
  },
  {
   "cell_type": "markdown",
   "id": "5245a6f7-abcf-44fd-8fbb-d4ad1457ec79",
   "metadata": {},
   "source": [
    "2.format style:\n",
    "- it replaces % with {} with the placeholder\n",
    "- they use curly braces for the expressions"
   ]
  },
  {
   "cell_type": "code",
   "execution_count": 39,
   "id": "e2bd9639-c32f-466e-a629-18b06185dd63",
   "metadata": {},
   "outputs": [
    {
     "name": "stdout",
     "output_type": "stream",
     "text": [
      "my name is akshaya and i'm 22 years old\n"
     ]
    }
   ],
   "source": [
    "#example\n",
    "name=\"akshaya\"\n",
    "age=22\n",
    "formated_str=\"my name is {} and i'm {} years old\" .format(name,age)\n",
    "print(formated_str)"
   ]
  },
  {
   "cell_type": "markdown",
   "id": "ddcf73f5-1282-43e0-9ed7-4c4d15ba1038",
   "metadata": {},
   "source": [
    "3.f-string method:\n",
    "- to simplify string formatting and interpolation\n",
    "- f-string is used where expressions inside curly braces {} are evaluted"
   ]
  },
  {
   "cell_type": "code",
   "execution_count": 47,
   "id": "cd4b83a3-3d73-4723-b56b-8c0d602abb94",
   "metadata": {},
   "outputs": [
    {
     "name": "stdout",
     "output_type": "stream",
     "text": [
      "my name is akshaya and i'm 22 years old.\n"
     ]
    }
   ],
   "source": [
    "#example\n",
    "name=\"akshaya\"\n",
    "age=22\n",
    "str=f\"my name is {name} and i'm {age} years old.\"\n",
    "print(str)"
   ]
  },
  {
   "cell_type": "markdown",
   "id": "500946fa-2cb4-48b0-ac58-dda216d740bc",
   "metadata": {},
   "source": [
    "# 5.apply operations"
   ]
  },
  {
   "cell_type": "markdown",
   "id": "87d509a1-6cb8-4b51-ab93-1e2938f72427",
   "metadata": {},
   "source": [
    "1.concatnation:\n",
    "- adding of things"
   ]
  },
  {
   "cell_type": "code",
   "execution_count": 51,
   "id": "54d7b1d6-d55f-457c-b369-556142fa0465",
   "metadata": {},
   "outputs": [
    {
     "name": "stdout",
     "output_type": "stream",
     "text": [
      "my name is akshaya\n"
     ]
    }
   ],
   "source": [
    "#concatenation\n",
    "a=\"my name is\"\n",
    "b=\"akshaya\"\n",
    "c=a+' '+b\n",
    "print(c)"
   ]
  },
  {
   "cell_type": "markdown",
   "id": "ab54daec-ea1a-47b4-ac98-7c05f19ab8a1",
   "metadata": {},
   "source": [
    "2.repetition:\n",
    "- repeat values of a string"
   ]
  },
  {
   "cell_type": "code",
   "execution_count": 55,
   "id": "70d4d940-0de5-4fc9-8f87-e92a6329725a",
   "metadata": {},
   "outputs": [
    {
     "name": "stdout",
     "output_type": "stream",
     "text": [
      "my name is akshaya my name is akshaya my name is akshaya my name is akshaya my name is akshaya my name is akshaya my name is akshaya \n"
     ]
    }
   ],
   "source": [
    "#repetition\n",
    "str1=\"my name is akshaya \"\n",
    "str2=str1*7\n",
    "print(str2)"
   ]
  },
  {
   "cell_type": "markdown",
   "id": "1a81f204-910e-495d-ae03-711a84b64c7a",
   "metadata": {},
   "source": [
    "3.slicing:\n",
    "- slicing is a process of extracting a substring from a string"
   ]
  },
  {
   "cell_type": "code",
   "execution_count": 65,
   "id": "57b0c8ae-87f0-463a-9d89-dd0196636763",
   "metadata": {},
   "outputs": [
    {
     "name": "stdout",
     "output_type": "stream",
     "text": [
      " \n",
      "k\n"
     ]
    }
   ],
   "source": [
    "#slicing\n",
    "str1=\"my name is akshaya \"\n",
    "print(str[-5])\n",
    "print(str[12])"
   ]
  },
  {
   "cell_type": "markdown",
   "id": "3b24aaaa-b636-40bf-b6dc-68bca78610f5",
   "metadata": {},
   "source": [
    "4.indexing:\n",
    "-accessing individual character in a string"
   ]
  },
  {
   "cell_type": "code",
   "execution_count": 67,
   "id": "657904f7-5ad2-43fb-ab91-6e530be9d7a1",
   "metadata": {},
   "outputs": [
    {
     "name": "stdout",
     "output_type": "stream",
     "text": [
      "is akshaya and i'm \n",
      "am\n"
     ]
    }
   ],
   "source": [
    "#indexing\n",
    "str1=\"my name is akshaya \"\n",
    "print(str[8:-13])\n",
    "print(str[4:6])"
   ]
  },
  {
   "cell_type": "markdown",
   "id": "e67cf58e-c552-42e4-b2df-aa27bc9de35e",
   "metadata": {},
   "source": [
    "# 6.apply methods"
   ]
  },
  {
   "cell_type": "markdown",
   "id": "3f889891-8c67-499b-a9ff-4a29a61e51af",
   "metadata": {},
   "source": [
    "1.len(): counts the characters in a string"
   ]
  },
  {
   "cell_type": "code",
   "execution_count": 75,
   "id": "d3d1172e-6663-475d-b3d7-33f33d38bc10",
   "metadata": {},
   "outputs": [
    {
     "name": "stdout",
     "output_type": "stream",
     "text": [
      "6\n"
     ]
    }
   ],
   "source": [
    "#example\n",
    "my_string=\"hello \"\n",
    "print(len(my_string))"
   ]
  },
  {
   "cell_type": "markdown",
   "id": "c6d99694-3234-481c-98df-6a3f8868e0f4",
   "metadata": {},
   "source": [
    "2.lower()/upper(): converts entire data into lower/upper"
   ]
  },
  {
   "cell_type": "code",
   "execution_count": 73,
   "id": "e6de91dd-5ca1-4630-b145-918ccdeb80b3",
   "metadata": {},
   "outputs": [
    {
     "name": "stdout",
     "output_type": "stream",
     "text": [
      "HELLO\n"
     ]
    }
   ],
   "source": [
    "#example\n",
    "my_string=\"hello\"\n",
    "print(my_string.upper())"
   ]
  },
  {
   "cell_type": "markdown",
   "id": "5ec5f80e-aed3-4c25-99a3-2b72f47b388b",
   "metadata": {},
   "source": [
    "3.strip(): used to remove spaces beggining and ending"
   ]
  },
  {
   "cell_type": "code",
   "execution_count": 71,
   "id": "83d40292-5094-4e0e-91fa-05ac26c2f56d",
   "metadata": {},
   "outputs": [
    {
     "name": "stdout",
     "output_type": "stream",
     "text": [
      "python\n"
     ]
    }
   ],
   "source": [
    "#example\n",
    "my_string=\"  python  \"\n",
    "stripped_string=my_string.strip()\n",
    "print(stripped_string)"
   ]
  },
  {
   "cell_type": "markdown",
   "id": "2709e24e-2365-4b96-9e9a-46b1148dffa0",
   "metadata": {},
   "source": [
    "4.replace(): replace substring with another substring"
   ]
  },
  {
   "cell_type": "code",
   "execution_count": 79,
   "id": "9ce10394-2aaa-4185-94ec-915496a1522c",
   "metadata": {},
   "outputs": [
    {
     "name": "stdout",
     "output_type": "stream",
     "text": [
      "my name is pavani\n"
     ]
    }
   ],
   "source": [
    "#example\n",
    "my_string=\"my name is akshaya\"\n",
    "str=my_string.replace(\"akshaya\",\"pavani\")\n",
    "print(str)"
   ]
  },
  {
   "cell_type": "markdown",
   "id": "2ed1e3b4-04e3-4868-ae2e-be440b10826f",
   "metadata": {},
   "source": [
    "5.split: splits the one string into substring"
   ]
  },
  {
   "cell_type": "code",
   "execution_count": 81,
   "id": "367cb28b-d4c8-454e-a240-a3508cb596f4",
   "metadata": {},
   "outputs": [
    {
     "name": "stdout",
     "output_type": "stream",
     "text": [
      "['my', 'name', 'is', 'akshaya']\n"
     ]
    }
   ],
   "source": [
    "#example\n",
    "str=\"my name is akshaya\"\n",
    "str1=(str.split())\n",
    "print(str1)"
   ]
  },
  {
   "cell_type": "markdown",
   "id": "0be198cd-1069-4a3b-a06c-d9a195462a4a",
   "metadata": {},
   "source": [
    "6.join: it joins the substring all into one string"
   ]
  },
  {
   "cell_type": "code",
   "execution_count": 85,
   "id": "4f81495b-aef4-4b72-a5dd-78b0a670fd5e",
   "metadata": {},
   "outputs": [
    {
     "name": "stdout",
     "output_type": "stream",
     "text": [
      "akshaya pavani srija vaish\n"
     ]
    }
   ],
   "source": [
    "#example\n",
    "name=['akshaya','pavani','srija','vaish']\n",
    "print(\" \".join(name))"
   ]
  },
  {
   "cell_type": "markdown",
   "id": "68d18b30-366e-412a-a804-1ed123c55ab7",
   "metadata": {},
   "source": [
    "7.capitalize: it converts the first character to upper case"
   ]
  },
  {
   "cell_type": "code",
   "execution_count": 89,
   "id": "7feebe57-5448-4925-9625-6a70f2a2be02",
   "metadata": {},
   "outputs": [
    {
     "name": "stdout",
     "output_type": "stream",
     "text": [
      "Akshaya\n"
     ]
    }
   ],
   "source": [
    "#example\n",
    "r=\"akshaya\"\n",
    "print(r.capitalize())"
   ]
  },
  {
   "cell_type": "markdown",
   "id": "7b18724a-ba2a-4639-8481-fb4032cf8f9f",
   "metadata": {},
   "source": [
    "8.casefold: it returns the string into lower case"
   ]
  },
  {
   "cell_type": "code",
   "execution_count": 91,
   "id": "c629152c-5ed9-4fd8-8c27-56dd65e33745",
   "metadata": {},
   "outputs": [
    {
     "name": "stdout",
     "output_type": "stream",
     "text": [
      "akshaya\n"
     ]
    }
   ],
   "source": [
    "#example\n",
    "name=\"AksHAya\"\n",
    "print(name.casefold())"
   ]
  },
  {
   "cell_type": "markdown",
   "id": "cc06f959-e859-44db-a8df-523c543249dd",
   "metadata": {},
   "source": [
    "9.center: it returns the centered string"
   ]
  },
  {
   "cell_type": "code",
   "execution_count": 95,
   "id": "e43106f2-d5ab-4320-a86c-103371ae0824",
   "metadata": {},
   "outputs": [
    {
     "name": "stdout",
     "output_type": "stream",
     "text": [
      "                               akshaya kurella                               \n"
     ]
    }
   ],
   "source": [
    "#example\n",
    "name=\"akshaya kurella\"\n",
    "print(name.center(77))"
   ]
  },
  {
   "cell_type": "markdown",
   "id": "850d0a34-e92e-4e7b-95e7-2ff11cad549c",
   "metadata": {},
   "source": [
    "10.count: it represents the number of occurance of a string"
   ]
  },
  {
   "cell_type": "code",
   "execution_count": 111,
   "id": "c84e0e0b-d5b7-4331-abf3-fed8cc5d3c46",
   "metadata": {},
   "outputs": [
    {
     "name": "stdout",
     "output_type": "stream",
     "text": [
      "1\n"
     ]
    }
   ],
   "source": [
    "#example\n",
    "str=\"my name is akshaya\"\n",
    "print(str.count('is'))"
   ]
  },
  {
   "cell_type": "markdown",
   "id": "7ac42724-4c82-467e-83e0-4966fe5dba73",
   "metadata": {},
   "source": [
    "11.find: it finds the string place and identifies it"
   ]
  },
  {
   "cell_type": "code",
   "execution_count": 115,
   "id": "7429e03e-cefe-410e-a5e1-af67f02952f7",
   "metadata": {},
   "outputs": [
    {
     "name": "stdout",
     "output_type": "stream",
     "text": [
      "8\n"
     ]
    }
   ],
   "source": [
    "#example\n",
    "str=\"my name is akshaya\"\n",
    "print(str.find('is'))"
   ]
  },
  {
   "cell_type": "markdown",
   "id": "b2b66787-21d3-4d2f-bd8e-f500096f2fb1",
   "metadata": {},
   "source": [
    "12.encode: it returnes the encoded version of the string"
   ]
  },
  {
   "cell_type": "code",
   "execution_count": 121,
   "id": "18afbf15-c663-42f6-842d-e16aef6a168e",
   "metadata": {},
   "outputs": [
    {
     "name": "stdout",
     "output_type": "stream",
     "text": [
      "b'akshaya'\n"
     ]
    }
   ],
   "source": [
    "#example\n",
    "name=\"akshaya\"\n",
    "end=name.encode()\n",
    "print(end)"
   ]
  },
  {
   "cell_type": "markdown",
   "id": "bebc1e98-2d03-49fa-a042-1cfcd9b78d11",
   "metadata": {},
   "source": [
    "13.endswith: it prints true if the string ends with the specified value"
   ]
  },
  {
   "cell_type": "code",
   "execution_count": 215,
   "id": "69003cb8-3d04-4b07-b163-ed0b01e7a922",
   "metadata": {},
   "outputs": [
    {
     "name": "stdout",
     "output_type": "stream",
     "text": [
      "False\n"
     ]
    }
   ],
   "source": [
    "#example\n",
    "name=\"akshaya\"\n",
    "str=name.endswith('ak')\n",
    "print(str)"
   ]
  },
  {
   "cell_type": "markdown",
   "id": "8ec50ada-716e-43b8-84eb-55a062504fd3",
   "metadata": {},
   "source": [
    "14.format: it formats the specific tabs in the string"
   ]
  },
  {
   "cell_type": "code",
   "execution_count": 131,
   "id": "10e2e706-1a41-4cb1-b284-f422a783004d",
   "metadata": {},
   "outputs": [
    {
     "name": "stdout",
     "output_type": "stream",
     "text": [
      "my name is akshaya and i'm 22 years old\n"
     ]
    }
   ],
   "source": [
    "#example\n",
    "name=\"akshaya\"\n",
    "age=22\n",
    "formated_string=\"my name is {} and i'm {} years old\" .format(name,age)\n",
    "print(formated_string)"
   ]
  },
  {
   "cell_type": "markdown",
   "id": "c1dbe4e4-7c89-4270-b00c-0f2d92bcbb2e",
   "metadata": {},
   "source": [
    "15.expandtabs: it sets the string tab size"
   ]
  },
  {
   "cell_type": "code",
   "execution_count": 133,
   "id": "0e7a2a6b-52af-4e96-b5ed-248b3c57f825",
   "metadata": {},
   "outputs": [
    {
     "name": "stdout",
     "output_type": "stream",
     "text": [
      "my,      name!  how are you?\n"
     ]
    }
   ],
   "source": [
    "#example\n",
    "text_with_tabs=\"my,\\t name!\\thow are you?\"\n",
    "str=text_with_tabs.expandtabs()\n",
    "print(str)"
   ]
  },
  {
   "cell_type": "markdown",
   "id": "fd0673b5-6cdb-4b41-bf46-34974ec892f4",
   "metadata": {},
   "source": [
    "16.index: it returns the position of the string and gives it index number"
   ]
  },
  {
   "cell_type": "code",
   "execution_count": 139,
   "id": "a07e17b0-babd-46ae-a2c3-b06bc6a920b9",
   "metadata": {},
   "outputs": [
    {
     "name": "stdout",
     "output_type": "stream",
     "text": [
      "2\n"
     ]
    }
   ],
   "source": [
    "#example\n",
    "name=\"akshaya\"\n",
    "print(name.index('s'))"
   ]
  },
  {
   "cell_type": "markdown",
   "id": "56db5ddd-837c-4c9d-ad18-fd5423eeb811",
   "metadata": {},
   "source": [
    "17.isalnum: it returns true if the string is alphanumeric"
   ]
  },
  {
   "cell_type": "code",
   "execution_count": 141,
   "id": "3fb4a01f-6dc1-4e4a-9594-cafb755ab4ae",
   "metadata": {},
   "outputs": [
    {
     "name": "stdout",
     "output_type": "stream",
     "text": [
      "True\n"
     ]
    }
   ],
   "source": [
    "#example\n",
    "name=\"akshaya77\"\n",
    "print(name.isalnum())"
   ]
  },
  {
   "cell_type": "markdown",
   "id": "8f3fa42c-034d-4140-9ce7-20e5c8926a68",
   "metadata": {},
   "source": [
    "18.isalpha: it returns true if all the characters in the string are alphabets"
   ]
  },
  {
   "cell_type": "code",
   "execution_count": 143,
   "id": "4c25aeab-d9cd-432f-8a65-965d6f359558",
   "metadata": {},
   "outputs": [
    {
     "name": "stdout",
     "output_type": "stream",
     "text": [
      "False\n"
     ]
    }
   ],
   "source": [
    "#example\n",
    "name=\"akshaya77\"\n",
    "print(name.isalpha())"
   ]
  },
  {
   "cell_type": "markdown",
   "id": "0486af31-424c-4ee8-bc3f-daf0e0655f95",
   "metadata": {},
   "source": [
    "19.isascii: it returns true if all character in the string are ascii"
   ]
  },
  {
   "cell_type": "code",
   "execution_count": 145,
   "id": "a0cdd454-c0b1-480f-908e-c0cbc546196b",
   "metadata": {},
   "outputs": [
    {
     "name": "stdout",
     "output_type": "stream",
     "text": [
      "ABCDEFGHIJKLMNOPQRSTUVWXYZ\n"
     ]
    }
   ],
   "source": [
    "#example\n",
    "import string\n",
    "str=string.ascii_uppercase\n",
    "print(str)"
   ]
  },
  {
   "cell_type": "markdown",
   "id": "6515d83a-6a40-4bd5-b124-ffa440ef57c0",
   "metadata": {},
   "source": [
    "20.isdecimal: it returns true if all character in the string are decimals"
   ]
  },
  {
   "cell_type": "code",
   "execution_count": 147,
   "id": "b3588c19-6fcf-413d-95b6-a12108b9db3c",
   "metadata": {},
   "outputs": [
    {
     "name": "stdout",
     "output_type": "stream",
     "text": [
      "False\n"
     ]
    }
   ],
   "source": [
    "#example\n",
    "weight=\"66.5,99.6,50\"\n",
    "print(weight.isdecimal())"
   ]
  },
  {
   "cell_type": "markdown",
   "id": "f6065916-eaf5-4d31-9dd0-d97729af0711",
   "metadata": {},
   "source": [
    "21.isdigit: it returns true if all character in a string are digits"
   ]
  },
  {
   "cell_type": "code",
   "execution_count": 151,
   "id": "36d58f85-e4d6-4b39-90ce-7f141289042e",
   "metadata": {},
   "outputs": [
    {
     "name": "stdout",
     "output_type": "stream",
     "text": [
      "True\n"
     ]
    }
   ],
   "source": [
    "#example\n",
    "number=\"7\"\n",
    "print(number.isdigit())"
   ]
  },
  {
   "cell_type": "markdown",
   "id": "df2a7512-1228-4e59-a388-633edef16f60",
   "metadata": {},
   "source": [
    "22.isidentifier: it returns true if the string is an identifier and it cannot come true is they are numbers"
   ]
  },
  {
   "cell_type": "code",
   "execution_count": 153,
   "id": "58b50190-75f4-4e35-8c1b-e33203462d25",
   "metadata": {},
   "outputs": [
    {
     "name": "stdout",
     "output_type": "stream",
     "text": [
      "True\n"
     ]
    }
   ],
   "source": [
    "#example\n",
    "name=\"akshaya_55\"\n",
    "print(name.isidentifier())"
   ]
  },
  {
   "cell_type": "markdown",
   "id": "0a2ebaa7-bc0a-424e-9bf9-0f67a96833da",
   "metadata": {},
   "source": [
    "23.islower: it returns true if all characters in the string are lowercase"
   ]
  },
  {
   "cell_type": "code",
   "execution_count": 155,
   "id": "65c47e35-f536-4914-9b69-9f54d58759ae",
   "metadata": {},
   "outputs": [
    {
     "name": "stdout",
     "output_type": "stream",
     "text": [
      "False\n"
     ]
    }
   ],
   "source": [
    "name=\"Akshaya\"\n",
    "print(name.islower())"
   ]
  },
  {
   "cell_type": "markdown",
   "id": "5b55f2e5-6fa6-445b-92ef-740dc76fa6f9",
   "metadata": {},
   "source": [
    "24.isupper: it returns true if all character in the string are uppercase"
   ]
  },
  {
   "cell_type": "code",
   "execution_count": 217,
   "id": "e515db52-8042-48cc-8621-f6d778d51b5c",
   "metadata": {},
   "outputs": [
    {
     "name": "stdout",
     "output_type": "stream",
     "text": [
      "False\n",
      "True\n"
     ]
    }
   ],
   "source": [
    "name=\"akshaya\"\n",
    "print(name.isupper())\n",
    "\n",
    "name=\"AKSHAYA\"\n",
    "print(name.isupper())"
   ]
  },
  {
   "cell_type": "markdown",
   "id": "85b3b58b-dcb5-4621-82a8-1034c39aec7b",
   "metadata": {},
   "source": [
    "25.isnumeric: it returns true if all character in the string are numeric"
   ]
  },
  {
   "cell_type": "code",
   "execution_count": 221,
   "id": "39bed43b-3d18-4057-83a9-4e9007aa1e83",
   "metadata": {},
   "outputs": [
    {
     "name": "stdout",
     "output_type": "stream",
     "text": [
      "False\n",
      "True\n"
     ]
    }
   ],
   "source": [
    "age=\"66,77\"\n",
    "print(age.isnumeric())\n",
    "age=\"7\"\n",
    "print(age.isnumeric())"
   ]
  },
  {
   "cell_type": "markdown",
   "id": "2c5d7c0f-00b7-497c-afe5-e6aabf0659b7",
   "metadata": {},
   "source": [
    "26.istitle: it returns true if the string is title cased"
   ]
  },
  {
   "cell_type": "code",
   "execution_count": 227,
   "id": "b98fdc01-dd93-469a-a326-fc49c33c0715",
   "metadata": {},
   "outputs": [
    {
     "name": "stdout",
     "output_type": "stream",
     "text": [
      "False\n"
     ]
    }
   ],
   "source": [
    "str=\"my name is akshaya\"\n",
    "print(str.istitle())"
   ]
  },
  {
   "cell_type": "markdown",
   "id": "d1391bf3-7395-4b86-8cfa-1d3bd29af305",
   "metadata": {},
   "source": [
    "27.isspace: it returns true if all characters in the string are whitespaces"
   ]
  },
  {
   "cell_type": "code",
   "execution_count": 235,
   "id": "785cb28a-a7d2-462a-86ca-fd49806b10e7",
   "metadata": {},
   "outputs": [
    {
     "name": "stdout",
     "output_type": "stream",
     "text": [
      "False\n"
     ]
    }
   ],
   "source": [
    "name=\"akshayaram\"\n",
    "print(name.isspace())"
   ]
  },
  {
   "cell_type": "markdown",
   "id": "cc801158-38b6-4911-b89e-64ffe02d6855",
   "metadata": {},
   "source": [
    "28.isprintable: it returns true if all character in the string are printable"
   ]
  },
  {
   "cell_type": "code",
   "execution_count": 237,
   "id": "a19d91cc-e770-4b80-89ff-fe2dec0531e0",
   "metadata": {},
   "outputs": [
    {
     "name": "stdout",
     "output_type": "stream",
     "text": [
      "True\n"
     ]
    }
   ],
   "source": [
    "name=\"akshaya\"\n",
    "print(name.isprintable())"
   ]
  },
  {
   "cell_type": "markdown",
   "id": "3d6436ce-b013-4035-b7a2-585a2ca29df4",
   "metadata": {},
   "source": [
    "29.lstrip: it returns a copy of tyhe string by removing starting whitespaces"
   ]
  },
  {
   "cell_type": "code",
   "execution_count": 161,
   "id": "f14d0f6f-8a33-46a5-b609-481de2f65ed3",
   "metadata": {},
   "outputs": [
    {
     "name": "stdout",
     "output_type": "stream",
     "text": [
      "akshaya\n"
     ]
    }
   ],
   "source": [
    "#example\n",
    "str=\"   akshaya\"\n",
    "print(str.lstrip())"
   ]
  },
  {
   "cell_type": "markdown",
   "id": "8a8f76a0-6dc6-477b-84fb-1846ef9519e2",
   "metadata": {},
   "source": [
    "30.rstrip: it returns the string by removing the ending whitespaces"
   ]
  },
  {
   "cell_type": "code",
   "execution_count": 163,
   "id": "15840f34-e3e4-4234-a29f-cd3253600a97",
   "metadata": {},
   "outputs": [
    {
     "name": "stdout",
     "output_type": "stream",
     "text": [
      "akshaya\n"
     ]
    }
   ],
   "source": [
    "#example\n",
    "str=\"akshaya\"\n",
    "print(str.rstrip())"
   ]
  },
  {
   "cell_type": "markdown",
   "id": "a98e56ae-8799-49b6-8a74-b4dba1a426ef",
   "metadata": {},
   "source": [
    "31.splitlines: it will split the string and returns a list"
   ]
  },
  {
   "cell_type": "code",
   "execution_count": 169,
   "id": "816f6dde-df74-41e1-8f0c-5cde685057d8",
   "metadata": {},
   "outputs": [
    {
     "name": "stdout",
     "output_type": "stream",
     "text": [
      "['my', ' name', ' is', ' akshaya']\n"
     ]
    }
   ],
   "source": [
    "#example\n",
    "str=\"my\\n name\\n is\\n akshaya\\n\"\n",
    "c=str.splitlines()\n",
    "print(c)"
   ]
  },
  {
   "cell_type": "markdown",
   "id": "98e8bfe3-4917-4d2f-8d15-f7e7b22085a2",
   "metadata": {},
   "source": [
    "32.ljust: the string methods returns a new string of a given length after substituting a given character in rightside of original string"
   ]
  },
  {
   "cell_type": "code",
   "execution_count": 173,
   "id": "78a64255-3400-4633-803b-683e2e7c0e77",
   "metadata": {},
   "outputs": [
    {
     "name": "stdout",
     "output_type": "stream",
     "text": [
      "akshaya\n"
     ]
    }
   ],
   "source": [
    "#example\n",
    "str=\"akshaya\"\n",
    "length=5\n",
    "print(str.ljust(length))"
   ]
  },
  {
   "cell_type": "markdown",
   "id": "3966b241-2fba-4067-b3b7-0e97bafebb44",
   "metadata": {},
   "source": [
    "33.rjust: thsi method returns a new string of a given length after substituting a given character in leftside of original string"
   ]
  },
  {
   "cell_type": "code",
   "execution_count": 175,
   "id": "34957082-baf7-4d32-b09d-6400e5810294",
   "metadata": {},
   "outputs": [
    {
     "name": "stdout",
     "output_type": "stream",
     "text": [
      "akshaya\n"
     ]
    }
   ],
   "source": [
    "#example\n",
    "str=\"akshaya\"\n",
    "length=7\n",
    "print(str.rjust(length))"
   ]
  },
  {
   "cell_type": "markdown",
   "id": "96d1c0e3-d8c1-4bcc-806a-7e2f6d840b6b",
   "metadata": {},
   "source": [
    "34.zfill: it returns a copy of the string with 0 characters padded to the left side of the given string"
   ]
  },
  {
   "cell_type": "code",
   "execution_count": 183,
   "id": "4737cfd3-ad64-46ef-b3c5-623872dc4ce1",
   "metadata": {},
   "outputs": [
    {
     "name": "stdout",
     "output_type": "stream",
     "text": [
      "00000my name is akshaya\n",
      "000000000000my name is akshaya\n",
      "0000000000000000000000my name is akshaya\n"
     ]
    }
   ],
   "source": [
    "#example\n",
    "name=\"my name is akshaya\"\n",
    "print(name.zfill(23))\n",
    "print(name.zfill(30))\n",
    "print(name.zfill(40))"
   ]
  },
  {
   "cell_type": "markdown",
   "id": "d14afe24-ce99-4cfe-b37d-26b457c4aa52",
   "metadata": {},
   "source": [
    "35.swapcase: converts all uppercase characters to lowercase and viceversa"
   ]
  },
  {
   "cell_type": "code",
   "execution_count": 185,
   "id": "5317ab33-f9c4-4ec8-8ab6-596b8d73878b",
   "metadata": {},
   "outputs": [
    {
     "name": "stdout",
     "output_type": "stream",
     "text": [
      "aKShAyA\n",
      "AKSHAYA\n",
      "AKSHAYA\n"
     ]
    }
   ],
   "source": [
    "#example\n",
    "str=\"AksHaYa\"\n",
    "print(str.swapcase())\n",
    "\n",
    "str=\"akshaya\"\n",
    "print(str.swapcase())\n",
    "\n",
    "ste=\"AKSHAYA\"\n",
    "print(str.swapcase())"
   ]
  },
  {
   "cell_type": "markdown",
   "id": "f126b8ee-86ca-4339-a4cd-789f63c96392",
   "metadata": {},
   "source": [
    "36.startswith: returns true if a string starts with the given prefix"
   ]
  },
  {
   "cell_type": "code",
   "execution_count": 191,
   "id": "8d78bd38-fdd8-431b-bbbb-bcfc6935f89a",
   "metadata": {},
   "outputs": [
    {
     "name": "stdout",
     "output_type": "stream",
     "text": [
      "False\n"
     ]
    }
   ],
   "source": [
    "str=\"akshaya\"\n",
    "print(str.startswith(\"Akshaya\"))"
   ]
  },
  {
   "cell_type": "markdown",
   "id": "f42f964e-7f3e-4fe7-9a94-243e10931852",
   "metadata": {},
   "source": [
    "37.rindex: returns the highest index of the substring inside the string"
   ]
  },
  {
   "cell_type": "code",
   "execution_count": 195,
   "id": "0dc06bf0-45be-4496-9639-926bff53fd96",
   "metadata": {},
   "outputs": [
    {
     "name": "stdout",
     "output_type": "stream",
     "text": [
      "substring 'akshaya': 12\n"
     ]
    }
   ],
   "source": [
    "str='akshaya for akshaya'\n",
    "name=str.rindex('akshaya')\n",
    "print(\"substring 'akshaya':\",name)"
   ]
  },
  {
   "cell_type": "markdown",
   "id": "5a003b5b-edc9-45e2-9e73-328e037886d9",
   "metadata": {},
   "source": [
    "38.rfind: returns the highest index of the substring"
   ]
  },
  {
   "cell_type": "code",
   "execution_count": 199,
   "id": "231769c4-7f9d-4367-b839-738cfc08b00e",
   "metadata": {},
   "outputs": [
    {
     "name": "stdout",
     "output_type": "stream",
     "text": [
      "10\n"
     ]
    }
   ],
   "source": [
    "str=\"akshayaforakshaya\"\n",
    "print(str.rfind(\"akshaya\"))"
   ]
  },
  {
   "cell_type": "markdown",
   "id": "6f5a87d1-ed5b-4d21-924b-5974b61ee44a",
   "metadata": {},
   "source": [
    "39.format_map:formats specified values in a string using a dictionary"
   ]
  },
  {
   "cell_type": "code",
   "execution_count": 207,
   "id": "125724e2-83b8-42c0-a25e-5fa4865d9d93",
   "metadata": {},
   "outputs": [
    {
     "name": "stdout",
     "output_type": "stream",
     "text": [
      "akshaya's last name is ram\n"
     ]
    }
   ],
   "source": [
    "a={'x':'akshaya','y':'ram'}\n",
    "print(\"{x}'s last name is {y}\".format_map(a))"
   ]
  },
  {
   "cell_type": "markdown",
   "id": "c1690fad-2c3b-4da1-ab9c-faa1a24d616c",
   "metadata": {},
   "source": [
    "40.translate: modify string according to given translation mapping"
   ]
  },
  {
   "cell_type": "code",
   "execution_count": 213,
   "id": "e6a931b4-9140-40fc-9d02-039c4116f67c",
   "metadata": {},
   "outputs": [
    {
     "name": "stdout",
     "output_type": "stream",
     "text": [
      "translated string: akshaya\n"
     ]
    }
   ],
   "source": [
    "translation={103:None,101:None,101:None}\n",
    "str=\"akshaya\"\n",
    "print(\"translated string:\",str.translate(translation))"
   ]
  }
 ],
 "metadata": {
  "kernelspec": {
   "display_name": "Python 3 (ipykernel)",
   "language": "python",
   "name": "python3"
  },
  "language_info": {
   "codemirror_mode": {
    "name": "ipython",
    "version": 3
   },
   "file_extension": ".py",
   "mimetype": "text/x-python",
   "name": "python",
   "nbconvert_exporter": "python",
   "pygments_lexer": "ipython3",
   "version": "3.12.4"
  }
 },
 "nbformat": 4,
 "nbformat_minor": 5
}
