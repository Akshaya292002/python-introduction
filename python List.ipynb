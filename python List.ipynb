{
 "cells": [
  {
   "cell_type": "markdown",
   "id": "169d43c2-ac54-4f71-92bf-4ff9fca631ae",
   "metadata": {},
   "source": [
    "# 1.define about list\n",
    "- list are used to store multiple items in a single variable\n",
    "- it is commonly used data type that represents an ordered,mutable(modified) and iterable sequence of elements\n",
    "- lists are used to store collections of items and these items can be of any data type,including numbers,string or even other lists\n",
    "- lists are defined using square brackets[] and elements are separated by commas\n",
    "- list can allow duplicates\n",
    "- in list positive elements are starts from left to right\n",
    "- in list negative elements are starts from right to left\n",
    "- index value goes from 0 or -1 to n-1"
   ]
  },
  {
   "cell_type": "markdown",
   "id": "9b76501c-8a9f-46b6-a476-e5c50edb6579",
   "metadata": {},
   "source": [
    "# 2. create 10 examples storing different data types\n",
    "\n",
    "a=[4,5,6] #int\n",
    "number=[2.1,7,8.9,] #int and float\n",
    "y=[34.2,2.3,3.4,5.8] #float\n",
    "w=[25+7j,9+8j,56+7j] #complex\n",
    "1<0 #bool\n",
    "name=[2,3,4,5] #numberlist\n",
    "number=[1,5.6,6+7j] #int,float,complex\n",
    "cricketers=['dhoni','gill','raina','hardik'] #nameslist\n",
    "mixed_list=[7,77,\"gill\",8,\"apple\"] #mixed list\n",
    "list=[1,2,3,4,5,6,7,8,9,10] #list"
   ]
  },
  {
   "cell_type": "markdown",
   "id": "43ca2c0f-e013-44b2-b6ff-8d98dd3ae532",
   "metadata": {},
   "source": [
    "# 3.create a list with 15 elements you need to access each and every element from list both positive and negative"
   ]
  },
  {
   "cell_type": "code",
   "execution_count": 1,
   "id": "d4a4f404-50a3-4d10-aba8-4b5d991c6467",
   "metadata": {},
   "outputs": [
    {
     "name": "stdout",
     "output_type": "stream",
     "text": [
      "15\n",
      "11\n"
     ]
    }
   ],
   "source": [
    "list=[15,14,13,12,11,10,9,8,7,6,5,4,3,2,1]\n",
    "print(list[0])\n",
    "print(list[4])"
   ]
  },
  {
   "cell_type": "code",
   "execution_count": 3,
   "id": "7d98a996-b7e1-4092-9b71-e46feadd247a",
   "metadata": {},
   "outputs": [
    {
     "name": "stdout",
     "output_type": "stream",
     "text": [
      "5\n",
      "7\n"
     ]
    }
   ],
   "source": [
    "print(list[-5])\n",
    "print(list[8])"
   ]
  },
  {
   "cell_type": "code",
   "execution_count": 5,
   "id": "8de4d433-de69-4d56-ab38-77bfb68cc4aa",
   "metadata": {},
   "outputs": [
    {
     "name": "stdout",
     "output_type": "stream",
     "text": [
      "12\n",
      "3\n"
     ]
    }
   ],
   "source": [
    "print(list[3])\n",
    "print(list[-3])"
   ]
  },
  {
   "cell_type": "code",
   "execution_count": 7,
   "id": "4508b765-910b-47d1-b2e5-f55bd7789fa7",
   "metadata": {},
   "outputs": [
    {
     "name": "stdout",
     "output_type": "stream",
     "text": [
      "9\n",
      "2\n"
     ]
    }
   ],
   "source": [
    "print(list[6])\n",
    "print(list[-2])"
   ]
  },
  {
   "cell_type": "code",
   "execution_count": 9,
   "id": "dd7f99eb-ad0a-4988-b262-9d5c96fdda6f",
   "metadata": {},
   "outputs": [
    {
     "name": "stdout",
     "output_type": "stream",
     "text": [
      "8\n",
      "7\n"
     ]
    }
   ],
   "source": [
    "print(list[7])\n",
    "print(list[-7])"
   ]
  },
  {
   "cell_type": "code",
   "execution_count": 11,
   "id": "f55630fe-ed07-432e-b36d-8b92e99bf0b7",
   "metadata": {},
   "outputs": [
    {
     "name": "stdout",
     "output_type": "stream",
     "text": [
      "4\n",
      "13\n"
     ]
    }
   ],
   "source": [
    "print(list[-4])\n",
    "print(list[2])"
   ]
  },
  {
   "cell_type": "code",
   "execution_count": 13,
   "id": "cf264d8a-2420-4771-bb4b-a8d72310555b",
   "metadata": {},
   "outputs": [
    {
     "name": "stdout",
     "output_type": "stream",
     "text": [
      "14\n",
      "10\n"
     ]
    }
   ],
   "source": [
    "print(list[1])\n",
    "print(list[5])"
   ]
  },
  {
   "cell_type": "code",
   "execution_count": 15,
   "id": "2973870b-6ddd-402c-bb5b-aa5d5832ce8f",
   "metadata": {},
   "outputs": [
    {
     "name": "stdout",
     "output_type": "stream",
     "text": [
      "1\n",
      "5\n"
     ]
    }
   ],
   "source": [
    "print(list[-1])\n",
    "print(list[-5])"
   ]
  },
  {
   "cell_type": "markdown",
   "id": "41fb0050-741c-4e5e-96be-e9ce2ab435cc",
   "metadata": {},
   "source": [
    "# 4. slicing both positive and negative"
   ]
  },
  {
   "cell_type": "code",
   "execution_count": 27,
   "id": "3f76f6f7-16b0-4af2-bc11-8c4661a99ca5",
   "metadata": {},
   "outputs": [
    {
     "name": "stdout",
     "output_type": "stream",
     "text": [
      "[4]\n",
      "[4, 22, 66, 36, 45, 77, 8, 9, 10, 11]\n",
      "[2, 34, 5, 6, 7, 4, 22, 66, 36, 45, 77, 8]\n",
      "[7, 4, 22, 66]\n"
     ]
    }
   ],
   "source": [
    "#positiveslicing and negative slicing\n",
    "list=[2,34,5,6,7,4,22,66,36,45,77,8,9,10,11]\n",
    "print(list[5:6])\n",
    "print(list[5:])\n",
    "print(list[:-3])\n",
    "print(list[4:-7])"
   ]
  },
  {
   "cell_type": "markdown",
   "id": "aa4835fa-022a-4e0e-aedb-eb4e7dbbbf57",
   "metadata": {},
   "source": [
    "# 5.concatenating any 5 list"
   ]
  },
  {
   "cell_type": "code",
   "execution_count": 19,
   "id": "51690fdc-24f5-4b3c-8886-cd3c2ccb3e62",
   "metadata": {},
   "outputs": [
    {
     "name": "stdout",
     "output_type": "stream",
     "text": [
      "[1, 2, 3, 'gill', 'dhoni', 'hardik', 'ram', 'chandu', 'jathin', 'apple', 'mango', 'grapes', 7, 77, 'coffee', 33, 'aishu']\n"
     ]
    }
   ],
   "source": [
    "a=[1,2,3]\n",
    "cricket=['gill','dhoni','hardik']\n",
    "name=['ram','chandu','jathin']\n",
    "fruits=['apple','mango','grapes']\n",
    "mixed=[7,77,\"coffee\",33,\"aishu\"]\n",
    "list=a+cricket+name+fruits+mixed\n",
    "print(list)"
   ]
  },
  {
   "cell_type": "markdown",
   "id": "55112d92-232e-4fab-8961-6eea9dc4c5f7",
   "metadata": {},
   "source": [
    "# 6.repetition of any 5 list"
   ]
  },
  {
   "cell_type": "code",
   "execution_count": 23,
   "id": "3c296073-3ac7-4245-a158-9d581644e7bd",
   "metadata": {},
   "outputs": [
    {
     "name": "stdout",
     "output_type": "stream",
     "text": [
      "['dhoni', 'gill', 'hardik', 'dhoni', 'gill', 'hardik', 'dhoni', 'gill', 'hardik', 'dhoni', 'gill', 'hardik', 'dhoni', 'gill', 'hardik', 'dhoni', 'gill', 'hardik', 'dhoni', 'gill', 'hardik']\n"
     ]
    }
   ],
   "source": [
    "cricket=['dhoni','gill','hardik']\n",
    "e=cricket*7\n",
    "print(e)"
   ]
  },
  {
   "cell_type": "code",
   "execution_count": 25,
   "id": "b35ffd55-796d-468d-a726-14a722087537",
   "metadata": {},
   "outputs": [
    {
     "name": "stdout",
     "output_type": "stream",
     "text": [
      "[7, 77, 'gill', 8, 'apple', 7, 77, 'gill', 8, 'apple', 7, 77, 'gill', 8, 'apple']\n"
     ]
    }
   ],
   "source": [
    "mixed_list=[7,77,\"gill\",8,\"apple\"]\n",
    "rep_list=mixed_list*3\n",
    "print(rep_list)"
   ]
  },
  {
   "cell_type": "code",
   "execution_count": 29,
   "id": "3ea1e953-de2d-4b7d-8a5f-a95804b1710e",
   "metadata": {},
   "outputs": [
    {
     "name": "stdout",
     "output_type": "stream",
     "text": [
      "[7, (7+7j), 7.7, 7, (7+7j), 7.7, 7, (7+7j), 7.7, 7, (7+7j), 7.7, 7, (7+7j), 7.7]\n"
     ]
    }
   ],
   "source": [
    "a=[7,7+7j,7.7]\n",
    "rep_list=a*5\n",
    "print(rep_list)"
   ]
  },
  {
   "cell_type": "code",
   "execution_count": 31,
   "id": "baebd6db-70dd-4507-914f-344ab10fd13a",
   "metadata": {},
   "outputs": [
    {
     "name": "stdout",
     "output_type": "stream",
     "text": [
      "[4, 5, 6, 4, 5, 6, 4, 5, 6, 4, 5, 6]\n"
     ]
    }
   ],
   "source": [
    "a=[4,5,6]\n",
    "rep_list=a*4\n",
    "print(rep_list)"
   ]
  },
  {
   "cell_type": "code",
   "execution_count": 33,
   "id": "18738056-2c81-4552-805b-46eb474e64f1",
   "metadata": {},
   "outputs": [
    {
     "name": "stdout",
     "output_type": "stream",
     "text": [
      "[34.2, 2.3, 3.4, 5.8, 34.2, 2.3, 3.4, 5.8]\n"
     ]
    }
   ],
   "source": [
    "y=[34.2,2.3,3.4,5.8]\n",
    "rep_list=y*2\n",
    "print(rep_list)"
   ]
  },
  {
   "cell_type": "markdown",
   "id": "c7d273a0-fa15-4f61-8cbe-8b7136c0d804",
   "metadata": {},
   "source": [
    "# 7.modify 5 elements in the list of 15 elements by using slicing and indexing"
   ]
  },
  {
   "cell_type": "code",
   "execution_count": 45,
   "id": "b9d4e0a4-af05-45c4-bb71-0356cd84c772",
   "metadata": {},
   "outputs": [
    {
     "name": "stdout",
     "output_type": "stream",
     "text": [
      "[7, 77, 'rohit', 'virat', 'hardik', 10, 8, 3, 1, 8, 9, 4, 78, 88, 'ram']\n"
     ]
    }
   ],
   "source": [
    "list=[7,77,45,18,33,10,8,3,1,8,9,4,78,88,100]\n",
    "list[2]=\"rohit\"\n",
    "list[4]=\"hardik\"\n",
    "list[-1]=\"ram\"\n",
    "list[3]=\"virat\"\n",
    "print(list)"
   ]
  },
  {
   "cell_type": "code",
   "execution_count": 47,
   "id": "710ac7fc-f6ec-4182-8283-8b3d287a2084",
   "metadata": {},
   "outputs": [
    {
     "name": "stdout",
     "output_type": "stream",
     "text": [
      "[7, 77, 'rohit', 'virat', 33, 10, 8, 3, 1, 67, 88, 99, 100, 56, 23]\n"
     ]
    }
   ],
   "source": [
    "list=[7,77,45,18,33,10,8,3,1,67,88,99,100,56,23]\n",
    "list[2:4]=[\"rohit\",\"virat\"]\n",
    "print(list)"
   ]
  },
  {
   "cell_type": "code",
   "execution_count": 49,
   "id": "a1d2c4e2-09b7-4516-999e-d22d01431065",
   "metadata": {},
   "outputs": [
    {
     "name": "stdout",
     "output_type": "stream",
     "text": [
      "[5, 1, 2, 3, 4, 10, 88, 99, 100, 77, 66, 44, 22, 11, 42]\n"
     ]
    }
   ],
   "source": [
    "a=[5,6,7,8,9,10,88,99,100,77,66,44,22,11,42]\n",
    "a[1:5]=[1,2,3,4,]\n",
    "print(a)"
   ]
  },
  {
   "cell_type": "markdown",
   "id": "0e938c5a-1c24-47f2-a0e8-4c2d3458c0b7",
   "metadata": {},
   "source": [
    "# 8.methods in list\n",
    "1.append():\n",
    "- adds an element to the end of the list"
   ]
  },
  {
   "cell_type": "code",
   "execution_count": 51,
   "id": "f43c0548-8a2c-45db-964d-5a12ca5dd7e3",
   "metadata": {},
   "outputs": [
    {
     "name": "stdout",
     "output_type": "stream",
     "text": [
      "[1, 2, 3, 77]\n"
     ]
    }
   ],
   "source": [
    "#append\n",
    "number=[1,2,3]\n",
    "number.append(77)\n",
    "print(number)"
   ]
  },
  {
   "cell_type": "markdown",
   "id": "89ea945d-9eda-444f-b996-893cf0bbcee5",
   "metadata": {},
   "source": [
    "2.extend()\n",
    "- appends elements from another iterable to the end"
   ]
  },
  {
   "cell_type": "code",
   "execution_count": 53,
   "id": "56fee5d9-5564-4232-b11c-0c289c2a865e",
   "metadata": {},
   "outputs": [
    {
     "name": "stdout",
     "output_type": "stream",
     "text": [
      "[1, 2, 3, 4, 5, 6]\n"
     ]
    }
   ],
   "source": [
    "#extend\n",
    "numbers=[1,2,3]\n",
    "list=[4,5,6]\n",
    "numbers.extend(list)\n",
    "print(numbers)"
   ]
  },
  {
   "cell_type": "markdown",
   "id": "d3157317-8e89-4ead-b3d2-829dc4342318",
   "metadata": {},
   "source": [
    "3.insert()\n",
    "- inserts an element at a specified position"
   ]
  },
  {
   "cell_type": "code",
   "execution_count": 55,
   "id": "53d417eb-55c3-4785-b83e-89f0dc065cbe",
   "metadata": {},
   "outputs": [
    {
     "name": "stdout",
     "output_type": "stream",
     "text": [
      "[1, 2, 4, 3]\n"
     ]
    }
   ],
   "source": [
    "#insert\n",
    "numbers=[1,2,3]\n",
    "numbers.insert(2,4)\n",
    "print(numbers)"
   ]
  },
  {
   "cell_type": "markdown",
   "id": "b73e9baf-34c3-46c3-beb5-c37df9f10512",
   "metadata": {},
   "source": [
    "4.remove()\n",
    "- removes the first occurance of a value"
   ]
  },
  {
   "cell_type": "code",
   "execution_count": 57,
   "id": "a41e37fa-5eae-4a14-ab34-9e96797de9b2",
   "metadata": {},
   "outputs": [
    {
     "name": "stdout",
     "output_type": "stream",
     "text": [
      "[1, 3, 6, 7.8, 9]\n"
     ]
    }
   ],
   "source": [
    "#remove\n",
    "numbers=[1,2,3,6,7.8,9]\n",
    "numbers.remove(2)\n",
    "print(numbers)"
   ]
  },
  {
   "cell_type": "markdown",
   "id": "ef500bbf-c387-4265-93ec-dcb71ae51949",
   "metadata": {},
   "source": [
    "5.pop()\n",
    "- removes and returns an element at a specified index"
   ]
  },
  {
   "cell_type": "code",
   "execution_count": 61,
   "id": "ec211335-7ccb-4096-a7bc-9fe8874e758d",
   "metadata": {},
   "outputs": [
    {
     "name": "stdout",
     "output_type": "stream",
     "text": [
      "[1, 2, 3, 4, 5, 7, 9, 4, 10, 55]\n"
     ]
    }
   ],
   "source": [
    "#pop\n",
    "numbers=[1,2,3,4,5,7,9,4,10,55,88]\n",
    "popped_element=numbers.pop()\n",
    "print(numbers)"
   ]
  },
  {
   "cell_type": "markdown",
   "id": "beb5abcc-0fa1-49ed-bf9b-4ece4b887f2a",
   "metadata": {},
   "source": [
    "6. index()\n",
    "- returns the index of the first occurance of a value"
   ]
  },
  {
   "cell_type": "code",
   "execution_count": 67,
   "id": "da8f0c32-790b-4039-b3a7-f9f96a9240b1",
   "metadata": {},
   "outputs": [
    {
     "name": "stdout",
     "output_type": "stream",
     "text": [
      "7\n"
     ]
    }
   ],
   "source": [
    "numbers=[10,20,30,40,50,60,70,80,90,100]\n",
    "index=numbers.index(80)\n",
    "print(index)"
   ]
  },
  {
   "cell_type": "markdown",
   "id": "dd5a1180-788a-4406-a419-26fb09e0cf76",
   "metadata": {},
   "source": [
    "7.count()\n",
    "- counts the number of occurance of a value"
   ]
  },
  {
   "cell_type": "code",
   "execution_count": 71,
   "id": "61cb120b-8a28-41f9-a23c-d31e185e690e",
   "metadata": {},
   "outputs": [
    {
     "name": "stdout",
     "output_type": "stream",
     "text": [
      "5\n"
     ]
    }
   ],
   "source": [
    "#count\n",
    "numbers=[1,2,3,4,5,6,5,8,6,5,9,5,10,5]\n",
    "count=numbers.count(5)\n",
    "print(count)"
   ]
  },
  {
   "cell_type": "markdown",
   "id": "35d3dadc-a61a-43dd-8553-9878097185b3",
   "metadata": {},
   "source": [
    "8.sort()\n",
    "- it sorts the list in ascending order"
   ]
  },
  {
   "cell_type": "code",
   "execution_count": 73,
   "id": "7b6d67a3-3ed1-4347-bec7-8137b5b282f5",
   "metadata": {},
   "outputs": [
    {
     "name": "stdout",
     "output_type": "stream",
     "text": [
      "[0, 1, 2, 2, 2, 2, 2, 2, 3, 4, 5, 6, 7, 7, 8, 9, 56]\n"
     ]
    }
   ],
   "source": [
    "#sort\n",
    "numbers=[1,2,3,2,4,2,6,7,9,0,2,56,2,8,2,5,7]\n",
    "numbers.sort()\n",
    "print(numbers)"
   ]
  },
  {
   "cell_type": "markdown",
   "id": "d9917c73-df63-4044-b75f-ad26fbb1f69c",
   "metadata": {},
   "source": [
    "9.reverse()\n",
    "- it reverse the list"
   ]
  },
  {
   "cell_type": "code",
   "execution_count": 75,
   "id": "be2dface-be80-46e3-85f8-e8e121591736",
   "metadata": {},
   "outputs": [
    {
     "name": "stdout",
     "output_type": "stream",
     "text": [
      "[2, 7, 0, 9, 8, 6, 2, 0, 6]\n"
     ]
    }
   ],
   "source": [
    "#reverse\n",
    "numbers=[6,0,2,6,8,9,0,7,2]\n",
    "numbers.reverse()\n",
    "print(numbers)"
   ]
  },
  {
   "cell_type": "markdown",
   "id": "0e10d03b-d180-495d-9d8b-561077dd8274",
   "metadata": {},
   "source": [
    "10.clear()\n",
    "- this method is used for removing all items from the list"
   ]
  },
  {
   "cell_type": "code",
   "execution_count": 81,
   "id": "f03785c1-ac4d-4700-b703-9287b7ccb1a4",
   "metadata": {},
   "outputs": [
    {
     "name": "stdout",
     "output_type": "stream",
     "text": [
      "[]\n"
     ]
    }
   ],
   "source": [
    "#clear\n",
    "numbers=[1,2,3]\n",
    "numbers.clear()\n",
    "print(numbers)"
   ]
  },
  {
   "cell_type": "markdown",
   "id": "b83eaac7-8d91-4c10-85de-8afa9c77262b",
   "metadata": {},
   "source": [
    "11.copy()\n",
    "- it returns a shallow copy of list"
   ]
  },
  {
   "cell_type": "code",
   "execution_count": 85,
   "id": "9f99e873-c2e1-4c53-b3ae-301d7dbe6bbc",
   "metadata": {},
   "outputs": [
    {
     "name": "stdout",
     "output_type": "stream",
     "text": [
      "[1, 2, 3, 4]\n"
     ]
    }
   ],
   "source": [
    "#copy\n",
    "numbers=[1,2,3,4]\n",
    "x=numbers.copy()\n",
    "print(x)"
   ]
  },
  {
   "cell_type": "markdown",
   "id": "7ff8d711-03ab-4e21-885f-1204dff7df59",
   "metadata": {},
   "source": [
    "12.max()\n",
    "- calculates the maximum of all the elements of the list"
   ]
  },
  {
   "cell_type": "code",
   "execution_count": 79,
   "id": "18506b45-7723-41b7-8a0d-bd525937fa38",
   "metadata": {},
   "outputs": [
    {
     "name": "stdout",
     "output_type": "stream",
     "text": [
      "100\n"
     ]
    }
   ],
   "source": [
    "#max\n",
    "numbers=[9,8,54,34,45,22,100]\n",
    "print(max(numbers))"
   ]
  },
  {
   "cell_type": "markdown",
   "id": "49a3845f-3943-485a-ac22-c68ca57c7421",
   "metadata": {},
   "source": [
    "13.min()\n",
    "- calculates the minimum of all the elements of the list"
   ]
  },
  {
   "cell_type": "code",
   "execution_count": 77,
   "id": "d85e19e7-3cd2-450b-aaa8-27df1503b558",
   "metadata": {},
   "outputs": [
    {
     "name": "stdout",
     "output_type": "stream",
     "text": [
      "4\n"
     ]
    }
   ],
   "source": [
    "#min\n",
    "numbers=[23,4,45,7,98,10,48]\n",
    "print(min(numbers))"
   ]
  }
 ],
 "metadata": {
  "kernelspec": {
   "display_name": "Python 3 (ipykernel)",
   "language": "python",
   "name": "python3"
  },
  "language_info": {
   "codemirror_mode": {
    "name": "ipython",
    "version": 3
   },
   "file_extension": ".py",
   "mimetype": "text/x-python",
   "name": "python",
   "nbconvert_exporter": "python",
   "pygments_lexer": "ipython3",
   "version": "3.12.4"
  }
 },
 "nbformat": 4,
 "nbformat_minor": 5
}
