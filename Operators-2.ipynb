{
 "cells": [
  {
   "cell_type": "markdown",
   "id": "97f48bf5-8c5b-4b00-a408-fcc564769697",
   "metadata": {},
   "source": [
    "# 1. explain about operators\n",
    "- operators are used to perform some operations between the variables and values\n",
    "- there are several operators which performs the function and they are combination of symbols,numbers and keywors ets\n",
    "- there are seven types of operators in python"
   ]
  },
  {
   "cell_type": "markdown",
   "id": "7ac7773f-f03d-4a15-a272-c3e1dd40f77c",
   "metadata": {},
   "source": [
    "# 2. Types of operators\n",
    "there are 7 types of operators:-\n",
    "1.Arithmetic operator\n",
    "2.Comparison operator\n",
    "3.Assignment operator\n",
    "4.Logical operator\n",
    "5.Identity operator\n",
    "6.Membership operator\n",
    "7.Bitwise operator"
   ]
  },
  {
   "cell_type": "markdown",
   "id": "89087428-126b-4d9d-baa6-4a693a813bd1",
   "metadata": {},
   "source": [
    "# 1.Arithmetic operator:-\n",
    "- symbols or functions that performs mathematical operations such as addition,substraction,multiplication,division,exponent,floor division and modulus\n",
    "- they use these (+,-,*,%,/,** and //) operators to perform functions with variables"
   ]
  },
  {
   "cell_type": "code",
   "execution_count": 1,
   "id": "925b990b-6673-49d1-93a1-889803df7e85",
   "metadata": {},
   "outputs": [
    {
     "name": "stdout",
     "output_type": "stream",
     "text": [
      "13\n"
     ]
    }
   ],
   "source": [
    "#arithmetic operator\n",
    "a=7\n",
    "b=6\n",
    "c=a+b\n",
    "print(c)"
   ]
  },
  {
   "cell_type": "code",
   "execution_count": 3,
   "id": "cdff5933-bea5-4fe8-a619-4e8352936918",
   "metadata": {},
   "outputs": [
    {
     "name": "stdout",
     "output_type": "stream",
     "text": [
      "17\n"
     ]
    }
   ],
   "source": [
    "#2\n",
    "x=24\n",
    "p=7\n",
    "s=x-p\n",
    "print(s)"
   ]
  },
  {
   "cell_type": "code",
   "execution_count": 5,
   "id": "42476c4c-277d-43ce-a53e-ae4a8d8e3117",
   "metadata": {},
   "outputs": [
    {
     "name": "stdout",
     "output_type": "stream",
     "text": [
      "35\n"
     ]
    }
   ],
   "source": [
    "#3\n",
    "akshaya=5\n",
    "ram=7\n",
    "name=akshaya*ram\n",
    "print(name)"
   ]
  },
  {
   "cell_type": "code",
   "execution_count": 7,
   "id": "365bbe84-738f-483b-9f5f-85d4bdc31683",
   "metadata": {},
   "outputs": [
    {
     "name": "stdout",
     "output_type": "stream",
     "text": [
      "2.0\n"
     ]
    }
   ],
   "source": [
    "#4\n",
    "a=6\n",
    "b=3\n",
    "c=a/b\n",
    "print(c)"
   ]
  },
  {
   "cell_type": "code",
   "execution_count": 9,
   "id": "5ac372e7-fdc8-4d40-b36e-8f2aea4c7bb6",
   "metadata": {},
   "outputs": [
    {
     "name": "stdout",
     "output_type": "stream",
     "text": [
      "7\n"
     ]
    }
   ],
   "source": [
    "#5\n",
    "w=23\n",
    "e=3\n",
    "r=w//e\n",
    "print(r)"
   ]
  },
  {
   "cell_type": "code",
   "execution_count": 11,
   "id": "d03db3d5-fa60-4efc-becd-03bac6e50489",
   "metadata": {},
   "outputs": [
    {
     "name": "stdout",
     "output_type": "stream",
     "text": [
      "65536\n"
     ]
    }
   ],
   "source": [
    "#6\n",
    "q=4\n",
    "r=8\n",
    "t=q**r\n",
    "print(t)"
   ]
  },
  {
   "cell_type": "code",
   "execution_count": 15,
   "id": "68e88e66-75c5-4d02-80d8-9536b6e38ac6",
   "metadata": {},
   "outputs": [
    {
     "name": "stdout",
     "output_type": "stream",
     "text": [
      "0\n"
     ]
    }
   ],
   "source": [
    "#7\n",
    "d=9\n",
    "w=3\n",
    "x=d%w\n",
    "print(x)"
   ]
  },
  {
   "cell_type": "code",
   "execution_count": 17,
   "id": "9b895f42-642b-4ef0-965f-2ef89f3a7003",
   "metadata": {},
   "outputs": [
    {
     "name": "stdout",
     "output_type": "stream",
     "text": [
      "68\n"
     ]
    }
   ],
   "source": [
    "#8\n",
    "s=23\n",
    "d=45\n",
    "x=s+d\n",
    "print(x)"
   ]
  },
  {
   "cell_type": "code",
   "execution_count": 19,
   "id": "5b2b102f-7e49-4528-9ee9-3e84b7d3dee4",
   "metadata": {},
   "outputs": [
    {
     "name": "stdout",
     "output_type": "stream",
     "text": [
      "3\n"
     ]
    }
   ],
   "source": [
    "#9\n",
    "d=3\n",
    "f=5\n",
    "c=d%5\n",
    "print(c)"
   ]
  },
  {
   "cell_type": "code",
   "execution_count": 21,
   "id": "11610c6b-e2af-4ff5-b483-1af5f893876c",
   "metadata": {},
   "outputs": [
    {
     "name": "stdout",
     "output_type": "stream",
     "text": [
      "3\n"
     ]
    }
   ],
   "source": [
    "#10\n",
    "q=3\n",
    "r=1\n",
    "d=q//r\n",
    "print(d)"
   ]
  },
  {
   "cell_type": "markdown",
   "id": "abfbc968-d741-4305-af3d-6a9b2284c364",
   "metadata": {},
   "source": [
    "# 2.Comparision operator:-\n",
    "- comparision operator compares two values or two variables\n",
    "there are 6 types\n",
    "1. == is equals to\n",
    "2. != not equal to\n",
    "3. > greater than\n",
    "4. < less than\n",
    "5. >= greater than or equal to\n",
    "6. <= less than or equal to"
   ]
  },
  {
   "cell_type": "code",
   "execution_count": 23,
   "id": "bdd9362a-3b89-44f7-bfb6-23fea8cea210",
   "metadata": {},
   "outputs": [
    {
     "data": {
      "text/plain": [
       "True"
      ]
     },
     "execution_count": 23,
     "metadata": {},
     "output_type": "execute_result"
    }
   ],
   "source": [
    "#comparision operator\n",
    "5!=3"
   ]
  },
  {
   "cell_type": "code",
   "execution_count": 25,
   "id": "4bb4e36e-e1e4-4202-b578-9f673d3fc9e5",
   "metadata": {},
   "outputs": [
    {
     "data": {
      "text/plain": [
       "True"
      ]
     },
     "execution_count": 25,
     "metadata": {},
     "output_type": "execute_result"
    }
   ],
   "source": [
    "5==5"
   ]
  },
  {
   "cell_type": "code",
   "execution_count": 27,
   "id": "8dfe62a3-b4d3-4fc2-a2a5-37e4aaad1962",
   "metadata": {},
   "outputs": [
    {
     "data": {
      "text/plain": [
       "True"
      ]
     },
     "execution_count": 27,
     "metadata": {},
     "output_type": "execute_result"
    }
   ],
   "source": [
    "7>5"
   ]
  },
  {
   "cell_type": "code",
   "execution_count": 29,
   "id": "380e1e61-dade-49d5-a20c-7371143a9dc8",
   "metadata": {},
   "outputs": [
    {
     "data": {
      "text/plain": [
       "True"
      ]
     },
     "execution_count": 29,
     "metadata": {},
     "output_type": "execute_result"
    }
   ],
   "source": [
    "6<7"
   ]
  },
  {
   "cell_type": "code",
   "execution_count": 31,
   "id": "8282c298-f702-4490-9567-63987e0374a1",
   "metadata": {},
   "outputs": [
    {
     "data": {
      "text/plain": [
       "False"
      ]
     },
     "execution_count": 31,
     "metadata": {},
     "output_type": "execute_result"
    }
   ],
   "source": [
    "7>34"
   ]
  },
  {
   "cell_type": "code",
   "execution_count": 33,
   "id": "35029746-2edc-42a8-b5fc-0b766e7b74b3",
   "metadata": {},
   "outputs": [
    {
     "data": {
      "text/plain": [
       "True"
      ]
     },
     "execution_count": 33,
     "metadata": {},
     "output_type": "execute_result"
    }
   ],
   "source": [
    "5>=5"
   ]
  },
  {
   "cell_type": "code",
   "execution_count": 35,
   "id": "1342e2aa-465e-40ce-8ee1-cb0bff6d4cdf",
   "metadata": {},
   "outputs": [
    {
     "data": {
      "text/plain": [
       "True"
      ]
     },
     "execution_count": 35,
     "metadata": {},
     "output_type": "execute_result"
    }
   ],
   "source": [
    "3<=5"
   ]
  },
  {
   "cell_type": "code",
   "execution_count": 37,
   "id": "34768a01-9d66-4869-805b-7001e3afc1b0",
   "metadata": {},
   "outputs": [
    {
     "data": {
      "text/plain": [
       "True"
      ]
     },
     "execution_count": 37,
     "metadata": {},
     "output_type": "execute_result"
    }
   ],
   "source": [
    "6>=5"
   ]
  },
  {
   "cell_type": "code",
   "execution_count": 39,
   "id": "a0ebf992-53ce-479f-bd2d-8facff6053a8",
   "metadata": {},
   "outputs": [
    {
     "data": {
      "text/plain": [
       "False"
      ]
     },
     "execution_count": 39,
     "metadata": {},
     "output_type": "execute_result"
    }
   ],
   "source": [
    "12<=6"
   ]
  },
  {
   "cell_type": "code",
   "execution_count": 41,
   "id": "1ed57778-3ae1-4236-b8ef-d070049450ae",
   "metadata": {},
   "outputs": [
    {
     "data": {
      "text/plain": [
       "True"
      ]
     },
     "execution_count": 41,
     "metadata": {},
     "output_type": "execute_result"
    }
   ],
   "source": [
    "6!=34"
   ]
  },
  {
   "cell_type": "markdown",
   "id": "80cd0059-6069-4d1a-a793-495d1e25a480",
   "metadata": {},
   "source": [
    "# 3. Assignment operator:-\n",
    "- used for code optimisation purpose\n",
    "- by using assignment operator we can reduce the uses of memory\n",
    "there are 7 types of assignment operators\n",
    "1. = assignemnt operator\n",
    "2. += addition assignment\n",
    "3. -= substraction assignment\n",
    "4. *= multiplication assignment\n",
    "5. /= division assignment\n",
    "6. %= reminder assignment\n",
    "7. **= exponent assignment"
   ]
  },
  {
   "cell_type": "code",
   "execution_count": 45,
   "id": "e7a3a3c3-1be8-409f-85a0-bc639f8a5035",
   "metadata": {},
   "outputs": [
    {
     "name": "stdout",
     "output_type": "stream",
     "text": [
      "10\n"
     ]
    }
   ],
   "source": [
    "#assignment operator\n",
    "a=10\n",
    "print(a)"
   ]
  },
  {
   "cell_type": "code",
   "execution_count": 47,
   "id": "6836e36c-f0da-492f-8153-e32a18c53e0e",
   "metadata": {},
   "outputs": [
    {
     "name": "stdout",
     "output_type": "stream",
     "text": [
      "15\n"
     ]
    }
   ],
   "source": [
    "a+=5\n",
    "print(a)"
   ]
  },
  {
   "cell_type": "code",
   "execution_count": 49,
   "id": "75ce61da-a5fd-4625-b096-fcf8fb84dfa7",
   "metadata": {},
   "outputs": [
    {
     "name": "stdout",
     "output_type": "stream",
     "text": [
      "8\n"
     ]
    }
   ],
   "source": [
    "a=5\n",
    "b=3\n",
    "c=a+b\n",
    "print(c)"
   ]
  },
  {
   "cell_type": "code",
   "execution_count": 51,
   "id": "f5433c20-88ed-4eeb-9f1e-2405ebe99254",
   "metadata": {},
   "outputs": [
    {
     "name": "stdout",
     "output_type": "stream",
     "text": [
      "408\n"
     ]
    }
   ],
   "source": [
    "a=5\n",
    "b=6\n",
    "x*=b\n",
    "print(x)"
   ]
  },
  {
   "cell_type": "code",
   "execution_count": 53,
   "id": "8ccfe7fb-8c14-43bb-ac21-ba63bd94c8ec",
   "metadata": {},
   "outputs": [
    {
     "name": "stdout",
     "output_type": "stream",
     "text": [
      "12\n"
     ]
    }
   ],
   "source": [
    "z=4\n",
    "x=3\n",
    "z*=x\n",
    "print(z)"
   ]
  },
  {
   "cell_type": "code",
   "execution_count": 55,
   "id": "8ffcb45d-085e-4e2f-8bde-449cff10e44f",
   "metadata": {},
   "outputs": [
    {
     "name": "stdout",
     "output_type": "stream",
     "text": [
      "2.4\n"
     ]
    }
   ],
   "source": [
    "s=5\n",
    "c=4\n",
    "z/=s\n",
    "print(z)"
   ]
  },
  {
   "cell_type": "code",
   "execution_count": 57,
   "id": "8f701f46-969e-4f41-828a-7604bd3529fd",
   "metadata": {},
   "outputs": [
    {
     "name": "stdout",
     "output_type": "stream",
     "text": [
      "-2\n"
     ]
    }
   ],
   "source": [
    "a=3\n",
    "b=5\n",
    "a-=b\n",
    "print(a)"
   ]
  },
  {
   "cell_type": "code",
   "execution_count": 61,
   "id": "b617cce8-9f02-4590-b4b9-0db998dc1632",
   "metadata": {},
   "outputs": [
    {
     "name": "stdout",
     "output_type": "stream",
     "text": [
      "3\n"
     ]
    }
   ],
   "source": [
    "a=3\n",
    "b=5\n",
    "a%=b\n",
    "print(a)"
   ]
  },
  {
   "cell_type": "code",
   "execution_count": 63,
   "id": "b87ad691-8642-4ae9-8e36-d69f63c43db5",
   "metadata": {},
   "outputs": [
    {
     "name": "stdout",
     "output_type": "stream",
     "text": [
      "0\n"
     ]
    }
   ],
   "source": [
    "a=5\n",
    "b=7\n",
    "a//=b\n",
    "print(a)"
   ]
  },
  {
   "cell_type": "code",
   "execution_count": 65,
   "id": "4a0df7c8-9794-42af-9919-001f4c64c39f",
   "metadata": {},
   "outputs": [
    {
     "name": "stdout",
     "output_type": "stream",
     "text": [
      "16807\n"
     ]
    }
   ],
   "source": [
    "a=7\n",
    "b=5\n",
    "a**=b\n",
    "print(a)"
   ]
  },
  {
   "cell_type": "markdown",
   "id": "e9551e6b-bf4c-4a22-be41-9c4a4fdc205a",
   "metadata": {},
   "source": [
    "# 4.logical operator:-\n",
    "- an operator used to compare logical expressions that result of true or false\n",
    "there are 3 logical operators\n",
    "1. and\n",
    "2. or\n",
    "3. not\n",
    "- AND operator returns true only if both the variables are true,if one of them is false the result turns out as false\n",
    "- OR operator returns true if one of the variable condition is true\n",
    "- NOT operator is, if the result is true then the logical NOT operator will make it false and vice-versa"
   ]
  },
  {
   "cell_type": "code",
   "execution_count": 71,
   "id": "858d4eeb-1ff7-4b0f-9d26-58da458005d7",
   "metadata": {},
   "outputs": [
    {
     "name": "stdout",
     "output_type": "stream",
     "text": [
      "True\n"
     ]
    }
   ],
   "source": [
    "#logical operators\n",
    "\n",
    "a=10\n",
    "print(a>5 and a<15)"
   ]
  },
  {
   "cell_type": "code",
   "execution_count": 73,
   "id": "a3063564-61c2-4c1f-ac97-92c136169722",
   "metadata": {},
   "outputs": [
    {
     "name": "stdout",
     "output_type": "stream",
     "text": [
      "False\n"
     ]
    }
   ],
   "source": [
    "a=15\n",
    "print(a>5 and a<6)"
   ]
  },
  {
   "cell_type": "code",
   "execution_count": 75,
   "id": "a855e96c-4b6d-4bb8-b5e8-1692ae738a21",
   "metadata": {},
   "outputs": [
    {
     "name": "stdout",
     "output_type": "stream",
     "text": [
      "True\n"
     ]
    }
   ],
   "source": [
    "a=23\n",
    "print(a>5 or a<2)"
   ]
  },
  {
   "cell_type": "code",
   "execution_count": 79,
   "id": "71967e4b-263c-4788-88f7-6eef3928e14c",
   "metadata": {},
   "outputs": [
    {
     "name": "stdout",
     "output_type": "stream",
     "text": [
      "False\n"
     ]
    }
   ],
   "source": [
    "z=45\n",
    "print(z>34 and z<5)"
   ]
  },
  {
   "cell_type": "code",
   "execution_count": 81,
   "id": "d7c761aa-7e91-429e-af25-372cafc482cf",
   "metadata": {},
   "outputs": [
    {
     "name": "stdout",
     "output_type": "stream",
     "text": [
      "True\n"
     ]
    }
   ],
   "source": [
    "w=45\n",
    "print(not(z>34 and z<5))"
   ]
  },
  {
   "cell_type": "code",
   "execution_count": 83,
   "id": "03ccbd41-d7d8-477f-bf47-498d284fa080",
   "metadata": {},
   "outputs": [
    {
     "name": "stdout",
     "output_type": "stream",
     "text": [
      "True\n"
     ]
    }
   ],
   "source": [
    "a=15\n",
    "print(not(a>5 and a<15))"
   ]
  },
  {
   "cell_type": "code",
   "execution_count": 85,
   "id": "41ebbf8c-93da-4bdd-8c7e-423cb736aaaf",
   "metadata": {},
   "outputs": [
    {
     "name": "stdout",
     "output_type": "stream",
     "text": [
      "False\n"
     ]
    }
   ],
   "source": [
    "a=10\n",
    "print(not(a>5 or a<15))"
   ]
  },
  {
   "cell_type": "code",
   "execution_count": 87,
   "id": "92d758f8-0d76-4c66-be51-97cb69e26597",
   "metadata": {},
   "outputs": [
    {
     "name": "stdout",
     "output_type": "stream",
     "text": [
      "True\n"
     ]
    }
   ],
   "source": [
    "a=11\n",
    "print(a>1 or a<20)"
   ]
  },
  {
   "cell_type": "code",
   "execution_count": 89,
   "id": "3b5d68b5-d326-41fb-b370-1fd9e7d4085d",
   "metadata": {},
   "outputs": [
    {
     "name": "stdout",
     "output_type": "stream",
     "text": [
      "False\n"
     ]
    }
   ],
   "source": [
    "a=11\n",
    "print(not(a>1 or a<20))"
   ]
  },
  {
   "cell_type": "code",
   "execution_count": 91,
   "id": "63efcf31-ad03-4788-8977-dec49d76cb41",
   "metadata": {},
   "outputs": [
    {
     "name": "stdout",
     "output_type": "stream",
     "text": [
      "False\n"
     ]
    }
   ],
   "source": [
    "q=34\n",
    "print(q>45 and q<27)"
   ]
  },
  {
   "cell_type": "markdown",
   "id": "9d62b45e-b77c-4378-907f-8c0cc1402471",
   "metadata": {},
   "source": [
    "# 5.identity operator:-\n",
    "- used to identify wheather the value is present or not\n",
    "there are 2 identity operator\n",
    "1. is\n",
    "2. is not\n",
    "these two functions perform the operation with variables and give result either true or false"
   ]
  },
  {
   "cell_type": "code",
   "execution_count": 115,
   "id": "b60fb689-efb1-40c8-b790-fe3759ecc789",
   "metadata": {},
   "outputs": [
    {
     "data": {
      "text/plain": [
       "False"
      ]
     },
     "execution_count": 115,
     "metadata": {},
     "output_type": "execute_result"
    }
   ],
   "source": [
    "#identity operator\n",
    "\n",
    "a=7\n",
    "b=10\n",
    "a is b"
   ]
  },
  {
   "cell_type": "code",
   "execution_count": 117,
   "id": "030acfa5-e9bb-430b-b302-a5ccab499c87",
   "metadata": {},
   "outputs": [
    {
     "data": {
      "text/plain": [
       "True"
      ]
     },
     "execution_count": 117,
     "metadata": {},
     "output_type": "execute_result"
    }
   ],
   "source": [
    "x=7\n",
    "y=7\n",
    "x is y"
   ]
  },
  {
   "cell_type": "code",
   "execution_count": 119,
   "id": "4731a374-f80a-4f88-aa1a-3dd7eef3ce16",
   "metadata": {},
   "outputs": [
    {
     "data": {
      "text/plain": [
       "False"
      ]
     },
     "execution_count": 119,
     "metadata": {},
     "output_type": "execute_result"
    }
   ],
   "source": [
    "a=\" akshaya\"\n",
    "b=\"akshaya\"\n",
    "a is b"
   ]
  },
  {
   "cell_type": "code",
   "execution_count": 121,
   "id": "5bae688b-cc8e-4398-bdf3-05d00a16f6cb",
   "metadata": {},
   "outputs": [
    {
     "data": {
      "text/plain": [
       "True"
      ]
     },
     "execution_count": 121,
     "metadata": {},
     "output_type": "execute_result"
    }
   ],
   "source": [
    "a=\"akshaya\"\n",
    "b=\"akshaya\"\n",
    "a is b"
   ]
  },
  {
   "cell_type": "code",
   "execution_count": 123,
   "id": "c25f2b93-5464-4619-84e2-11fb74645c5e",
   "metadata": {},
   "outputs": [
    {
     "data": {
      "text/plain": [
       "True"
      ]
     },
     "execution_count": 123,
     "metadata": {},
     "output_type": "execute_result"
    }
   ],
   "source": [
    "z=8\n",
    "m=56\n",
    "z is not m"
   ]
  },
  {
   "cell_type": "code",
   "execution_count": 127,
   "id": "d4d03f0a-df1a-403c-bd9d-c2602eb6e651",
   "metadata": {},
   "outputs": [
    {
     "data": {
      "text/plain": [
       "False"
      ]
     },
     "execution_count": 127,
     "metadata": {},
     "output_type": "execute_result"
    }
   ],
   "source": [
    "j=\"hello\"\n",
    "k=\"hello\"\n",
    "j is not k"
   ]
  },
  {
   "cell_type": "code",
   "execution_count": 129,
   "id": "7821f372-fdd0-4c7e-907e-dec10e4798cc",
   "metadata": {},
   "outputs": [
    {
     "name": "stdout",
     "output_type": "stream",
     "text": [
      "False\n",
      "True\n"
     ]
    }
   ],
   "source": [
    "a=\"hello world\"\n",
    "b=\" hello world\"\n",
    "print(a is b)\n",
    "print(a is not b)"
   ]
  },
  {
   "cell_type": "markdown",
   "id": "652d4b03-b6fe-4a20-8002-d46919640cfc",
   "metadata": {},
   "source": [
    "# 6.membership operator\n",
    "- operator are used to check wheather a operand is found in a sequence or not\n",
    "there are 2 membership operator\n",
    "1. in\n",
    "2. not in"
   ]
  },
  {
   "cell_type": "code",
   "execution_count": 141,
   "id": "c72941f7-5ac4-40be-be28-0ff82bd7f33d",
   "metadata": {},
   "outputs": [
    {
     "data": {
      "text/plain": [
       "False"
      ]
     },
     "execution_count": 141,
     "metadata": {},
     "output_type": "execute_result"
    }
   ],
   "source": [
    "#membership operator\n",
    "name=\"akshaya\"\n",
    "k in name"
   ]
  },
  {
   "cell_type": "code",
   "execution_count": 145,
   "id": "65775c56-4764-4198-b26f-3b5733906804",
   "metadata": {},
   "outputs": [
    {
     "data": {
      "text/plain": [
       "True"
      ]
     },
     "execution_count": 145,
     "metadata": {},
     "output_type": "execute_result"
    }
   ],
   "source": [
    "u=[1,2,3,4,5]\n",
    "4 in u"
   ]
  },
  {
   "cell_type": "code",
   "execution_count": 147,
   "id": "a64d3177-7550-48ab-aaee-7d68616ed2ce",
   "metadata": {},
   "outputs": [
    {
     "data": {
      "text/plain": [
       "True"
      ]
     },
     "execution_count": 147,
     "metadata": {},
     "output_type": "execute_result"
    }
   ],
   "source": [
    "u=[1,2,3,4,5]\n",
    "6 not in u"
   ]
  },
  {
   "cell_type": "code",
   "execution_count": 149,
   "id": "28097a13-1cc2-45c4-892d-9f5256496dbf",
   "metadata": {},
   "outputs": [
    {
     "data": {
      "text/plain": [
       "False"
      ]
     },
     "execution_count": 149,
     "metadata": {},
     "output_type": "execute_result"
    }
   ],
   "source": [
    "u=[1,2,3,4,5]\n",
    "3 not in u"
   ]
  },
  {
   "cell_type": "markdown",
   "id": "250f9312-6ff4-48af-a0d0-66df7537c108",
   "metadata": {},
   "source": [
    "# 7.bitwise operator:-\n",
    "- bitwise operators are used to perform bitwise calculations on integers\n",
    "- the integers are first converted into binary and then operations are performed on each bit or corresponding pair of bits,hence the name bitwise operators.the result is then in decimal format\n",
    "- here are main bitwise operators:-\n",
    "1. bitwise AND operator\n",
    "2. bitwise OR operator\n",
    "3. bitwise XOR operator\n",
    "4. bitwise NOT operator\n",
    "5. bitwise shift"
   ]
  },
  {
   "cell_type": "markdown",
   "id": "88d8ff77-91a4-4f0e-b343-0e9b1cfad175",
   "metadata": {},
   "source": [
    "# 1.Bitwise AND operator:\n",
    "- the python bitwise AND(&) operator takes two equal length bit patterns as parameter\n",
    "- the two bit integers are compared.if the bits in compared positions of the bit patterns are 1,then rthe resulting bit is 1.if not,its is 0"
   ]
  },
  {
   "cell_type": "code",
   "execution_count": 1,
   "id": "01613fbf-6f19-43be-a828-541906c0c947",
   "metadata": {},
   "outputs": [
    {
     "data": {
      "text/plain": [
       "3"
      ]
     },
     "execution_count": 1,
     "metadata": {},
     "output_type": "execute_result"
    }
   ],
   "source": [
    "#bitwise and operator\n",
    "7&3"
   ]
  },
  {
   "cell_type": "code",
   "execution_count": 3,
   "id": "97c36535-53c7-4c92-a01a-50b2c99361c2",
   "metadata": {},
   "outputs": [
    {
     "data": {
      "text/plain": [
       "8"
      ]
     },
     "execution_count": 3,
     "metadata": {},
     "output_type": "execute_result"
    }
   ],
   "source": [
    "12&9"
   ]
  },
  {
   "cell_type": "code",
   "execution_count": 5,
   "id": "5bef458b-add2-41dc-9293-8aad80367cb0",
   "metadata": {},
   "outputs": [
    {
     "data": {
      "text/plain": [
       "99"
      ]
     },
     "execution_count": 5,
     "metadata": {},
     "output_type": "execute_result"
    }
   ],
   "source": [
    "123&999"
   ]
  },
  {
   "cell_type": "code",
   "execution_count": 7,
   "id": "04e4e44c-d71d-41e2-8c30-9dae9dee0c33",
   "metadata": {},
   "outputs": [
    {
     "data": {
      "text/plain": [
       "51"
      ]
     },
     "execution_count": 7,
     "metadata": {},
     "output_type": "execute_result"
    }
   ],
   "source": [
    "55&123"
   ]
  },
  {
   "cell_type": "code",
   "execution_count": 9,
   "id": "b2df4ed3-b4e0-41ba-9eb7-95e5f3568406",
   "metadata": {},
   "outputs": [
    {
     "data": {
      "text/plain": [
       "265"
      ]
     },
     "execution_count": 9,
     "metadata": {},
     "output_type": "execute_result"
    }
   ],
   "source": [
    "2345&345"
   ]
  },
  {
   "cell_type": "markdown",
   "id": "fccb9cb5-ba69-41c8-a49d-340f9915ecf2",
   "metadata": {},
   "source": [
    "# 2.bitwise OR operator:-\n",
    "- the python bitwise OR(|) operator takes two equivalent length bit designs as boundaries.if the two bits in the looked-at positins are 0 the next bit is zero.if not,it is 1"
   ]
  },
  {
   "cell_type": "code",
   "execution_count": 11,
   "id": "dc4093e1-b1f7-4912-9480-1c6a7897d9ff",
   "metadata": {},
   "outputs": [
    {
     "data": {
      "text/plain": [
       "7"
      ]
     },
     "execution_count": 11,
     "metadata": {},
     "output_type": "execute_result"
    }
   ],
   "source": [
    "#bitwise OR operator\n",
    "5|6"
   ]
  },
  {
   "cell_type": "code",
   "execution_count": 13,
   "id": "934d1198-df15-44c3-b12d-ef22ef4054a5",
   "metadata": {},
   "outputs": [
    {
     "data": {
      "text/plain": [
       "12"
      ]
     },
     "execution_count": 13,
     "metadata": {},
     "output_type": "execute_result"
    }
   ],
   "source": [
    "4|8"
   ]
  },
  {
   "cell_type": "code",
   "execution_count": 15,
   "id": "a624cf37-4adf-4b4b-851d-caf4d399fb5d",
   "metadata": {},
   "outputs": [
    {
     "data": {
      "text/plain": [
       "123"
      ]
     },
     "execution_count": 15,
     "metadata": {},
     "output_type": "execute_result"
    }
   ],
   "source": [
    "24|123"
   ]
  },
  {
   "cell_type": "code",
   "execution_count": 17,
   "id": "d2414072-c62f-40c4-8030-db95b3586c49",
   "metadata": {},
   "outputs": [
    {
     "data": {
      "text/plain": [
       "1006"
      ]
     },
     "execution_count": 17,
     "metadata": {},
     "output_type": "execute_result"
    }
   ],
   "source": [
    "1000|710"
   ]
  },
  {
   "cell_type": "code",
   "execution_count": 19,
   "id": "d7d7b77c-e6b2-42cc-b721-2b9c431fbd2f",
   "metadata": {},
   "outputs": [
    {
     "data": {
      "text/plain": [
       "1007"
      ]
     },
     "execution_count": 19,
     "metadata": {},
     "output_type": "execute_result"
    }
   ],
   "source": [
    "555|999"
   ]
  },
  {
   "cell_type": "markdown",
   "id": "df973042-0d54-4191-b837-8912cf1ccfd6",
   "metadata": {},
   "source": [
    "# 3.bitwise XOR operator:-\n",
    "- the python bitwise XOR(^)operator also known as exclusive OR operator,is used to perform the XOR operation on two operands\n",
    "- XOR stnds for \"exclusive or\" and it returns true if and only if exactly one of the operands is true.in the context of bitwise operations,it compares the corresponding bits of two operands.if the bits are different,it returns 1;otherwise, it returns 0"
   ]
  },
  {
   "cell_type": "code",
   "execution_count": 21,
   "id": "f6cee886-4da3-4e84-9d51-f576072bdfd2",
   "metadata": {},
   "outputs": [
    {
     "data": {
      "text/plain": [
       "2"
      ]
     },
     "execution_count": 21,
     "metadata": {},
     "output_type": "execute_result"
    }
   ],
   "source": [
    "#bitwise XOR operator\n",
    "\n",
    "4^6"
   ]
  },
  {
   "cell_type": "code",
   "execution_count": 23,
   "id": "6858b0ec-b9d6-4862-bb24-03b0558b965e",
   "metadata": {},
   "outputs": [
    {
     "data": {
      "text/plain": [
       "1"
      ]
     },
     "execution_count": 23,
     "metadata": {},
     "output_type": "execute_result"
    }
   ],
   "source": [
    "7^6"
   ]
  },
  {
   "cell_type": "code",
   "execution_count": 25,
   "id": "ff07345b-1653-4c43-88d8-37ba0db97ac7",
   "metadata": {},
   "outputs": [
    {
     "data": {
      "text/plain": [
       "12"
      ]
     },
     "execution_count": 25,
     "metadata": {},
     "output_type": "execute_result"
    }
   ],
   "source": [
    "7^11"
   ]
  },
  {
   "cell_type": "code",
   "execution_count": 27,
   "id": "0036983d-af6c-4215-84c8-275796055dcd",
   "metadata": {},
   "outputs": [
    {
     "data": {
      "text/plain": [
       "4"
      ]
     },
     "execution_count": 27,
     "metadata": {},
     "output_type": "execute_result"
    }
   ],
   "source": [
    "3^7"
   ]
  },
  {
   "cell_type": "code",
   "execution_count": 31,
   "id": "fd9f3a64-850f-4bf2-9b41-fef22de1233a",
   "metadata": {},
   "outputs": [
    {
     "data": {
      "text/plain": [
       "15"
      ]
     },
     "execution_count": 31,
     "metadata": {},
     "output_type": "execute_result"
    }
   ],
   "source": [
    "7^8"
   ]
  },
  {
   "cell_type": "markdown",
   "id": "6cea102a-8aef-4868-ae2c-0fed27493857",
   "metadata": {},
   "source": [
    "# 4.bitwise NOT operator:-\n",
    "- the python bitwise NOT(~) operator works with a single value and returns its one's complement.this means it toggles all bits in the value,transforming 0 bits to 1 and 1 bits to 0,resulting in the one's complement of the binary number"
   ]
  },
  {
   "cell_type": "code",
   "execution_count": 35,
   "id": "de824fa9-fa07-4c42-8810-16dcc413e809",
   "metadata": {},
   "outputs": [
    {
     "name": "stdout",
     "output_type": "stream",
     "text": [
      "-13\n"
     ]
    }
   ],
   "source": [
    "#bitwise NOT operator:-\n",
    "print(~12)"
   ]
  },
  {
   "cell_type": "code",
   "execution_count": 37,
   "id": "42f01e3f-0cfe-4207-b498-7fa4e7184bb0",
   "metadata": {},
   "outputs": [
    {
     "name": "stdout",
     "output_type": "stream",
     "text": [
      "-4\n"
     ]
    }
   ],
   "source": [
    "print(~3)"
   ]
  },
  {
   "cell_type": "code",
   "execution_count": 65,
   "id": "981f1a08-29d1-4333-886a-766d27dd2b7b",
   "metadata": {},
   "outputs": [
    {
     "name": "stdout",
     "output_type": "stream",
     "text": [
      "-32\n"
     ]
    }
   ],
   "source": [
    "print(~31)"
   ]
  },
  {
   "cell_type": "code",
   "execution_count": 67,
   "id": "88d2b944-9794-45a7-8f6e-1feeee26c58d",
   "metadata": {},
   "outputs": [
    {
     "name": "stdout",
     "output_type": "stream",
     "text": [
      "-13\n"
     ]
    }
   ],
   "source": [
    "print(~12)"
   ]
  },
  {
   "cell_type": "code",
   "execution_count": 69,
   "id": "85f1329a-2fec-40b3-84cd-dcb769dcef72",
   "metadata": {},
   "outputs": [
    {
     "name": "stdout",
     "output_type": "stream",
     "text": [
      "-2\n"
     ]
    }
   ],
   "source": [
    "print(~1)"
   ]
  },
  {
   "cell_type": "markdown",
   "id": "88b560ad-0ab6-4093-942e-9b5e3c36bef5",
   "metadata": {},
   "source": [
    "# 5.bitwise shift:-\n",
    "- these operators are used to shift the bits of a number left or right there by multiplying or dividing the number by two respectively\n",
    "- they can be used when we have to multiply or divide a number by two\n",
    "two types:-\n",
    "1. bitwise left shift\n",
    "2. bitwise right shift"
   ]
  },
  {
   "cell_type": "markdown",
   "id": "95f613ef-f5ee-4a68-a39f-d5cba023403b",
   "metadata": {},
   "source": [
    "# 1.bitwise leftshift:-\n",
    "- shifts the bits of the numbers to the left and fills o on voids right as a result.similar effect as of multiplying the number with some power of two\n",
    "- this operator shifts the bits of the number to the left by a specified number of positions,filling in with zeros on the right"
   ]
  },
  {
   "cell_type": "code",
   "execution_count": 39,
   "id": "15729ebb-bd96-4102-aaf1-0ac5a7e64c25",
   "metadata": {},
   "outputs": [
    {
     "data": {
      "text/plain": [
       "192"
      ]
     },
     "execution_count": 39,
     "metadata": {},
     "output_type": "execute_result"
    }
   ],
   "source": [
    "#bitwise leftshift\n",
    "\n",
    "6<<5"
   ]
  },
  {
   "cell_type": "code",
   "execution_count": 41,
   "id": "e74d66df-d43b-42e9-a0ba-7bd875782282",
   "metadata": {},
   "outputs": [
    {
     "data": {
      "text/plain": [
       "216"
      ]
     },
     "execution_count": 41,
     "metadata": {},
     "output_type": "execute_result"
    }
   ],
   "source": [
    "108<<1"
   ]
  },
  {
   "cell_type": "code",
   "execution_count": 43,
   "id": "c5bad759-06bb-4c6d-95f3-8672fa8d26de",
   "metadata": {},
   "outputs": [
    {
     "data": {
      "text/plain": [
       "2312"
      ]
     },
     "execution_count": 43,
     "metadata": {},
     "output_type": "execute_result"
    }
   ],
   "source": [
    "578<<2"
   ]
  },
  {
   "cell_type": "code",
   "execution_count": 49,
   "id": "46a4784d-8a10-4ba7-bbba-1dc8707b2d03",
   "metadata": {},
   "outputs": [
    {
     "data": {
      "text/plain": [
       "3200"
      ]
     },
     "execution_count": 49,
     "metadata": {},
     "output_type": "execute_result"
    }
   ],
   "source": [
    "100<<5"
   ]
  },
  {
   "cell_type": "code",
   "execution_count": 51,
   "id": "1426bc0f-959d-462a-838a-9abc551e4933",
   "metadata": {},
   "outputs": [
    {
     "data": {
      "text/plain": [
       "29952"
      ]
     },
     "execution_count": 51,
     "metadata": {},
     "output_type": "execute_result"
    }
   ],
   "source": [
    "234<<7"
   ]
  },
  {
   "cell_type": "markdown",
   "id": "0b2c5ae9-8270-414e-96f6-abea99e47896",
   "metadata": {},
   "source": [
    "# 2. bitwise rightshift:-\n",
    "- this operator shifts the bits of the number to the right by a specified number of positions"
   ]
  },
  {
   "cell_type": "code",
   "execution_count": 53,
   "id": "fa593320-6723-4712-a57d-ca8aba51bb41",
   "metadata": {},
   "outputs": [
    {
     "data": {
      "text/plain": [
       "0"
      ]
     },
     "execution_count": 53,
     "metadata": {},
     "output_type": "execute_result"
    }
   ],
   "source": [
    "#bitwise rightshift:-\n",
    "5>>4"
   ]
  },
  {
   "cell_type": "code",
   "execution_count": 55,
   "id": "c5e84017-1aa8-4aab-a137-a7a3fb595e03",
   "metadata": {},
   "outputs": [
    {
     "data": {
      "text/plain": [
       "9"
      ]
     },
     "execution_count": 55,
     "metadata": {},
     "output_type": "execute_result"
    }
   ],
   "source": [
    "18>>1"
   ]
  },
  {
   "cell_type": "code",
   "execution_count": 57,
   "id": "2d3c069b-8829-4633-8e10-8c4bff72281a",
   "metadata": {},
   "outputs": [
    {
     "data": {
      "text/plain": [
       "144"
      ]
     },
     "execution_count": 57,
     "metadata": {},
     "output_type": "execute_result"
    }
   ],
   "source": [
    "578>>2"
   ]
  },
  {
   "cell_type": "code",
   "execution_count": 59,
   "id": "4dd3b19c-0ce5-4c3e-ae6d-220d8f2ff3fd",
   "metadata": {},
   "outputs": [
    {
     "data": {
      "text/plain": [
       "7"
      ]
     },
     "execution_count": 59,
     "metadata": {},
     "output_type": "execute_result"
    }
   ],
   "source": [
    "234>>5"
   ]
  },
  {
   "cell_type": "code",
   "execution_count": 63,
   "id": "5a6c8313-f915-4dd6-a126-671d8cefcfba",
   "metadata": {},
   "outputs": [
    {
     "data": {
      "text/plain": [
       "1"
      ]
     },
     "execution_count": 63,
     "metadata": {},
     "output_type": "execute_result"
    }
   ],
   "source": [
    "2>>1"
   ]
  }
 ],
 "metadata": {
  "kernelspec": {
   "display_name": "Python 3 (ipykernel)",
   "language": "python",
   "name": "python3"
  },
  "language_info": {
   "codemirror_mode": {
    "name": "ipython",
    "version": 3
   },
   "file_extension": ".py",
   "mimetype": "text/x-python",
   "name": "python",
   "nbconvert_exporter": "python",
   "pygments_lexer": "ipython3",
   "version": "3.12.4"
  }
 },
 "nbformat": 4,
 "nbformat_minor": 5
}
