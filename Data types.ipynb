{
 "cells": [
  {
   "cell_type": "markdown",
   "id": "240a7c37-f95d-4ab4-92c9-6dbad7a65523",
   "metadata": {},
   "source": [
    "# 1. Explain about data types\n",
    "- the data types are used to define the type of a variable.it represents the type of data we are going to store in a variable and determines what operations can be done in it.\n",
    "- a data type is a classification of data which tells the compiler or interpreter how the programmer intends to use the data.\n",
    " there are two types\n",
    "1. basic(primitive)/simple data type\n",
    "2. advanced(non-primitive) data type\n",
    "\n",
    " Basic or simple data types:-\n",
    "- primitive data types in python are most basic types of data.\n",
    "- the four primitive data types in python are integer,float,complex and boolean.\n",
    "\n",
    " advanced data type:-\n",
    "- advanced/non primitive data types also known as composite data types\n",
    "- the four built-in non primitive data type are lists,tuples,dictionaries and sets\n",
    "  "
   ]
  },
  {
   "cell_type": "markdown",
   "id": "3a3dacde-36c6-4e71-ad24-950452c22b78",
   "metadata": {},
   "source": [
    "# 2. explain about int with examples.\n",
    "- this integer represents whole numbers(-infinity to +infinity)\n",
    "- this data type is represented with the help of int class\n",
    "- integers are zero,positive or negative whole numbers with no fractional part and infinite precision\n",
    "Examples:\n",
    "x=5\n",
    "a=7\n",
    "u=25\n",
    "b=75\n",
    "w=100\n",
    "k=-26\n",
    "s=-34\n",
    "f=-67\n",
    "r=-88\n",
    "e=-99"
   ]
  },
  {
   "cell_type": "code",
   "execution_count": 3,
   "id": "d26741d7-e5cc-4a05-b1f6-b78ca89d7648",
   "metadata": {},
   "outputs": [
    {
     "name": "stdout",
     "output_type": "stream",
     "text": [
      "<class 'int'>\n"
     ]
    }
   ],
   "source": [
    "x=5\n",
    "print(type(x))"
   ]
  },
  {
   "cell_type": "markdown",
   "id": "d4512612-17dc-4f55-a42e-eee938a29bae",
   "metadata": {},
   "source": [
    "# 3.explain about float with examples\n",
    "- float reprsents floating-point numbers(decinal values)\n",
    "- a floating point number is a positive or negative wholenumbers with a decimal point\n",
    "- this data type is represented with the help of float class\n",
    "examples:\n",
    "a=2.5\n",
    "b=3.6\n",
    "c=5.5\n",
    "d=77.8\n",
    "e=99.78\n",
    "g=-120.4\n",
    "h=-223.3\n",
    "i=-345.2\n",
    "j=-1123.4\n",
    "k=-2222.78"
   ]
  },
  {
   "cell_type": "code",
   "execution_count": 5,
   "id": "103091ca-bc82-4235-97fd-7638a36289b3",
   "metadata": {},
   "outputs": [
    {
     "name": "stdout",
     "output_type": "stream",
     "text": [
      "<class 'float'>\n"
     ]
    }
   ],
   "source": [
    "a=2.5\n",
    "print(type(a))"
   ]
  },
  {
   "cell_type": "markdown",
   "id": "32cbb1ad-cfc3-4205-a6ba-3df5f9559848",
   "metadata": {},
   "source": [
    "# 4. explain about complex with examples\n",
    "- the complex data type in python consist of two values,the first one is the real part of the complex number and the second one is the imaginary part of the complex number\n",
    "- represented as complex(real,imaginary)\n",
    "examples:\n",
    "a=6+4j\n",
    "n=9+j\n",
    "c=1+9j\n",
    "p=23+3j\n",
    "q=12.3+28j\n",
    "f=-23+27j\n",
    "w=-245+j\n",
    "o=-134+7j\n",
    "r=-23.45+123j\n",
    "k=-223+23j"
   ]
  },
  {
   "cell_type": "code",
   "execution_count": 7,
   "id": "c999bb44-e894-4198-81de-13e70c321e36",
   "metadata": {},
   "outputs": [
    {
     "name": "stdout",
     "output_type": "stream",
     "text": [
      "<class 'complex'>\n"
     ]
    }
   ],
   "source": [
    "a=6+4j\n",
    "print(type(a))"
   ]
  }
 ],
 "metadata": {
  "kernelspec": {
   "display_name": "Python 3 (ipykernel)",
   "language": "python",
   "name": "python3"
  },
  "language_info": {
   "codemirror_mode": {
    "name": "ipython",
    "version": 3
   },
   "file_extension": ".py",
   "mimetype": "text/x-python",
   "name": "python",
   "nbconvert_exporter": "python",
   "pygments_lexer": "ipython3",
   "version": "3.12.4"
  }
 },
 "nbformat": 4,
 "nbformat_minor": 5
}
