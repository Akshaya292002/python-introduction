{
 "cells": [
  {
   "cell_type": "markdown",
   "id": "240a7c37-f95d-4ab4-92c9-6dbad7a65523",
   "metadata": {},
   "source": [
    "# 1. Explain about data types\n",
    "- the data types are used to define the type of a variable.it represents the type of data we are going to store in a variable and determines what operations can be done in it.\n",
    "- a data type is a classification of data which tells the compiler or interpreter how the programmer intends to use the data.\n",
    " there are two types\n",
    "1. basic(primitive)/simple data type\n",
    "2. advanced(non-primitive) data type\n",
    "\n",
    " Basic or simple data types:-\n",
    "- primitive data types in python are most basic types of data.\n",
    "- the four primitive data types in python are integer,float,complex and boolean.\n",
    "\n",
    " advanced data type:-\n",
    "- advanced/non primitive data types also known as composite data types\n",
    "- the four built-in non primitive data type are lists,tuples,dictionaries and sets\n",
    "  "
   ]
  },
  {
   "cell_type": "markdown",
   "id": "3a3dacde-36c6-4e71-ad24-950452c22b78",
   "metadata": {},
   "source": [
    "# 2. explain about int with examples.\n",
    "- this integer represents whole numbers(-infinity to +infinity)\n",
    "- this data type is represented with the help of int class\n",
    "- integers are zero,positive or negative whole numbers with no fractional part and infinite precision\n",
    "Examples:\n",
    "x=5\n",
    "a=7\n",
    "u=25\n",
    "b=75\n",
    "w=100\n",
    "k=-26\n",
    "s=-34\n",
    "f=-67\n",
    "r=-88\n",
    "e=-99"
   ]
  },
  {
   "cell_type": "code",
   "execution_count": 3,
   "id": "d26741d7-e5cc-4a05-b1f6-b78ca89d7648",
   "metadata": {},
   "outputs": [
    {
     "name": "stdout",
     "output_type": "stream",
     "text": [
      "<class 'int'>\n"
     ]
    }
   ],
   "source": [
    "x=5\n",
    "print(type(x))"
   ]
  },
  {
   "cell_type": "markdown",
   "id": "d4512612-17dc-4f55-a42e-eee938a29bae",
   "metadata": {},
   "source": [
    "# 3.explain about float with examples\n",
    "- float reprsents floating-point numbers(decinal values)\n",
    "- a floating point number is a positive or negative wholenumbers with a decimal point\n",
    "- this data type is represented with the help of float class\n",
    "examples:\n",
    "a=2.5\n",
    "b=3.6\n",
    "c=5.5\n",
    "d=77.8\n",
    "e=99.78\n",
    "g=-120.4\n",
    "h=-223.3\n",
    "i=-345.2\n",
    "j=-1123.4\n",
    "k=-2222.78"
   ]
  },
  {
   "cell_type": "code",
   "execution_count": 5,
   "id": "103091ca-bc82-4235-97fd-7638a36289b3",
   "metadata": {},
   "outputs": [
    {
     "name": "stdout",
     "output_type": "stream",
     "text": [
      "<class 'float'>\n"
     ]
    }
   ],
   "source": [
    "a=2.5\n",
    "print(type(a))"
   ]
  },
  {
   "cell_type": "markdown",
   "id": "32cbb1ad-cfc3-4205-a6ba-3df5f9559848",
   "metadata": {},
   "source": [
    "# 4. explain about complex with examples\n",
    "- the complex data type in python consist of two values,the first one is the real part of the complex number and the second one is the imaginary part of the complex number\n",
    "- represented as complex(real,imaginary)\n",
    "examples:\n",
    "a=6+4j\n",
    "n=9+j\n",
    "c=1+9j\n",
    "p=23+3j\n",
    "q=12.3+28j\n",
    "f=-23+27j\n",
    "w=-245+j\n",
    "o=-134+7j\n",
    "r=-23.45+123j\n",
    "k=-223+23j"
   ]
  },
  {
   "cell_type": "code",
   "execution_count": 7,
   "id": "c999bb44-e894-4198-81de-13e70c321e36",
   "metadata": {},
   "outputs": [
    {
     "name": "stdout",
     "output_type": "stream",
     "text": [
      "<class 'complex'>\n"
     ]
    }
   ],
   "source": [
    "a=6+4j\n",
    "print(type(a))"
   ]
  },
  {
   "cell_type": "markdown",
   "id": "4e95fc20-cc2e-4f57-a96e-8b8ba9b66c2f",
   "metadata": {},
   "source": [
    "# 5. explain boolean with 10 examples\n",
    "- a data type that can have only two values: True or False\n",
    "- the boolean can be represented as bool\n",
    "examples:\n",
    "11>7\n",
    "12<4\n",
    "34>123\n",
    "9>1\n",
    "1<0\n",
    "123<345\n",
    "456>123\n",
    "78>56\n",
    "141<568\n",
    "12>6            "
   ]
  },
  {
   "cell_type": "code",
   "execution_count": 9,
   "id": "e34377b0-e883-4d5a-ae88-a592197b361c",
   "metadata": {},
   "outputs": [
    {
     "name": "stdout",
     "output_type": "stream",
     "text": [
      "True\n"
     ]
    }
   ],
   "source": [
    "print(10>9)"
   ]
  },
  {
   "cell_type": "code",
   "execution_count": 11,
   "id": "59c377f0-c398-4671-992e-91a77dc74cb8",
   "metadata": {},
   "outputs": [
    {
     "name": "stdout",
     "output_type": "stream",
     "text": [
      "False\n"
     ]
    }
   ],
   "source": [
    "print(3>7)"
   ]
  },
  {
   "cell_type": "markdown",
   "id": "1cfaf888-0eb2-4709-9c16-6167ae58e3d8",
   "metadata": {},
   "source": [
    "# 6. bool function with 10 examples\n",
    "bool(3)\n",
    "bool(3.7)\n",
    "bool(0)\n",
    "bool(7)\n",
    "bool(77.7)\n",
    "bool(123)\n",
    "bool(678)\n",
    "bool(6+7j)\n",
    "bool(5+0j)\n",
    "bool(123+89j)"
   ]
  },
  {
   "cell_type": "code",
   "execution_count": 13,
   "id": "bf18cf09-130f-4b4f-821e-3439067f2976",
   "metadata": {},
   "outputs": [
    {
     "name": "stdout",
     "output_type": "stream",
     "text": [
      "True\n"
     ]
    }
   ],
   "source": [
    "print(bool(123+89j))"
   ]
  },
  {
   "cell_type": "code",
   "execution_count": 15,
   "id": "5d23aa3b-9cfa-4fa6-a72c-c8916a874231",
   "metadata": {},
   "outputs": [
    {
     "name": "stdout",
     "output_type": "stream",
     "text": [
      "False\n"
     ]
    }
   ],
   "source": [
    "print(bool(0+0j))"
   ]
  },
  {
   "cell_type": "markdown",
   "id": "ba7f2d29-7466-42e8-a566-a0671bc9a4b9",
   "metadata": {},
   "source": [
    "# 7. type conversion\n",
    "- the direct conversion of object of one data type to another data type.\n",
    "- for example: converting int data to str"
   ]
  },
  {
   "cell_type": "markdown",
   "id": "4cfa6f12-b429-46ea-bd9d-dd9304b4facd",
   "metadata": {},
   "source": [
    "# 8.for each type 5 examples"
   ]
  },
  {
   "cell_type": "code",
   "execution_count": 15,
   "id": "4a5308dd-5857-4b11-86ed-47a998d8f2de",
   "metadata": {},
   "outputs": [
    {
     "name": "stdout",
     "output_type": "stream",
     "text": [
      "5\n"
     ]
    }
   ],
   "source": [
    "#int function\n",
    "\n",
    "a=5.5\n",
    "b=int(a)\n",
    "print(b)"
   ]
  },
  {
   "cell_type": "code",
   "execution_count": 11,
   "id": "0a41218e-0b17-4b71-adcd-0cbdb1fc4eea",
   "metadata": {},
   "outputs": [
    {
     "name": "stdout",
     "output_type": "stream",
     "text": [
      "55\n"
     ]
    }
   ],
   "source": [
    "w=55.00\n",
    "c=int(w)\n",
    "print(c)"
   ]
  },
  {
   "cell_type": "code",
   "execution_count": 9,
   "id": "7cabe47b-b24b-4bad-9eb3-6bc0e3aa03d3",
   "metadata": {},
   "outputs": [
    {
     "name": "stdout",
     "output_type": "stream",
     "text": [
      "234\n"
     ]
    }
   ],
   "source": [
    "r=234.56\n",
    "print(int(r))"
   ]
  },
  {
   "cell_type": "code",
   "execution_count": 17,
   "id": "2c004dd8-3bc7-4674-ab68-14871ce0a7ed",
   "metadata": {},
   "outputs": [
    {
     "name": "stdout",
     "output_type": "stream",
     "text": [
      "34\n"
     ]
    }
   ],
   "source": [
    "v=34.7\n",
    "print(int(v))"
   ]
  },
  {
   "cell_type": "code",
   "execution_count": 19,
   "id": "7cf17e56-58fb-43cc-8d12-6dcba675fa1f",
   "metadata": {},
   "outputs": [
    {
     "name": "stdout",
     "output_type": "stream",
     "text": [
      "77\n"
     ]
    }
   ],
   "source": [
    "ram=77.7\n",
    "print(int(ram))"
   ]
  },
  {
   "cell_type": "code",
   "execution_count": 21,
   "id": "1c0d7bd3-cd89-469c-9a67-df4abf2dd17a",
   "metadata": {},
   "outputs": [
    {
     "name": "stdout",
     "output_type": "stream",
     "text": [
      "25.0\n"
     ]
    }
   ],
   "source": [
    "#float function\n",
    "\n",
    "n=25\n",
    "print(float(n))"
   ]
  },
  {
   "cell_type": "code",
   "execution_count": 23,
   "id": "c2f2ab60-ab59-4cee-b45a-f4dc08b0c95e",
   "metadata": {},
   "outputs": [
    {
     "name": "stdout",
     "output_type": "stream",
     "text": [
      "345.0\n"
     ]
    }
   ],
   "source": [
    "b=345\n",
    "print(float(b))"
   ]
  },
  {
   "cell_type": "code",
   "execution_count": 25,
   "id": "393cfe18-6f5e-4da6-b1c8-fa5f2b6921e5",
   "metadata": {},
   "outputs": [
    {
     "name": "stdout",
     "output_type": "stream",
     "text": [
      "45.9\n"
     ]
    }
   ],
   "source": [
    "x=45\n",
    "print(float(x))"
   ]
  },
  {
   "cell_type": "code",
   "execution_count": 27,
   "id": "3258f1b2-8906-431e-9cf1-5549aeb9e02f",
   "metadata": {},
   "outputs": [
    {
     "name": "stdout",
     "output_type": "stream",
     "text": [
      "347\n"
     ]
    }
   ],
   "source": [
    "z=347\n",
    "print(float(z))"
   ]
  },
  {
   "cell_type": "code",
   "execution_count": 29,
   "id": "e9a6a337-89dc-44c6-916c-a9a2e28f8709",
   "metadata": {},
   "outputs": [
    {
     "name": "stdout",
     "output_type": "stream",
     "text": [
      "237\n"
     ]
    }
   ],
   "source": [
    "aks=237.700\n",
    "print(float(aks))"
   ]
  },
  {
   "cell_type": "code",
   "execution_count": 31,
   "id": "15551312-6f7d-4102-ae54-431c2d17ad4a",
   "metadata": {},
   "outputs": [
    {
     "name": "stdout",
     "output_type": "stream",
     "text": [
      "(6.89+0j)\n"
     ]
    }
   ],
   "source": [
    "# complex function\n",
    "\n",
    "j=6.89\n",
    "i=complex(j)\n",
    "print(i)"
   ]
  },
  {
   "cell_type": "code",
   "execution_count": 35,
   "id": "9ece76a1-6a5f-4cbf-92f4-d86a3ccd74c3",
   "metadata": {},
   "outputs": [
    {
     "name": "stdout",
     "output_type": "stream",
     "text": [
      "(895+0j)\n"
     ]
    }
   ],
   "source": [
    "a=895\n",
    "b=complex(a)\n",
    "print(b)"
   ]
  },
  {
   "cell_type": "code",
   "execution_count": 39,
   "id": "2f8a56e5-eccf-4d13-8590-8a7f46f01142",
   "metadata": {},
   "outputs": [
    {
     "name": "stdout",
     "output_type": "stream",
     "text": [
      "(234.5+0j)\n"
     ]
    }
   ],
   "source": [
    "d=234.5\n",
    "print(complex(d))"
   ]
  },
  {
   "cell_type": "code",
   "execution_count": 41,
   "id": "07de23a2-d796-4219-9419-76f3103e9c44",
   "metadata": {},
   "outputs": [
    {
     "name": "stdout",
     "output_type": "stream",
     "text": [
      "(0.77+0j)\n"
     ]
    }
   ],
   "source": [
    "e=0.77\n",
    "print(complex(e))"
   ]
  },
  {
   "cell_type": "code",
   "execution_count": 43,
   "id": "61182385-d773-4151-8320-9f51da8c4a14",
   "metadata": {},
   "outputs": [
    {
     "name": "stdout",
     "output_type": "stream",
     "text": [
      "(345.789+0j)\n"
     ]
    }
   ],
   "source": [
    "akshaya=345.789\n",
    "print(complex(akshaya))"
   ]
  }
 ],
 "metadata": {
  "kernelspec": {
   "display_name": "Python 3 (ipykernel)",
   "language": "python",
   "name": "python3"
  },
  "language_info": {
   "codemirror_mode": {
    "name": "ipython",
    "version": 3
   },
   "file_extension": ".py",
   "mimetype": "text/x-python",
   "name": "python",
   "nbconvert_exporter": "python",
   "pygments_lexer": "ipython3",
   "version": "3.12.4"
  }
 },
 "nbformat": 4,
 "nbformat_minor": 5
}
