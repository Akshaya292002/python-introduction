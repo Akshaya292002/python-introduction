{
 "cells": [
  {
   "cell_type": "markdown",
   "id": "c3f689c7-2342-4fe4-8420-84a3d7db9d0d",
   "metadata": {},
   "source": [
    "# 1. define about dictionaries\n",
    "- dictionaries are used to store data values in key:value pairs\n",
    "- dictionaries are also known as assosiative arrays and hash maps in other programming languages\n",
    "- they are defined using curly braces{} and consist of key-value pairs seperated by colons\n",
    "- a dictionary is a collection which is mutable\n",
    "- dictionary do not allow duplicates\n",
    "- this is used for mapping purpose\n",
    "- in dict we don't have slicing and indexing\n",
    "- by using keys we can easily access values"
   ]
  },
  {
   "cell_type": "markdown",
   "id": "d0c32f2a-eecb-408c-803b-96033c47592e",
   "metadata": {},
   "source": [
    "# 2. create 10 examples"
   ]
  },
  {
   "cell_type": "code",
   "execution_count": 1,
   "id": "aa271348-036d-41f9-9e5d-b374066f7217",
   "metadata": {},
   "outputs": [
    {
     "name": "stdout",
     "output_type": "stream",
     "text": [
      "{'name': 'gill', 'age': '25', 'grade': 'A'}\n"
     ]
    }
   ],
   "source": [
    "student={'name':'gill','age':'25','grade':'A'}\n",
    "print(student)"
   ]
  },
  {
   "cell_type": "code",
   "execution_count": 3,
   "id": "92112ec8-f4e6-42ad-bbd4-00f37e3deeea",
   "metadata": {},
   "outputs": [
    {
     "name": "stdout",
     "output_type": "stream",
     "text": [
      "{'name': 'ms dhoni', 'age': '43', 'score': '101'}\n"
     ]
    }
   ],
   "source": [
    "cricketer={'name':'ms dhoni','age':'43','score':'101'}\n",
    "print(cricketer)"
   ]
  },
  {
   "cell_type": "code",
   "execution_count": 5,
   "id": "c45adb1c-8a42-4741-b1a1-879e604f9b11",
   "metadata": {},
   "outputs": [
    {
     "name": "stdout",
     "output_type": "stream",
     "text": [
      "{'name': 'apple', 'cost': '55'}\n"
     ]
    }
   ],
   "source": [
    "fruits={'name':'apple','cost':'55'}\n",
    "print(fruits)"
   ]
  },
  {
   "cell_type": "code",
   "execution_count": 11,
   "id": "4c24cf85-bad3-4651-becf-e784af2ed0e3",
   "metadata": {},
   "outputs": [
    {
     "name": "stdout",
     "output_type": "stream",
     "text": [
      "{'name': 'gill', 'age': '25', 'score': '77'}\n",
      "{'name': 'ms dhoni', 'age': '43', 'score': '101'}\n"
     ]
    }
   ],
   "source": [
    "cricketer={'name':'gill','age':'25','score':'77'}\n",
    "print(cricketer)\n",
    "mixed_dict={'name':'ms dhoni','age':'43','score':'101'}\n",
    "print(mixed_dict)"
   ]
  },
  {
   "cell_type": "code",
   "execution_count": 13,
   "id": "8520959f-6d01-488d-af0d-b95ae0085349",
   "metadata": {},
   "outputs": [
    {
     "name": "stdout",
     "output_type": "stream",
     "text": [
      "{'brand': 'ford', 'model': 'mustang', 'year': '1964'}\n"
     ]
    }
   ],
   "source": [
    "cars={'brand':'ford','model':'mustang','year':'1964'}\n",
    "print(cars)"
   ]
  },
  {
   "cell_type": "code",
   "execution_count": 15,
   "id": "6c9dfe7e-9aaf-49d9-94cd-34a648d9c220",
   "metadata": {},
   "outputs": [
    {
     "name": "stdout",
     "output_type": "stream",
     "text": [
      "{'name': 'akshaya', 'age': '22', 'country': 'india', 'state': 'telangana'}\n"
     ]
    }
   ],
   "source": [
    "dict={'name':'akshaya','age':'22','country':'india','state':'telangana'}\n",
    "print(dict)"
   ]
  },
  {
   "cell_type": "code",
   "execution_count": 109,
   "id": "d94ba821-8410-455f-ae5b-ebe85fa4cd28",
   "metadata": {},
   "outputs": [
    {
     "name": "stdout",
     "output_type": "stream",
     "text": [
      "{'name': 'akshaya', 'age': '22', 'course': 'data analyst'}\n"
     ]
    }
   ],
   "source": [
    "student={\"name\":\"akshaya\",\"age\":\"22\",\"course\":\"data analyst\"}\n",
    "print(student)"
   ]
  },
  {
   "cell_type": "code",
   "execution_count": 111,
   "id": "ced96d40-4922-42b3-87ab-6a4e0209f9c2",
   "metadata": {},
   "outputs": [
    {
     "name": "stdout",
     "output_type": "stream",
     "text": [
      "{'name': 'akshaya', 'company': 'accenture', 'job': 'data analyst'}\n"
     ]
    }
   ],
   "source": [
    "student={\"name\":\"akshaya\",\"company\":\"accenture\",\"job\":\"data analyst\"}\n",
    "print(student)"
   ]
  },
  {
   "cell_type": "code",
   "execution_count": 115,
   "id": "3c19ae4b-d0d8-4966-8ca3-293e57396fed",
   "metadata": {},
   "outputs": [
    {
     "name": "stdout",
     "output_type": "stream",
     "text": [
      "{'name': 'akshaya', 'age': '22', 'course': 'data analyst', 'colour': 'black'}\n"
     ]
    }
   ],
   "source": [
    "student={\"name\":\"akshaya\",\"age\":\"22\",\"course\":\"data analyst\",\"colour\":\"black\"}\n",
    "print(student)"
   ]
  },
  {
   "cell_type": "code",
   "execution_count": 117,
   "id": "60b9994b-f9a0-42a7-8f28-df3a5edd808c",
   "metadata": {},
   "outputs": [
    {
     "name": "stdout",
     "output_type": "stream",
     "text": [
      "{'name': 'strawberry', 'cost': '55', 'z': 'apple', 'cricketer': 'gill'}\n"
     ]
    }
   ],
   "source": [
    "dict={\"name\":\"strawberry\",\"cost\":\"55\",\"z\":\"apple\",\"cricketer\":\"gill\"}\n",
    "print(dict)"
   ]
  },
  {
   "cell_type": "markdown",
   "id": "64bbf653-e8dd-45ad-9546-ef2623b634c1",
   "metadata": {},
   "source": [
    "# 3.modify the dictionaries"
   ]
  },
  {
   "cell_type": "code",
   "execution_count": 31,
   "id": "3e18c586-8178-4b3b-92e4-a314bce44112",
   "metadata": {},
   "outputs": [
    {
     "name": "stdout",
     "output_type": "stream",
     "text": [
      "{'name': 'akshaya', 'age': '22', 'course': 'python'}\n"
     ]
    }
   ],
   "source": [
    "student={\"name\":\"akshaya\",\"age\":\"22\",\"course\":\"data analyst\"}\n",
    "student[\"course\"] = \"python\"\n",
    "print(student)"
   ]
  },
  {
   "cell_type": "code",
   "execution_count": 35,
   "id": "9b6cf220-bd37-4d40-b0ac-14de73227c0b",
   "metadata": {},
   "outputs": [
    {
     "name": "stdout",
     "output_type": "stream",
     "text": [
      "{'name': 'akshaya', 'age': '20', 'course': 'data analyst'}\n"
     ]
    }
   ],
   "source": [
    "student={\"name\":\"akshaya\",\"age\":\"22\",\"course\":\"data analyst\"}\n",
    "student[\"age\"]= \"20\"\n",
    "print(student)"
   ]
  },
  {
   "cell_type": "code",
   "execution_count": 37,
   "id": "0a99d55a-e2a7-4a98-8060-37e0aae61d71",
   "metadata": {},
   "outputs": [
    {
     "name": "stdout",
     "output_type": "stream",
     "text": [
      "{'name': 'apple', 'cost': '55'}\n"
     ]
    }
   ],
   "source": [
    "fruits={\"name\":\"apple\",\"cost\":\"44\"}\n",
    "fruits[\"cost\"]=\"55\"\n",
    "print(fruits)"
   ]
  },
  {
   "cell_type": "code",
   "execution_count": 39,
   "id": "8f91ac3a-6e41-4dec-8979-f964c35a26f4",
   "metadata": {},
   "outputs": [
    {
     "name": "stdout",
     "output_type": "stream",
     "text": [
      "{'name': 'ms dhoni', 'jersy number': '7', 'score': '101'}\n"
     ]
    }
   ],
   "source": [
    "cricketers={\"name\":\"ms dhoni\",\"jersy number\":\"77\",\"score\":\"101\"}\n",
    "cricketers[\"jersy number\"]=\"7\"\n",
    "print(cricketers)"
   ]
  },
  {
   "cell_type": "code",
   "execution_count": 41,
   "id": "df1af2a5-7a83-4654-9d5b-8d7509ca5421",
   "metadata": {},
   "outputs": [
    {
     "name": "stdout",
     "output_type": "stream",
     "text": [
      "{'brand': 'volkswagen AG', 'model': 'porsche', 'year': '2011'}\n"
     ]
    }
   ],
   "source": [
    "z={\"brand\":\"volkswagen AG\",\"model\":\"porsche\",\"year\":\"2011\"}\n",
    "print(z)"
   ]
  },
  {
   "cell_type": "markdown",
   "id": "2f1a5fcc-55fa-4a6c-8c3a-6b52cc9de9e3",
   "metadata": {},
   "source": [
    "# 4. adding a new entry"
   ]
  },
  {
   "cell_type": "code",
   "execution_count": 43,
   "id": "26f1b31c-3ccd-4c8d-b720-e9ec33675a00",
   "metadata": {},
   "outputs": [
    {
     "name": "stdout",
     "output_type": "stream",
     "text": [
      "{'name': 'sai', 'age': '22', 'job': 'associate developer'}\n",
      "{'name': 'sai', 'age': '22', 'job': 'associate developer', 'company': 'accenture'}\n"
     ]
    }
   ],
   "source": [
    "student={\"name\":\"sai\",\"age\":\"22\",\"job\":\"associate developer\"}\n",
    "print(student)\n",
    "student[\"company\"]=\"accenture\"\n",
    "print(student)"
   ]
  },
  {
   "cell_type": "code",
   "execution_count": 47,
   "id": "2299c745-57dd-4171-a17d-fe36c789fa59",
   "metadata": {},
   "outputs": [
    {
     "name": "stdout",
     "output_type": "stream",
     "text": [
      "{'name': 'sai', 'age': '22', 'job': 'associate developer', 'company': 'accenture', 'salary': '28,000'}\n"
     ]
    }
   ],
   "source": [
    "student={\"name\":\"sai\",\"age\":\"22\",\"job\":\"associate developer\"}\n",
    "student[\"company\"]=\"accenture\"\n",
    "student[\"salary\"]=\"28,000\"\n",
    "print(student)"
   ]
  },
  {
   "cell_type": "code",
   "execution_count": 51,
   "id": "8b1ff7bf-4576-4604-a98b-45e91bee40a6",
   "metadata": {},
   "outputs": [
    {
     "name": "stdout",
     "output_type": "stream",
     "text": [
      "{'name': 'ms dhoni', 'age': '43', 'place': 'ranchi', 'score': '101', 'country': 'india'}\n"
     ]
    }
   ],
   "source": [
    "cricketer={\"name\":\"ms dhoni\",\"age\":\"43\",\"place\":\"ranchi\"}\n",
    "cricketer[\"score\"]=\"101\"\n",
    "cricketer[\"country\"]=\"india\"\n",
    "print(cricketer)"
   ]
  },
  {
   "cell_type": "code",
   "execution_count": 53,
   "id": "f077ff84-d115-4c35-9579-f01d6bed133d",
   "metadata": {},
   "outputs": [
    {
     "name": "stdout",
     "output_type": "stream",
     "text": [
      "{'a': '5', 'b': '6', 'name': 'akshaya'}\n"
     ]
    }
   ],
   "source": [
    "z={\"a\":\"5\",\"b\":\"6\"}\n",
    "z[\"name\"]=\"akshaya\"\n",
    "print(z)"
   ]
  },
  {
   "cell_type": "code",
   "execution_count": 55,
   "id": "7e7aacff-bb13-4a0c-915b-213289f39507",
   "metadata": {},
   "outputs": [
    {
     "name": "stdout",
     "output_type": "stream",
     "text": [
      "{'a': '5', 'b': '6', 'd': '90'}\n"
     ]
    }
   ],
   "source": [
    "z={\"a\":\"5\",\"b\":\"6\"}\n",
    "z[\"d\"]=\"90\"\n",
    "print(z)"
   ]
  },
  {
   "cell_type": "code",
   "execution_count": 57,
   "id": "2a0f9798-ddec-49da-9343-92ede3fa4b63",
   "metadata": {},
   "outputs": [
    {
     "name": "stdout",
     "output_type": "stream",
     "text": [
      "{'a': '5', 'name': 'akshaya', 'x': '55'}\n"
     ]
    }
   ],
   "source": [
    "z={\"a\":\"5\"}\n",
    "z[\"name\"]=\"akshaya\"\n",
    "z[\"x\"]=\"55\"\n",
    "print(z)"
   ]
  },
  {
   "cell_type": "markdown",
   "id": "d95a06f7-35f4-4ec2-8afd-9c029273339f",
   "metadata": {},
   "source": [
    "# 5. methods for dict"
   ]
  },
  {
   "cell_type": "markdown",
   "id": "a148bf9d-e265-4227-a968-f61bf9a93ace",
   "metadata": {},
   "source": [
    "1. clear(): removes all the elements from the dictionary"
   ]
  },
  {
   "cell_type": "code",
   "execution_count": 59,
   "id": "9fa18c26-b49f-4104-998c-6317c16cb677",
   "metadata": {},
   "outputs": [
    {
     "name": "stdout",
     "output_type": "stream",
     "text": [
      "{}\n"
     ]
    }
   ],
   "source": [
    "#example\n",
    "student={\"name\":\"akshaya\",\"age\":\"22\",\"course\":\"data analyst\"}\n",
    "student.clear()\n",
    "print(student)"
   ]
  },
  {
   "cell_type": "markdown",
   "id": "cd73fab7-ce6c-40ea-90f4-5f5342188a3b",
   "metadata": {},
   "source": [
    "2. copy(): returns a copy of the dictionary"
   ]
  },
  {
   "cell_type": "code",
   "execution_count": 65,
   "id": "0a40ad77-cb6a-4586-bd2a-09a9027f60f9",
   "metadata": {},
   "outputs": [
    {
     "data": {
      "text/plain": [
       "{'name': 'akshaya', 'age': '22', 'course': 'data analyst'}"
      ]
     },
     "execution_count": 65,
     "metadata": {},
     "output_type": "execute_result"
    }
   ],
   "source": [
    "student={\"name\":\"akshaya\",\"age\":\"22\",\"course\":\"data analyst\"}\n",
    "student.copy()"
   ]
  },
  {
   "cell_type": "markdown",
   "id": "9cecc0f8-cb75-48c0-9284-7ca966bf67ea",
   "metadata": {},
   "source": [
    "3. fromkeys(): returns a dictionary with the specified keys and value"
   ]
  },
  {
   "cell_type": "code",
   "execution_count": 71,
   "id": "59299eb2-e333-408c-adc5-13005e9d10c2",
   "metadata": {},
   "outputs": [
    {
     "name": "stdout",
     "output_type": "stream",
     "text": [
      "{'name': 0, 'age': 0, 'course': 0}\n"
     ]
    }
   ],
   "source": [
    "student={\"name\":\"akshaya\",\"age\":\"22\",\"course\":\"data analyst\"}\n",
    "y=0\n",
    "thisdict=dict.fromkeys(student,y)\n",
    "print(thisdict)"
   ]
  },
  {
   "cell_type": "markdown",
   "id": "0aab0b29-7c6e-4483-8e5f-9d821f869bec",
   "metadata": {},
   "source": [
    "4. get(): returns the value of the specified key"
   ]
  },
  {
   "cell_type": "code",
   "execution_count": 77,
   "id": "0b45a405-7962-4760-9bca-fe4446e70a6a",
   "metadata": {},
   "outputs": [
    {
     "data": {
      "text/plain": [
       "'22'"
      ]
     },
     "execution_count": 77,
     "metadata": {},
     "output_type": "execute_result"
    }
   ],
   "source": [
    "student={\"name\":\"akshaya\",\"age\":\"22\",\"course\":\"data analyst\"}\n",
    "student.get(\"age\")"
   ]
  },
  {
   "cell_type": "markdown",
   "id": "62a2872e-7a01-4066-bf31-ecd994cc9efc",
   "metadata": {},
   "source": [
    "5.items(): returns a list containing a tuple for each key value pair"
   ]
  },
  {
   "cell_type": "code",
   "execution_count": 83,
   "id": "54e0aaae-d6bd-45d2-9edf-b282fa5dbc4a",
   "metadata": {},
   "outputs": [
    {
     "data": {
      "text/plain": [
       "dict_items([('name', 'akshaya'), ('age', '22'), ('course', 'data analyst')])"
      ]
     },
     "execution_count": 83,
     "metadata": {},
     "output_type": "execute_result"
    }
   ],
   "source": [
    "student={\"name\":\"akshaya\",\"age\":\"22\",\"course\":\"data analyst\"}\n",
    "student.items()"
   ]
  },
  {
   "cell_type": "markdown",
   "id": "160c5697-261e-42cc-aa41-3d307b72b4f3",
   "metadata": {},
   "source": [
    "6.keys():returns a list containing the dictionarys keys"
   ]
  },
  {
   "cell_type": "code",
   "execution_count": 85,
   "id": "5784742f-5343-4cff-9c1f-9425d030dac7",
   "metadata": {},
   "outputs": [
    {
     "data": {
      "text/plain": [
       "dict_keys(['name', 'age', 'course'])"
      ]
     },
     "execution_count": 85,
     "metadata": {},
     "output_type": "execute_result"
    }
   ],
   "source": [
    "student={\"name\":\"akshaya\",\"age\":\"22\",\"course\":\"data analyst\"}\n",
    "student.keys()"
   ]
  },
  {
   "cell_type": "markdown",
   "id": "c0342318-167a-4b3d-80b3-cead1f8aca1e",
   "metadata": {},
   "source": [
    "7.pop():removes the element with the specified key"
   ]
  },
  {
   "cell_type": "code",
   "execution_count": 89,
   "id": "385d2260-8540-474f-8845-a2a734387db3",
   "metadata": {},
   "outputs": [
    {
     "name": "stdout",
     "output_type": "stream",
     "text": [
      "{'name': 'akshaya', 'course': 'data analyst'}\n"
     ]
    }
   ],
   "source": [
    "student={\"name\":\"akshaya\",\"age\":\"22\",\"course\":\"data analyst\"}\n",
    "student.pop(\"age\")\n",
    "print(student)"
   ]
  },
  {
   "cell_type": "markdown",
   "id": "3f3c5d2d-3607-407f-ae96-70c6a3da6d35",
   "metadata": {},
   "source": [
    "8.popitem():removes the last inserted key-value pair"
   ]
  },
  {
   "cell_type": "code",
   "execution_count": 93,
   "id": "4e75ab5b-3605-4690-bc85-475df9d2bae3",
   "metadata": {},
   "outputs": [
    {
     "name": "stdout",
     "output_type": "stream",
     "text": [
      "{'name': 'akshaya', 'age': '22'}\n"
     ]
    }
   ],
   "source": [
    "student={\"name\":\"akshaya\",\"age\":\"22\",\"course\":\"data analyst\"}\n",
    "student.popitem()\n",
    "print(student)"
   ]
  },
  {
   "cell_type": "markdown",
   "id": "ccfbb95e-b9b0-487c-8401-1125317c7d67",
   "metadata": {},
   "source": [
    "9.update():updates the dictionary with the specified key-value pairs"
   ]
  },
  {
   "cell_type": "code",
   "execution_count": 101,
   "id": "38696178-7973-4381-8a3d-17a4e242215f",
   "metadata": {},
   "outputs": [
    {
     "name": "stdout",
     "output_type": "stream",
     "text": [
      "{'name': 'akshaya', 'age': '22', 'course': 'data analyst', 'colour': 'black'}\n"
     ]
    }
   ],
   "source": [
    "student={\"name\":\"akshaya\",\"age\":\"22\",\"course\":\"data analyst\"}\n",
    "student.update({\"colour\":\"black\"})\n",
    "print(student)"
   ]
  },
  {
   "cell_type": "markdown",
   "id": "7553931a-159b-42f8-b121-0b57ac7cb1ed",
   "metadata": {},
   "source": [
    "10.values():returns a list of all the values in the dictionary"
   ]
  },
  {
   "cell_type": "code",
   "execution_count": 103,
   "id": "4526aa6b-bdc4-4ff4-81f7-5ff16c7f2404",
   "metadata": {},
   "outputs": [
    {
     "data": {
      "text/plain": [
       "dict_values(['akshaya', '22', 'data analyst'])"
      ]
     },
     "execution_count": 103,
     "metadata": {},
     "output_type": "execute_result"
    }
   ],
   "source": [
    "student={\"name\":\"akshaya\",\"age\":\"22\",\"course\":\"data analyst\"}\n",
    "student.values()"
   ]
  },
  {
   "cell_type": "markdown",
   "id": "c0838336-7e82-42f5-a8f5-7cfa0af4ecec",
   "metadata": {},
   "source": [
    "11.setdefault():returns the key value of the specified key.if the key doesnot exist:insert the key,with the specified value"
   ]
  },
  {
   "cell_type": "code",
   "execution_count": 107,
   "id": "04376f51-d7c9-488c-b6d5-f5e4626804b6",
   "metadata": {},
   "outputs": [
    {
     "name": "stdout",
     "output_type": "stream",
     "text": [
      "22\n"
     ]
    }
   ],
   "source": [
    "student={\"name\":\"akshaya\",\"age\":\"22\",\"course\":\"data analyst\"}\n",
    "z=student.setdefault(\"age\",\"66\")\n",
    "print(z)"
   ]
  }
 ],
 "metadata": {
  "kernelspec": {
   "display_name": "Python 3 (ipykernel)",
   "language": "python",
   "name": "python3"
  },
  "language_info": {
   "codemirror_mode": {
    "name": "ipython",
    "version": 3
   },
   "file_extension": ".py",
   "mimetype": "text/x-python",
   "name": "python",
   "nbconvert_exporter": "python",
   "pygments_lexer": "ipython3",
   "version": "3.12.4"
  }
 },
 "nbformat": 4,
 "nbformat_minor": 5
}
