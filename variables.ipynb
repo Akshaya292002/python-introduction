{
 "cells": [
  {
   "cell_type": "markdown",
   "id": "5d0648f9-dc2d-41d9-837c-e609c1229e90",
   "metadata": {},
   "source": [
    "# 1.Explain about variables\n",
    "- a python variable is a reserved memory location to store values,this means when you create a variable you reserve some space in the memory\n",
    "- python variables are simply containers for storing data values.unlike other languages,such as java,python has no command for declaring a variabl,so you create one the moment you first assign a value to it\n",
    "- the variable acts as a address for where the data is stored in memory.a python variable may assigned a value of a different type\n",
    "for example:\n",
    "x=\"apples\" can later be x=7"
   ]
  },
  {
   "cell_type": "markdown",
   "id": "dc422bbb-dc30-4b73-a445-df82c8a03814",
   "metadata": {},
   "source": [
    "# 2.rules of variables\n",
    "- A variable name can only contain alpha-numeric characters and underscores(A-z,0-9,_)\n",
    "- variable name can't start with digits\n",
    "- a variable name cannot start with a number or any special character like $,(,*,% etc\n",
    "- python reserved keywords cannot be used naming the variable\n",
    "- python variable names are case-sensitive which means Name and NAME are two different variablesin python"
   ]
  },
  {
   "cell_type": "markdown",
   "id": "701c0106-c7de-4377-93b6-611f0955e5af",
   "metadata": {},
   "source": [
    "# 3. Types of variables\n",
    "there are 2 types of variables\n",
    ". single\n",
    ". multiple\n",
    "\n",
    "single variable in python:\n",
    "- a single variable in python is a variable that can store a single value such as an integer,float,or complex number\n",
    "- defining a single variable is as simple as assigning a value to a variable name using the equal sign('=')\n",
    "  example:\n",
    "  a=5\n",
    "  \n",
    "multiple variable in python:\n",
    "- python allows to work with multiple variables simultaneously by defining them in a single statement or line.\n",
    "  there are 2 types:\n",
    ". multiple to multiple:python allows to assign values to multiple variables in one line\n",
    "  example:\n",
    "  x,y,z=1,2,3\n",
    ". multiple to single:you can assign same value to multiple variable in one line\n",
    "  example:\n",
    "  x=y=z=\"akshaya\""
   ]
  },
  {
   "cell_type": "markdown",
   "id": "fbcfd099-0f96-4d42-a81c-f8932c7a40a6",
   "metadata": {},
   "source": [
    "# 4. 10 examples of each and every type\n",
    "# 5. you need to print and identify the type\n",
    "1. single variable"
   ]
  },
  {
   "cell_type": "code",
   "execution_count": 1,
   "id": "43abb846-e99a-4002-ab20-17c13fb876a6",
   "metadata": {},
   "outputs": [
    {
     "name": "stdout",
     "output_type": "stream",
     "text": [
      "7\n",
      "<class 'int'>\n"
     ]
    }
   ],
   "source": [
    "#1 \n",
    "a=7\n",
    "print(a)\n",
    "print(type(a))"
   ]
  },
  {
   "cell_type": "code",
   "execution_count": 9,
   "id": "3846642f-4fd6-49f1-875d-ca15917b2bb7",
   "metadata": {},
   "outputs": [
    {
     "name": "stdout",
     "output_type": "stream",
     "text": [
      "-456\n",
      "<class 'int'>\n"
     ]
    }
   ],
   "source": [
    "#2\n",
    "b=-456\n",
    "print(b)\n",
    "print(type(b))"
   ]
  },
  {
   "cell_type": "code",
   "execution_count": 7,
   "id": "cb48ddbf-45e6-4d9b-a941-db989f30767c",
   "metadata": {},
   "outputs": [
    {
     "name": "stdout",
     "output_type": "stream",
     "text": [
      "23.8\n",
      "<class 'float'>\n"
     ]
    }
   ],
   "source": [
    "#3\n",
    "c=23.8\n",
    "print(c)\n",
    "print(type(c))"
   ]
  },
  {
   "cell_type": "code",
   "execution_count": 11,
   "id": "3554cb8b-1646-4f3a-8369-9d17ea3d246c",
   "metadata": {},
   "outputs": [
    {
     "name": "stdout",
     "output_type": "stream",
     "text": [
      "0.0065\n",
      "<class 'float'>\n"
     ]
    }
   ],
   "source": [
    "#4\n",
    "d=0.0065\n",
    "print(d)\n",
    "print(type(d))"
   ]
  },
  {
   "cell_type": "code",
   "execution_count": 13,
   "id": "774172e3-bff9-41be-9d87-fbf1890a7a5a",
   "metadata": {},
   "outputs": [
    {
     "name": "stdout",
     "output_type": "stream",
     "text": [
      "77\n",
      "<class 'int'>\n"
     ]
    }
   ],
   "source": [
    "#5\n",
    "akshaya=77\n",
    "print(akshaya)\n",
    "print(type(akshaya))"
   ]
  },
  {
   "cell_type": "code",
   "execution_count": 15,
   "id": "409ac042-b411-4a9d-a8b3-098f7a91ef8d",
   "metadata": {},
   "outputs": [
    {
     "name": "stdout",
     "output_type": "stream",
     "text": [
      "(12+67j)\n",
      "<class 'complex'>\n"
     ]
    }
   ],
   "source": [
    "#6\n",
    "j=12+67j\n",
    "print(j)\n",
    "print(type(j))"
   ]
  },
  {
   "cell_type": "code",
   "execution_count": 17,
   "id": "73d71220-24c2-4101-a27b-f9fb5b167e5a",
   "metadata": {},
   "outputs": [
    {
     "name": "stdout",
     "output_type": "stream",
     "text": [
      "234\n",
      "<class 'int'>\n"
     ]
    }
   ],
   "source": [
    "#7\n",
    "z=234\n",
    "print(z)\n",
    "print(type(z))"
   ]
  },
  {
   "cell_type": "code",
   "execution_count": 19,
   "id": "4f0a1b74-6541-4356-80bd-397bdf30c78d",
   "metadata": {},
   "outputs": [
    {
     "name": "stdout",
     "output_type": "stream",
     "text": [
      "7\n",
      "<class 'int'>\n"
     ]
    }
   ],
   "source": [
    "#8\n",
    "dhoni=7\n",
    "print(dhoni)\n",
    "print(type(dhoni))"
   ]
  },
  {
   "cell_type": "code",
   "execution_count": 21,
   "id": "f06052d0-fdd8-48ac-91e1-ca48a47bf8b7",
   "metadata": {},
   "outputs": [
    {
     "name": "stdout",
     "output_type": "stream",
     "text": [
      "0.77\n",
      "<class 'float'>\n"
     ]
    }
   ],
   "source": [
    "#9\n",
    "gill=0.77\n",
    "print(gill)\n",
    "print(type(gill))"
   ]
  },
  {
   "cell_type": "code",
   "execution_count": 23,
   "id": "e6c796ee-119d-4d87-835d-cedf4522dd22",
   "metadata": {},
   "outputs": [
    {
     "name": "stdout",
     "output_type": "stream",
     "text": [
      "24567.6\n",
      "<class 'float'>\n"
     ]
    }
   ],
   "source": [
    "#10\n",
    "name=24567.6\n",
    "print(name)\n",
    "print(type(name))"
   ]
  },
  {
   "cell_type": "markdown",
   "id": "8aa97bc7-e381-46e8-951a-38f37a827547",
   "metadata": {},
   "source": [
    "2.multiple variables:\n",
    ". multi to multi\n",
    ". multi to one\n",
    ". one to multi"
   ]
  },
  {
   "cell_type": "code",
   "execution_count": 25,
   "id": "dc6203e9-bdd6-4d7f-845a-4e9722185a55",
   "metadata": {},
   "outputs": [
    {
     "name": "stdout",
     "output_type": "stream",
     "text": [
      "1\n",
      "2\n",
      "3\n",
      "<class 'int'>\n",
      "<class 'int'>\n",
      "<class 'int'>\n"
     ]
    }
   ],
   "source": [
    "#multi to multi\n",
    "a,b,c=1,2,3\n",
    "print(a)\n",
    "print(b)\n",
    "print(c)\n",
    "print(type(a))\n",
    "print(type(b))\n",
    "print(type(c))"
   ]
  },
  {
   "cell_type": "code",
   "execution_count": 27,
   "id": "16ec3113-e9ea-46bd-be7d-fe954a80a7cd",
   "metadata": {},
   "outputs": [
    {
     "name": "stdout",
     "output_type": "stream",
     "text": [
      "3\n",
      "7\n",
      "77\n",
      "<class 'int'>\n"
     ]
    }
   ],
   "source": [
    "akshaya,dhoni,gill=3,7,77\n",
    "print(akshaya)\n",
    "print(dhoni)\n",
    "print(gill)\n",
    "print(type(dhoni))"
   ]
  },
  {
   "cell_type": "code",
   "execution_count": 29,
   "id": "7514b4ef-edb7-4bd9-bfd6-4915bf0c1ec3",
   "metadata": {},
   "outputs": [
    {
     "name": "stdout",
     "output_type": "stream",
     "text": [
      "12\n",
      "0.34\n",
      "(8+5j)\n",
      "<class 'int'>\n",
      "<class 'float'>\n",
      "<class 'complex'>\n"
     ]
    }
   ],
   "source": [
    "a,b,c=12,0.34,8+5j\n",
    "print(a)\n",
    "print(b)\n",
    "print(c)\n",
    "print(type(a))\n",
    "print(type(b))\n",
    "print(type(c))"
   ]
  },
  {
   "cell_type": "code",
   "execution_count": 31,
   "id": "97485a14-32e5-4507-9599-bde6606b1bb1",
   "metadata": {},
   "outputs": [
    {
     "name": "stdout",
     "output_type": "stream",
     "text": [
      "3\n",
      "0.7\n",
      "(77+7j)\n",
      "<class 'float'>\n"
     ]
    }
   ],
   "source": [
    "akshaya,dhoni,gill=3,0.7,77+7j\n",
    "print(akshaya)\n",
    "print(dhoni)\n",
    "print(gill)\n",
    "print(type(dhoni))"
   ]
  },
  {
   "cell_type": "code",
   "execution_count": 33,
   "id": "b1bf056a-b195-45ec-8a64-e1cb51cd5a52",
   "metadata": {},
   "outputs": [
    {
     "name": "stdout",
     "output_type": "stream",
     "text": [
      "-234\n",
      "-0.44\n",
      "(23+7j)\n",
      "<class 'int'>\n",
      "<class 'float'>\n",
      "<class 'complex'>\n"
     ]
    }
   ],
   "source": [
    "ramya,divya,akshaya=-234,-0.44,23+7j\n",
    "print(ramya)\n",
    "print(divya)\n",
    "print(akshaya)\n",
    "print(type(ramya))\n",
    "print(type(divya))\n",
    "print(type(akshaya))"
   ]
  },
  {
   "cell_type": "code",
   "execution_count": 35,
   "id": "34696dd8-79fb-4f0f-80ba-4b552663bf09",
   "metadata": {},
   "outputs": [
    {
     "name": "stdout",
     "output_type": "stream",
     "text": [
      "77\n",
      "77\n",
      "77\n",
      "<class 'int'>\n",
      "<class 'int'>\n",
      "<class 'int'>\n"
     ]
    }
   ],
   "source": [
    "#multi to one\n",
    "akshaya=dhoni=gill=77\n",
    "print(akshaya)\n",
    "print(dhoni)\n",
    "print(gill)\n",
    "print(type(akshaya))\n",
    "print(type(dhoni))\n",
    "print(type(gill))"
   ]
  },
  {
   "cell_type": "code",
   "execution_count": 37,
   "id": "59463730-10ba-4e65-a35c-7f9347178cb3",
   "metadata": {},
   "outputs": [
    {
     "name": "stdout",
     "output_type": "stream",
     "text": [
      "0.7\n",
      "0.7\n",
      "0.7\n",
      "<class 'float'>\n",
      "<class 'float'>\n",
      "<class 'float'>\n"
     ]
    }
   ],
   "source": [
    "a=b=c=0.7\n",
    "print(a)\n",
    "print(b)\n",
    "print(c)\n",
    "print(type(a))\n",
    "print(type(b))\n",
    "print(type(c))"
   ]
  },
  {
   "cell_type": "code",
   "execution_count": 39,
   "id": "24533fa7-8cd4-4d8a-89b9-8d11b90a2d67",
   "metadata": {},
   "outputs": [
    {
     "name": "stdout",
     "output_type": "stream",
     "text": [
      "(7+77j)\n",
      "(7+77j)\n",
      "(7+77j)\n",
      "<class 'complex'>\n",
      "<class 'complex'>\n",
      "<class 'complex'>\n"
     ]
    }
   ],
   "source": [
    "r=a=m=7+77j\n",
    "print(r)\n",
    "print(a)\n",
    "print(m)\n",
    "print(type(r))\n",
    "print(type(a))\n",
    "print(type(m))"
   ]
  },
  {
   "cell_type": "code",
   "execution_count": 41,
   "id": "9c3059f5-d44a-43a9-a452-0d2f9ebc718f",
   "metadata": {},
   "outputs": [
    {
     "name": "stdout",
     "output_type": "stream",
     "text": [
      "3\n",
      "7\n",
      "77\n",
      "<class 'int'>\n",
      "<class 'int'>\n",
      "<class 'int'>\n"
     ]
    }
   ],
   "source": [
    "#one to multiple\n",
    "a=3,7,77\n",
    "print(a[0])\n",
    "print(a[1])\n",
    "print(a[2])\n",
    "print(type(a[0]))\n",
    "print(type(a[1]))\n",
    "print(type(a[2]))"
   ]
  },
  {
   "cell_type": "code",
   "execution_count": 45,
   "id": "5f023857-162d-417a-9d46-24dc2105477e",
   "metadata": {},
   "outputs": [
    {
     "name": "stdout",
     "output_type": "stream",
     "text": [
      "(2+7j)\n",
      "7\n",
      "0.44\n",
      "<class 'complex'>\n",
      "<class 'int'>\n",
      "<class 'float'>\n"
     ]
    }
   ],
   "source": [
    "b=2+7j,7,0.44\n",
    "print(b[0])\n",
    "print(b[1])\n",
    "print(b[2])\n",
    "print(type(b[0]))\n",
    "print(type(b[1]))\n",
    "print(type(b[2]))"
   ]
  },
  {
   "cell_type": "code",
   "execution_count": 47,
   "id": "373dfcea-3022-4382-8bd9-8f2c3bd056e3",
   "metadata": {},
   "outputs": [
    {
     "name": "stdout",
     "output_type": "stream",
     "text": [
      "(23+7j)\n",
      "(7+77j)\n",
      "0.77\n",
      "<class 'complex'>\n",
      "<class 'complex'>\n",
      "<class 'float'>\n"
     ]
    }
   ],
   "source": [
    "c=23+7j,7+77j,0.77\n",
    "print(c[0])\n",
    "print(c[1])\n",
    "print(c[2])\n",
    "print(type(c[0]))\n",
    "print(type(c[1]))\n",
    "print(type(c[2]))"
   ]
  }
 ],
 "metadata": {
  "kernelspec": {
   "display_name": "Python 3 (ipykernel)",
   "language": "python",
   "name": "python3"
  },
  "language_info": {
   "codemirror_mode": {
    "name": "ipython",
    "version": 3
   },
   "file_extension": ".py",
   "mimetype": "text/x-python",
   "name": "python",
   "nbconvert_exporter": "python",
   "pygments_lexer": "ipython3",
   "version": "3.12.4"
  }
 },
 "nbformat": 4,
 "nbformat_minor": 5
}
