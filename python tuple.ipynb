{
 "cells": [
  {
   "cell_type": "markdown",
   "id": "1db5cef1-6502-46cf-a1b2-fcc5005e6526",
   "metadata": {},
   "source": [
    "# 1. define tuple\n",
    "- a tuple is a data type that represents an ordered,immutable(unchangeable) sequence of elements\n",
    "- tuples are similar to lists,but the key difference is that tuples cannot be modified once they are created\n",
    "- they are defined using parentheses() and elements are seperated by commas\n",
    "- it allows duplicates"
   ]
  },
  {
   "cell_type": "markdown",
   "id": "9582dea3-2fba-4a8b-919a-8a187ff5c0d8",
   "metadata": {},
   "source": [
    "# 2 write 10 examples of tuple"
   ]
  },
  {
   "cell_type": "code",
   "execution_count": 8,
   "id": "fe0e5bf7-cbe8-4f47-b4b5-c56e5d4f5099",
   "metadata": {},
   "outputs": [
    {
     "name": "stdout",
     "output_type": "stream",
     "text": [
      "<class 'tuple'>\n"
     ]
    }
   ],
   "source": [
    "cricketers=(\"msdhoni\",\"gill\",\"sanju\")\n",
    "print(type(cricketers))"
   ]
  },
  {
   "cell_type": "code",
   "execution_count": 10,
   "id": "4e9c4310-b44c-4b0b-a7ca-33a470e14ca3",
   "metadata": {},
   "outputs": [
    {
     "name": "stdout",
     "output_type": "stream",
     "text": [
      "('akshaya', 'ram', 'dhoni')\n"
     ]
    }
   ],
   "source": [
    "name=(\"akshaya\",\"ram\",\"dhoni\")\n",
    "print(name)"
   ]
  },
  {
   "cell_type": "code",
   "execution_count": 12,
   "id": "4b0a4f5b-ac95-4650-a65b-81de505e2b68",
   "metadata": {},
   "outputs": [
    {
     "name": "stdout",
     "output_type": "stream",
     "text": [
      "('akshaya', 'ram', 'gill', 'sanju', 'hardik', 'ram', 'akshaya', 'hardik')\n"
     ]
    }
   ],
   "source": [
    "cricketers=(\"akshaya\",\"ram\",\"gill\",\"sanju\",\"hardik\",\"ram\",\"akshaya\",\"hardik\")\n",
    "print(cricketers)"
   ]
  },
  {
   "cell_type": "code",
   "execution_count": 14,
   "id": "0d2cca4d-ad4d-4396-a2cb-3167be7d1330",
   "metadata": {},
   "outputs": [
    {
     "name": "stdout",
     "output_type": "stream",
     "text": [
      "('mango', 'apple', 'grapes', 'banana', '7', '77')\n"
     ]
    }
   ],
   "source": [
    "fruits=(\"mango\",\"apple\",\"grapes\",\"banana\",\"7\",\"77\")\n",
    "print(fruits)"
   ]
  },
  {
   "cell_type": "code",
   "execution_count": 18,
   "id": "8391e6fc-ba4d-47dd-98f2-56d31f9586dd",
   "metadata": {},
   "outputs": [
    {
     "name": "stdout",
     "output_type": "stream",
     "text": [
      "('1', '3', '6', '4')\n",
      "<class 'tuple'>\n"
     ]
    }
   ],
   "source": [
    "a=(\"1\",\"3\",\"6\",\"4\")\n",
    "print(a)\n",
    "print(type(a))"
   ]
  },
  {
   "cell_type": "code",
   "execution_count": 20,
   "id": "1bddfb3a-e991-467c-b73a-0fb91d2cbe5e",
   "metadata": {},
   "outputs": [
    {
     "name": "stdout",
     "output_type": "stream",
     "text": [
      "('8+7j', '77', 'gill', 'mango', 'a')\n"
     ]
    }
   ],
   "source": [
    "tuple=(\"8+7j\",\"77\",\"gill\",\"mango\",\"a\")\n",
    "print(tuple)"
   ]
  },
  {
   "cell_type": "code",
   "execution_count": 22,
   "id": "4729c0f9-17d5-468b-8b99-24c2a9d9de5b",
   "metadata": {},
   "outputs": [
    {
     "name": "stdout",
     "output_type": "stream",
     "text": [
      "('ferrari', 'mercedes', 'mahindra thar', 'swift', 'baleno')\n"
     ]
    }
   ],
   "source": [
    "cars=(\"ferrari\",\"mercedes\",\"mahindra thar\",\"swift\",\"baleno\")\n",
    "print(cars)"
   ]
  },
  {
   "cell_type": "code",
   "execution_count": 26,
   "id": "9c9d6415-853e-42ef-8ad1-f8edee4c9a2a",
   "metadata": {},
   "outputs": [
    {
     "name": "stdout",
     "output_type": "stream",
     "text": [
      "(1, 2, 3, 4, 5, 6)\n"
     ]
    }
   ],
   "source": [
    "number=(1,2,3,4,5,6)\n",
    "print(number)"
   ]
  },
  {
   "cell_type": "code",
   "execution_count": 30,
   "id": "a9201601-3d75-483b-b02a-2f331504438e",
   "metadata": {},
   "outputs": [
    {
     "name": "stdout",
     "output_type": "stream",
     "text": [
      "('ferrari', 'akshaya', 'ram', '7', 'mango', 'maths', '66.7')\n"
     ]
    }
   ],
   "source": [
    "mixed_tuple=(\"ferrari\",\"akshaya\",\"ram\",\"7\",\"mango\",\"maths\",\"66.7\")\n",
    "print(mixed_tuple)"
   ]
  },
  {
   "cell_type": "code",
   "execution_count": 32,
   "id": "8eec2b9e-5b20-4305-b0a9-3293eac354f6",
   "metadata": {},
   "outputs": [
    {
     "name": "stdout",
     "output_type": "stream",
     "text": [
      "('mutton', 'chicken', 'fish')\n"
     ]
    }
   ],
   "source": [
    "dishes=(\"mutton\",\"chicken\",\"fish\")\n",
    "print(dishes)"
   ]
  },
  {
   "cell_type": "markdown",
   "id": "8cb4c532-efab-489b-8807-b36dd7b50c24",
   "metadata": {},
   "source": [
    "# 3.accessing of tuples"
   ]
  },
  {
   "cell_type": "code",
   "execution_count": 34,
   "id": "cab7ab77-dec9-4034-a09b-54b8ecefc047",
   "metadata": {},
   "outputs": [
    {
     "name": "stdout",
     "output_type": "stream",
     "text": [
      "('akshaya', 'ram', 'srija', 'chandu')\n",
      "<class 'tuple'>\n"
     ]
    }
   ],
   "source": [
    "name=(\"akshaya\",\"ram\",\"srija\",\"chandu\")\n",
    "print(name)\n",
    "print(type(name))"
   ]
  },
  {
   "cell_type": "code",
   "execution_count": 36,
   "id": "f1433999-15f8-4693-88cd-a1bb6c15f367",
   "metadata": {},
   "outputs": [
    {
     "name": "stdout",
     "output_type": "stream",
     "text": [
      "ram\n"
     ]
    }
   ],
   "source": [
    "print(name[1])"
   ]
  },
  {
   "cell_type": "code",
   "execution_count": 38,
   "id": "6ae4cf34-1fae-4129-85c8-28dbdf9c1d12",
   "metadata": {},
   "outputs": [
    {
     "name": "stdout",
     "output_type": "stream",
     "text": [
      "('mahi', 'gill', 'hardik')\n",
      "<class 'tuple'>\n"
     ]
    }
   ],
   "source": [
    "cricketer=(\"mahi\",\"gill\",\"hardik\")\n",
    "print(cricketer)\n",
    "print(type(cricketer))"
   ]
  },
  {
   "cell_type": "code",
   "execution_count": 40,
   "id": "be652c84-71b1-4410-aa9e-b0e5bfe19af6",
   "metadata": {},
   "outputs": [
    {
     "name": "stdout",
     "output_type": "stream",
     "text": [
      "('gill', 'hardik')\n"
     ]
    }
   ],
   "source": [
    "print(cricketer[1:3])"
   ]
  },
  {
   "cell_type": "code",
   "execution_count": 42,
   "id": "bf9a4775-f153-40ad-a8fc-fe6e38795010",
   "metadata": {},
   "outputs": [
    {
     "name": "stdout",
     "output_type": "stream",
     "text": [
      "('mahi', 'gill')\n"
     ]
    }
   ],
   "source": [
    "print(cricketer[0:-1])"
   ]
  },
  {
   "cell_type": "code",
   "execution_count": 44,
   "id": "24170951-a424-4700-8c63-856f03339d30",
   "metadata": {},
   "outputs": [
    {
     "name": "stdout",
     "output_type": "stream",
     "text": [
      "(8, 9, 0, 2)\n",
      "()\n"
     ]
    }
   ],
   "source": [
    "r=(5,6,7,8,9,0,2,1,3)\n",
    "print(r[3:7])\n",
    "print(r[-3:-6])"
   ]
  },
  {
   "cell_type": "markdown",
   "id": "7bec863d-8d8d-4852-ae7a-28c3af2316fd",
   "metadata": {},
   "source": [
    "# 4. tuple operations"
   ]
  },
  {
   "cell_type": "code",
   "execution_count": 54,
   "id": "53ca10e6-df37-4fc7-b11f-cc0a8059229e",
   "metadata": {},
   "outputs": [
    {
     "name": "stdout",
     "output_type": "stream",
     "text": [
      "('mahi', 'gill', 'hardik', 'sanju', 5, 6, 7)\n"
     ]
    }
   ],
   "source": [
    "cricketer=(\"mahi\",\"gill\",\"hardik\")\n",
    "a=(\"sanju\",)\n",
    "b=(5,6,7)\n",
    "total=cricketer+a+b\n",
    "print(total)"
   ]
  },
  {
   "cell_type": "code",
   "execution_count": 58,
   "id": "e26ff6ab-c458-445f-b4bb-803760560e9f",
   "metadata": {},
   "outputs": [
    {
     "name": "stdout",
     "output_type": "stream",
     "text": [
      "('srija', 'akshaya', 'ram', 'chandu', 'sri')\n"
     ]
    }
   ],
   "source": [
    "name=(\"srija\",\"akshaya\",\"ram\")\n",
    "z=(\"chandu\",)\n",
    "u=(\"sri\",)\n",
    "total=name+z+u\n",
    "print(total)"
   ]
  },
  {
   "cell_type": "code",
   "execution_count": 60,
   "id": "7596cefd-a10e-4fbf-88b6-33877e82ef20",
   "metadata": {},
   "outputs": [
    {
     "name": "stdout",
     "output_type": "stream",
     "text": [
      "(2, 7, 8, 5, 9, 34, 3.4, (3+7j))\n"
     ]
    }
   ],
   "source": [
    "numbers=(2,7,8,5,9)\n",
    "r=(34,3.4,)\n",
    "o=(3+7j,)\n",
    "total=numbers+r+o\n",
    "print(total)"
   ]
  },
  {
   "cell_type": "code",
   "execution_count": 62,
   "id": "c13bfa3a-905a-4822-92c2-9cc39b860904",
   "metadata": {},
   "outputs": [
    {
     "name": "stdout",
     "output_type": "stream",
     "text": [
      "(1, 2, 3, 1, 2, 3, 1, 2, 3, 1, 2, 3, 1, 2, 3, 1, 2, 3, 1, 2, 3)\n"
     ]
    }
   ],
   "source": [
    "number=(1,2,3)\n",
    "rep=number*7\n",
    "print(rep)"
   ]
  },
  {
   "cell_type": "code",
   "execution_count": 64,
   "id": "316f3b41-7ade-4f89-af12-a0d8b89876d3",
   "metadata": {},
   "outputs": [
    {
     "name": "stdout",
     "output_type": "stream",
     "text": [
      "('mahi', 'gill', 'mahi', 'gill', 'mahi', 'gill', 'mahi', 'gill', 'mahi', 'gill')\n"
     ]
    }
   ],
   "source": [
    "names=(\"mahi\",\"gill\")\n",
    "rep=names*5\n",
    "print(rep)"
   ]
  },
  {
   "cell_type": "markdown",
   "id": "7d78d869-882b-46c5-ab44-8eb6383fb83c",
   "metadata": {},
   "source": [
    "# 5. methods of tuple"
   ]
  },
  {
   "cell_type": "markdown",
   "id": "9ae9b1e1-7c7d-416e-bd13-931714b6af7e",
   "metadata": {},
   "source": [
    "1. count: returns the number of the times aa value has been occured"
   ]
  },
  {
   "cell_type": "code",
   "execution_count": 68,
   "id": "0aafd55e-ad63-4aa5-87e7-db5b3495b99a",
   "metadata": {},
   "outputs": [
    {
     "name": "stdout",
     "output_type": "stream",
     "text": [
      "2\n"
     ]
    }
   ],
   "source": [
    "#example\n",
    "number=(1,2,3,4,5,8,7,5,9)\n",
    "z=number.count(5)\n",
    "print(z)"
   ]
  },
  {
   "cell_type": "markdown",
   "id": "4aad3772-9d38-4afa-b0e9-35799dd8cbc9",
   "metadata": {},
   "source": [
    "2. index: returns the index position of the specific value"
   ]
  },
  {
   "cell_type": "code",
   "execution_count": 70,
   "id": "cdf18db0-270f-4503-a728-ccee04339157",
   "metadata": {},
   "outputs": [
    {
     "name": "stdout",
     "output_type": "stream",
     "text": [
      "4\n"
     ]
    }
   ],
   "source": [
    "#example\n",
    "number=(1,2,3,4,5,8,7,5,9)\n",
    "x=number.index(5)\n",
    "print(x)"
   ]
  }
 ],
 "metadata": {
  "kernelspec": {
   "display_name": "Python 3 (ipykernel)",
   "language": "python",
   "name": "python3"
  },
  "language_info": {
   "codemirror_mode": {
    "name": "ipython",
    "version": 3
   },
   "file_extension": ".py",
   "mimetype": "text/x-python",
   "name": "python",
   "nbconvert_exporter": "python",
   "pygments_lexer": "ipython3",
   "version": "3.12.4"
  }
 },
 "nbformat": 4,
 "nbformat_minor": 5
}
