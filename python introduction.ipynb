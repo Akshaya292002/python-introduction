{
 "cells": [
  {
   "cell_type": "markdown",
   "id": "ded3da9f-15ca-45a5-9e4f-c904a395a7ea",
   "metadata": {},
   "source": [
    "# 1. what is python  \n",
    "- python is a computer programming language often used to build web applications,software development and machine learning.\n",
    "- python is a high-level,general-purpose programming language.\n",
    "- python is an interpreted,interactive,object-oriented programming language."
   ]
  },
  {
   "cell_type": "markdown",
   "id": "6f66968f-553a-4b75-9338-8f041cce09bf",
   "metadata": {
    "jp-MarkdownHeadingCollapsed": true
   },
   "source": [
    "# 2. History of python\n",
    "- python is a high-level,interpreted programming language known for its readability and simplicity. created by Guido van rossum and first released in 1991, python was named after the BBC TV show Monty python's Flying Circus.\n",
    "- In 1994, python 1.0 was releades with new features like lambda,map,filter and reduce.\n",
    "  python 2.0 added new features such as list comprehensions,garbage collection systems.\n",
    "  on dec 3 2008, python 3.0(also called \"Py3K\") was released. it was designed to rectify the fundemental flow of the language\n",
    "some of the versions of python:-\n",
    "python 3.11.10 sept 7,2024\n",
    "python 3.10.15 sept 7,2024\n",
    "python 3.12.6 sept 6,2024\n",
    "python 3.9.20 sept 6,2024\n",
    "python 3.8.20 sept 6,2024\n",
    "python 3.11.8 feb 6,2024\n",
    "python 3.12.2 feb 6,2024\n",
    "python 3.12.0 oct 2,2023\n",
    "python 3.11.6 oct 2,2023\n",
    "python 3.10.13 Aug 24,2023"
   ]
  },
  {
   "cell_type": "markdown",
   "id": "9b0f0b71-39d2-43aa-9148-b406f7421af0",
   "metadata": {},
   "source": [
    "# 3.why we need to use python\n",
    "- Easy to learn and use: Python has a simple language tha is easy to read and write,making it accessible for beginners.\n",
    "- one of the main reason is its simplicity and readability.python has a clean and easy to understand syntax,making it beginner friendly and efficient for experienced developers.\n",
    "- python also has alot of builtin functions and libraries that make it versatile for different tasks like web development,dataa analysis and AI\n",
    "- python is a cross platform it can run on different operating systems like windows,macOs and linux"
   ]
  },
  {
   "cell_type": "markdown",
   "id": "361b3993-00d5-4508-9af3-f9c9e51da5e7",
   "metadata": {},
   "source": [
    "# 4.Applications of python\n",
    "- web Development: it is one of the most amazing applications of python. thsi is because python comesup with a wide range of frameworks like django,flask,bottle and a lot more that provide ease to developers.python has inbuilt linraries and tools which make the web development process completely effortless.\n",
    "\n",
    "- software Development: python is just the perfect option for software development.popular applications like google,netflix and reddit all use python.apart from these python offers enhanced features to work with growing technologies like machine learning and artificial intelligence.\n",
    "this language offers amazing features like:\n",
    ". inbuilt libraries and framework to provide ease of development\n",
    ". enhanced code reusability and readability\n",
    ". high compatability\n",
    "  \n",
    "- Data Analysis and visualization: python is a favourite in data science community,thanks to libraries like pandas and matplotlib.it allows users to analyze large datasets,perform statistical analysis and create insightful visualizations. \n"
   ]
  },
  {
   "cell_type": "markdown",
   "id": "944fb6c6-a09e-4883-8b36-663dceb9243b",
   "metadata": {},
   "source": [
    "# 5. Explain about keywords and implement\n",
    "- python keywords are Reserved keywords,you cannot use them as constant or variable or any identifier names\n",
    "- All the python keywords contain lowercase letters\n",
    "there are 4 sub keywords:-\n",
    ". value keywords\n",
    ". operator keywords\n",
    ". control keywords\n",
    ". iteration keywords"
   ]
  },
  {
   "cell_type": "code",
   "execution_count": 5,
   "id": "97d7d444-518a-44a3-9064-81cd3fc08402",
   "metadata": {},
   "outputs": [
    {
     "name": "stdout",
     "output_type": "stream",
     "text": [
      "['False', 'None', 'True', 'and', 'as', 'assert', 'async', 'await', 'break', 'class', 'continue', 'def', 'del', 'elif', 'else', 'except', 'finally', 'for', 'from', 'global', 'if', 'import', 'in', 'is', 'lambda', 'nonlocal', 'not', 'or', 'pass', 'raise', 'return', 'try', 'while', 'with', 'yield']\n"
     ]
    },
    {
     "data": {
      "text/plain": [
       "35"
      ]
     },
     "execution_count": 5,
     "metadata": {},
     "output_type": "execute_result"
    }
   ],
   "source": [
    "import keyword\n",
    "python_keywords=keyword.kwlist\n",
    "print(python_keywords)\n",
    "len(python_keywords)"
   ]
  },
  {
   "cell_type": "markdown",
   "id": "03dff399-08b1-485b-a1fa-7d76035f688b",
   "metadata": {},
   "source": [
    "# 6. Explain about comments and example\n",
    "- comments can be used to explain python code\n",
    "- comments are simple sentences that make code easier to understand\n",
    "- comments can be used to make code more readable and comments starts with a # then these cannot be run and python will ignore them\n",
    "There are 3 types of comments in python:-\n",
    ". single line comments\n",
    ". multiline comments\n",
    ". docstring comments\n",
    "\n",
    "n=7 #assigning 7 to n\n",
    "print(\"Hello, World!\") # this is a comment"
   ]
  },
  {
   "cell_type": "markdown",
   "id": "fb907af5-47a5-4396-8843-a54315468d76",
   "metadata": {},
   "source": [
    "# 7.explain indetail about variables with examples and rules\n",
    "- A python variable is a reserved memory location to store values,this means when you create a variable you reserve some space in the memory\n",
    "- python variables are simply containers for storing data values.unlike other languages,such as java,python has no command for declaring a variable,so you create one the moment you first assign a value to it\n",
    "- the variable acts as a address for where the data is stored in memory. A python variable may be assigned a value of one type and then later re assigned a value of a different type\n",
    "for example:\n",
    "x=\"apples\" can later be x=7\n",
    "\n",
    ". Rules to create a variable:\n",
    "- a variable name can only contain alpha-numeric characters and underscores(A-z,0-9,and _)\n",
    "- a variable name cannot start with a number or any special character like $,(,*,% etc\n",
    "- python reserved keywords cannot be used naming the variable\n",
    "- python variable names are case-sensitive which means Name and NAME are two different variables in python\n",
    "- variable name can't start with digits\n",
    "\n",
    " examples for variable:-\n",
    " \n",
    "- these are valid variables:\n",
    "_akshaya_29=7\n",
    "aks7781=2904\n",
    "n=2345\n",
    "_ak=29\n",
    "ak_3='akshaya'\n",
    "\n",
    "- these are some of invalid variables:\n",
    "@ak=5\n",
    "7aks=29\n",
    "AKS=2904\n",
    "29a37=7781\n",
    "AKSH AYA=29  \n"
   ]
  }
 ],
 "metadata": {
  "kernelspec": {
   "display_name": "Python 3 (ipykernel)",
   "language": "python",
   "name": "python3"
  },
  "language_info": {
   "codemirror_mode": {
    "name": "ipython",
    "version": 3
   },
   "file_extension": ".py",
   "mimetype": "text/x-python",
   "name": "python",
   "nbconvert_exporter": "python",
   "pygments_lexer": "ipython3",
   "version": "3.12.4"
  }
 },
 "nbformat": 4,
 "nbformat_minor": 5
}
